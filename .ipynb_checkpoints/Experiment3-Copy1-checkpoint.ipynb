{
 "cells": [
  {
   "cell_type": "markdown",
   "metadata": {},
   "source": [
    "## Import Libraries"
   ]
  },
  {
   "cell_type": "code",
   "execution_count": 1,
   "metadata": {},
   "outputs": [],
   "source": [
    "import networkx as nx\n",
    "import matplotlib.pyplot as plt\n",
    "import numpy as np"
   ]
  },
  {
   "cell_type": "code",
   "execution_count": 2,
   "metadata": {},
   "outputs": [],
   "source": [
    "import math\n",
    "import torch\n",
    "import torch.nn as nn\n",
    "import torch.nn.functional as F\n",
    "from torch.nn.parameter import Parameter\n",
    "from torch.nn.modules.module import Module\n",
    "import torch.optim as optim\n",
    "from torch.utils.data import Dataset, TensorDataset, DataLoader\n",
    "from torch.utils.data.dataset import random_split"
   ]
  },
  {
   "cell_type": "code",
   "execution_count": 3,
   "metadata": {},
   "outputs": [],
   "source": [
    "nxseed = 10\n",
    "device = torch.device('cuda:0' if torch.cuda.is_available() else 'cpu')\n",
    "np.random.seed(5)\n",
    "torch.manual_seed(5)\n",
    "if device is not \"cpu\":\n",
    "    torch.cuda.manual_seed(5)"
   ]
  },
  {
   "cell_type": "markdown",
   "metadata": {},
   "source": [
    "## Define dataset"
   ]
  },
  {
   "cell_type": "code",
   "execution_count": 196,
   "metadata": {},
   "outputs": [],
   "source": [
    "# def trim_edges(a, b):\n",
    "#     g_a = nx.Graph(a)\n",
    "#     g_b = nx.Graph(b)\n",
    "#     print(g_a.degree(), \"\\n\", g_b.degree())\n",
    "#     for node in range(len(g_a.degree)):\n",
    "#         print(\"Node :\", node)\n",
    "#         print(g_a.edges(node))\n",
    "#         print(g_b.edges(node))\n",
    "#         diff = len(g_a.edges(node)) - len(g_b.edges(node))\n",
    "#         g_aedges = g_a.edges(node)\n",
    "#         g_bedges = g_b.edges(node)\n",
    "\n",
    "#         temp = np.arange(len(g_a.edges(node)))\n",
    "#         np.random.shuffle(temp)\n",
    "#         print(\"Diff is :\", diff)\n",
    "#         for i in range(diff):\n",
    "#             print(\"Node :\", node, \"Edge :\", temp[i])\n",
    "#             g_a.remove_edge(node, list(g_aedges)[temp[i]][1])   \n",
    "#     return nx.adjacency_matrix(g_a).todense()\n",
    "\n",
    "# def generate_trimmed_graphs(graphadjs_a, graphadjs_b):\n",
    "#     new_graphadjs_a = []\n",
    "#     for graphadj_a, graphadj_b in zip(graphadjs_a, graphadjs_b):\n",
    "#         new_graphadjs_a.append(trim_edges(graphadj_a, graphadj_b))\n",
    "#     return graphadjs_a"
   ]
  },
  {
   "cell_type": "code",
   "execution_count": null,
   "metadata": {},
   "outputs": [],
   "source": [
    "def get_incidence(a):\n",
    "    \"\"\"make incidence matrix from adjacency matrix\"\"\"\n",
    "    ix = np.where(np.triu(a))\n",
    "    edg = array(list(zip(*ix)))\n",
    "    incid = np.zeros((len(a), len(edg)), dtype=np.float32)\n",
    "    for _,[i,j] in enumerate(edg): \n",
    "        incid[i,_] = 1\n",
    "        incid[j,_] = -1\n",
    "    return incid\n",
    "\n",
    "def incidence_shuffle(incid):\n",
    "    neg = np.where(incid < 0)\n",
    "    # preserve the rows, to preserve node degree, but shuffle columns, to shuffle links\n",
    "    np.random.shuffle(neg[1])\n",
    "    incid2 = 1.* (incid> 0 )\n",
    "    incid2[neg] -= 1\n",
    "    return incid2\n",
    "\n",
    "def configuration_model_1(a, weighted = True):\n",
    "    incid = get_incidence(a)\n",
    "    incid2 = incidence_shuffle(incid)\n",
    "    lap = incid2.dot(incid2.T)\n",
    "    deg = lap.diagonal() \n",
    "    a2 = np.diag(deg)-lap\n",
    "    if not weighted:\n",
    "        a2 = (1*(a2>0))\n",
    "    return a2\n",
    "\n",
    "def trim_mat(a,b):\n",
    "    \"\"\"remove random links from 'a' until it has the same number of links as 'b'\"\"\"\n",
    "    i = (a.sum(0)!= b.sum(0))\n",
    "    ms = i[:,np.newaxis]*i[np.newaxis]\n",
    "    masked_a = a*np.triu(ms)\n",
    "    ix = np.where(masked_a)\n",
    "    # num missing links\n",
    "    d = int(a.sum()-b.sum())//2\n",
    "    # randomly choose r indices to knockout\n",
    "    r = np.argsort(np.random.rand(len(ix[0])))[:d]\n",
    "    # make trimmed graph\n",
    "    c = triu(a) + 0.\n",
    "    for i in r:\n",
    "        c[ix[0][i],ix[1][i]]=0\n",
    "    c += c.T \n",
    "    return c"
   ]
  },
  {
   "cell_type": "code",
   "execution_count": null,
   "metadata": {},
   "outputs": [],
   "source": []
  },
  {
   "cell_type": "code",
   "execution_count": 4,
   "metadata": {},
   "outputs": [],
   "source": [
    "class GraphData():\n",
    "    def __init__(self, num, nodes):\n",
    "        self.num = num\n",
    "        self.nodes = nodes\n",
    "        self.m_list = [1.0, nodes/8.0, nodes/4.0, 3.0*nodes/8.0, nodes/2.0]\n",
    "        self.p_list = np.linspace(1.0/num, num/2.0, 4)\n",
    "        \n",
    "        self.graphs = []\n",
    "        self.graphlabels = []\n",
    "        \n",
    "        self.graphadjs = []\n",
    "        \n",
    "        self.graphadjs_da = []\n",
    "        self.graphadjs_dad = []\n",
    "        \n",
    "        self.tokenisedgraphlabels = []\n",
    "    \n",
    "    #Generates [num] of graphs of type BA. Also add labels \"BA\"\n",
    "    def generate_BAGraphs(self):\n",
    "        num_each_group = int(self.num/len(self.m_list))\n",
    "        \n",
    "        for m in self.m_list:\n",
    "            for i in range(num_each_group):\n",
    "                graph = nx.barabasi_albert_graph(self.nodes, int(m))\n",
    "                self.graphs.append(graph)\n",
    "                self.graphlabels.append(\"BA\")\n",
    "                  \n",
    "    #Generates [num] of graphs of type ER. Also add labels \"ER\"\n",
    "    def generate_ERGraphs(self):\n",
    "        num_each_group = int(self.num/len(self.p_list))\n",
    "        \n",
    "        for p in self.p_list:\n",
    "            for i in range(num_each_group):\n",
    "                graph = nx.erdos_renyi_graph(self.nodes, p, directed=False)\n",
    "                self.graphs.append(graph)\n",
    "                self.graphlabels.append(\"ER\")\n",
    "                \n",
    "    #Generate [num] of graphs of type configurational from the graphs already built. Also add labels \"CG\"\n",
    "    def generate_configurational_graphs(self):\n",
    "        temp_graphs = self.graphs.copy()\n",
    "        for graph in temp_graphs:\n",
    "            degree = list(dict(graph.degree()).values())\n",
    "            graph_con = nx.configuration_model(degree)\n",
    "            graph_con = nx.Graph(graph_con)\n",
    "            \n",
    "            self.graphs.append(graph_con)\n",
    "            self.graphlabels.append(\"CG\")            \n",
    "                \n",
    "    \n",
    "    #Generate adjacent matrix from the generated graphs.\n",
    "    def generate_adjs(self):\n",
    "        for graph in self.graphs:\n",
    "            self.graphadjs.append(nx.adjacency_matrix(graph).todense())\n",
    "            \n",
    "    #Normalise the graphs for training purposes.\n",
    "    def normalise(self):\n",
    "        for x in self.graphadjs:\n",
    "            rowsum = np.array(x.sum(1), dtype = np.float32)\n",
    "            r_inv = np.power(rowsum, -1).flatten()\n",
    "            r_inv[np.isinf(r_inv)] = 0.\n",
    "            d = np.diag(r_inv)\n",
    "            da = d.dot(x)\n",
    "            d = np.sqrt(d)\n",
    "            dad = (d.dot(x)).dot(d)\n",
    "            self.graphadjs_da.append(da)\n",
    "            self.graphadjs_dad.append(dad)\n",
    "     \n",
    "    #Generate tokenised graph labels from the labels for training purposes.\n",
    "    def tokenise(self, map_dict):\n",
    "        self.tokenisedgraphlabels = list(map(map_dict.get, self.graphlabels))"
   ]
  },
  {
   "cell_type": "code",
   "execution_count": 9,
   "metadata": {},
   "outputs": [],
   "source": [
    "def one_hot_encode(x, n_classes):\n",
    "    return np.eye(n_classes)[x]"
   ]
  },
  {
   "cell_type": "code",
   "execution_count": 10,
   "metadata": {},
   "outputs": [],
   "source": [
    "def make_train_step(model, loss_fn, optimizer):\n",
    "    def train_step(x, h, y):\n",
    "        model.train()\n",
    "        yhat = model(h, x)\n",
    "        loss = loss_fn(yhat, y.long().squeeze())\n",
    "        loss.backward()\n",
    "        optimizer.step()\n",
    "        optimizer.zero_grad()\n",
    "        return loss.item()\n",
    "    return train_step"
   ]
  },
  {
   "cell_type": "code",
   "execution_count": 11,
   "metadata": {},
   "outputs": [],
   "source": [
    "def make_loader(x_h, y, batch_size, ratio_train):\n",
    "\n",
    "    x_tensor = torch.from_numpy(x_h[0]).float()\n",
    "    h_tensor = torch.from_numpy(x_h[1]).float()\n",
    "    y_tensor = torch.from_numpy(y).float()\n",
    "\n",
    "    dataset = TensorDataset(x_tensor, h_tensor, y_tensor)\n",
    "    trainlength = int(ratio_train*x_h[0].shape[0])\n",
    "    vallength = x_h[0].shape[0] - trainlength\n",
    "    \n",
    "    train_dataset, val_dataset = random_split(dataset, [trainlength, vallength])\n",
    "    train_loader = DataLoader(dataset=train_dataset, batch_size = batch_size)\n",
    "    val_loader = DataLoader(dataset=val_dataset, batch_size = batch_size)\n",
    "    return train_loader, val_loader"
   ]
  },
  {
   "cell_type": "code",
   "execution_count": 12,
   "metadata": {},
   "outputs": [],
   "source": [
    "def train_model(model, device, train_step, n_epochs, train_loader, val_loader):\n",
    "    training_losses = []\n",
    "    validation_losses = []\n",
    "\n",
    "    for epoch in range(n_epochs):\n",
    "        batch_losses = []\n",
    "        for x_batch, h_batch, y_batch in train_loader:\n",
    "            x_batch = x_batch.to(device)\n",
    "            h_batch = h_batch.to(device)\n",
    "            y_batch = y_batch.to(device)\n",
    "            loss = train_step(x_batch, h_batch, y_batch)\n",
    "            batch_losses.append(loss)\n",
    "        training_loss = np.mean(batch_losses)\n",
    "        training_losses.append(training_loss)\n",
    "\n",
    "        with torch.no_grad():\n",
    "            val_losses = []\n",
    "            for x_val, h_val, y_val in val_loader:\n",
    "                x_val = x_val.to(device)\n",
    "                h_val = h_val.to(device)\n",
    "                y_val = y_val.to(device)\n",
    "                model.eval()\n",
    "                \n",
    "                yhat = model(h_val, x_val)\n",
    "#                 print(y_val.shape)\n",
    "#                 print(yhat.shape)\n",
    "#                 yhat = (yhat >.5).float()\n",
    "#                 print(\"y_val\", y_val)\n",
    "#                 print(\"yhat\", torch.argmax(yhat, axis = 1).float())\n",
    "        \n",
    "                val_acc = (torch.tensor(y_val).view(-1).float() == torch.argmax(yhat, axis = 1).float()).float().sum()/(y_val.shape[0])\n",
    "                val_loss = loss_fn(yhat, y_val.long().squeeze())\n",
    "                print(\"Val Accuracy is:\", val_acc.item())\n",
    "                val_losses.append(val_loss.item())\n",
    "#                 print(dir(val_loss))\n",
    "            validation_loss = np.mean(val_losses)\n",
    "            validation_losses.append(validation_loss)\n",
    "\n",
    "        print(f\"[{epoch+1}] Training loss: {training_loss:.3f}\\t Validation loss: {validation_loss:.3f}\")\n",
    "    return training_losses, validation_losses"
   ]
  },
  {
   "cell_type": "code",
   "execution_count": 11,
   "metadata": {},
   "outputs": [],
   "source": [
    "def trim_mat(a,b):\n",
    "    i = np.array(a.sum(0)!= b.sum(0))[0]\n",
    "    print(i)\n",
    "    ms = i[:,np.newaxis]*i[np.newaxis]\n",
    "    masked_a = a*np.triu(ms)\n",
    "    ix = np.where(masked_a)\n",
    "    d = int(a.sum()-b.sum())//2\n",
    "    r = np.argsort(np.random.rand(len(ix[0])))[:d]\n",
    "    c = np.triu(a) + 0.\n",
    "    for i in r:\n",
    "        c[ix[0][i],ix[1][i]]=0\n",
    "    c += c.T \n",
    "    return c\n",
    "\n",
    "def trim_graphadjs(graphadjs_a, graphadjs_b):\n",
    "    graphadjs_a_new = []\n",
    "    for a, b in zip(graphadjs_a, graphadjs_b):\n",
    "#         print(\"a\", a)\n",
    "#         print(\"b\", b)\n",
    "        graphadjs_a_new.append(trim_mat(a, b))\n",
    "    return graphadjs_a_new"
   ]
  },
  {
   "cell_type": "code",
   "execution_count": 305,
   "metadata": {},
   "outputs": [],
   "source": [
    "def shuffle_graphadjs(graphadjs):\n",
    "    graphadjsshuffled = []\n",
    "    for adj in graphadjs:\n",
    "        idx = np.arange(adj.shape[0])\n",
    "        np.random.shuffle(idx)\n",
    "        graphadjsshuffled.append(adj[idx][:,idx])\n",
    "    return graphadjsshuffled"
   ]
  },
  {
   "cell_type": "code",
   "execution_count": 5,
   "metadata": {},
   "outputs": [],
   "source": [
    "#Generate the map dataset for BA vs CG\n",
    "\n",
    "map_dict = {\"BA\" : 1, \"CG\": 0}\n",
    "n_classes = len(map_dict)\n",
    "\n",
    "graphdatabase = GraphData(2500, 50)\n",
    "graphdatabase.generate_BAGraphs()\n",
    "graphdatabase.generate_configurational_graphs()\n",
    "graphdatabase.generate_adjs()\n",
    "graphdatabase.normalise()\n",
    "graphdatabase.tokenise(map_dict)"
   ]
  },
  {
   "cell_type": "code",
   "execution_count": 7,
   "metadata": {},
   "outputs": [
    {
     "data": {
      "text/plain": [
       "5000"
      ]
     },
     "execution_count": 7,
     "metadata": {},
     "output_type": "execute_result"
    }
   ],
   "source": [
    "len(graphdatabase.graphadjs)"
   ]
  },
  {
   "cell_type": "code",
   "execution_count": 14,
   "metadata": {},
   "outputs": [],
   "source": [
    "a = graphdatabase.graphadjs[0]"
   ]
  },
  {
   "cell_type": "code",
   "execution_count": 15,
   "metadata": {},
   "outputs": [],
   "source": [
    "b = graphdatabase.graphadjs[2500]"
   ]
  },
  {
   "cell_type": "code",
   "execution_count": 17,
   "metadata": {},
   "outputs": [
    {
     "name": "stdout",
     "output_type": "stream",
     "text": [
      "[False  True False False False False  True False False False False False\n",
      " False False False False False False False False False False False False\n",
      " False False False False False False False False False False False False\n",
      " False False False False False False False False False False False False\n",
      " False False]\n"
     ]
    }
   ],
   "source": [
    "c = trim_mat(a, b)"
   ]
  },
  {
   "cell_type": "code",
   "execution_count": 21,
   "metadata": {},
   "outputs": [
    {
     "data": {
      "text/plain": [
       "matrix([[ 3, 12,  6,  3,  1,  2,  5,  2,  3,  2,  2,  3,  3,  2,  3,  2,\n",
       "          2,  1,  2,  1,  1,  3,  5,  1,  1,  1,  2,  2,  1,  1,  1,  1,\n",
       "          1,  1,  1,  1,  1,  1,  1,  1,  1,  1,  1,  1,  1,  1,  1,  1,\n",
       "          1,  1]], dtype=int32)"
      ]
     },
     "execution_count": 21,
     "metadata": {},
     "output_type": "execute_result"
    }
   ],
   "source": [
    "a.sum(0)"
   ]
  },
  {
   "cell_type": "code",
   "execution_count": 24,
   "metadata": {},
   "outputs": [
    {
     "data": {
      "text/plain": [
       "array([ 3., 12.,  6.,  3.,  1.,  2.,  5.,  2.,  3.,  2.,  2.,  3.,  3.,\n",
       "        2.,  3.,  2.,  2.,  1.,  2.,  1.,  1.,  3.,  5.,  1.,  1.,  1.,\n",
       "        2.,  2.,  1.,  1.,  1.,  1.,  1.,  1.,  1.,  1.,  1.,  1.,  1.,\n",
       "        1.,  1.,  1.,  1.,  1.,  1.,  1.,  1.,  1.,  1.,  1.])"
      ]
     },
     "execution_count": 24,
     "metadata": {},
     "output_type": "execute_result"
    }
   ],
   "source": [
    "c.sum(0)"
   ]
  },
  {
   "cell_type": "code",
   "execution_count": 19,
   "metadata": {},
   "outputs": [
    {
     "data": {
      "text/plain": [
       "matrix([[ 3, 10,  6,  3,  1,  2,  4,  2,  3,  2,  2,  3,  3,  2,  3,  2,\n",
       "          2,  1,  2,  1,  1,  3,  5,  1,  1,  1,  2,  2,  1,  1,  1,  1,\n",
       "          1,  1,  1,  1,  1,  1,  1,  1,  1,  1,  1,  1,  1,  1,  1,  1,\n",
       "          1,  1]], dtype=int32)"
      ]
     },
     "execution_count": 19,
     "metadata": {},
     "output_type": "execute_result"
    }
   ],
   "source": [
    "b.sum(0)"
   ]
  },
  {
   "cell_type": "code",
   "execution_count": null,
   "metadata": {},
   "outputs": [],
   "source": []
  },
  {
   "cell_type": "code",
   "execution_count": null,
   "metadata": {},
   "outputs": [],
   "source": []
  },
  {
   "cell_type": "code",
   "execution_count": null,
   "metadata": {},
   "outputs": [],
   "source": [
    "def trim_mat(a,b):\n",
    "    i = np.array(a.sum(0)!= b.sum(0))[0]\n",
    "    print(i)\n",
    "    ms = i[:,np.newaxis]*i[np.newaxis]\n",
    "    masked_a = a*np.triu(ms)\n",
    "    ix = np.where(masked_a)\n",
    "    d = int(a.sum()-b.sum())//2\n",
    "    r = np.argsort(np.random.rand(len(ix[0])))[:d]\n",
    "    c = np.triu(a) + 0.\n",
    "    for i in r:\n",
    "        c[ix[0][i],ix[1][i]]=0\n",
    "    c += c.T \n",
    "    return c"
   ]
  },
  {
   "cell_type": "code",
   "execution_count": 56,
   "metadata": {},
   "outputs": [
    {
     "data": {
      "text/plain": [
       "(50, 50)"
      ]
     },
     "execution_count": 56,
     "metadata": {},
     "output_type": "execute_result"
    }
   ],
   "source": [
    "masked_a.shape"
   ]
  },
  {
   "cell_type": "code",
   "execution_count": 68,
   "metadata": {},
   "outputs": [],
   "source": [
    "a = np.array(a)\n",
    "b = np.array(b)"
   ]
  },
  {
   "cell_type": "code",
   "execution_count": 79,
   "metadata": {},
   "outputs": [
    {
     "data": {
      "text/plain": [
       "array([ 3, 12,  6,  3,  1,  2,  5,  2,  3,  2,  2,  3,  3,  2,  3,  2,  2,\n",
       "        1,  2,  1,  1,  3,  5,  1,  1,  1,  2,  2,  1,  1,  1,  1,  1,  1,\n",
       "        1,  1,  1,  1,  1,  1,  1,  1,  1,  1,  1,  1,  1,  1,  1,  1],\n",
       "      dtype=int32)"
      ]
     },
     "execution_count": 79,
     "metadata": {},
     "output_type": "execute_result"
    }
   ],
   "source": [
    "a.sum(0)"
   ]
  },
  {
   "cell_type": "code",
   "execution_count": 80,
   "metadata": {},
   "outputs": [
    {
     "data": {
      "text/plain": [
       "array([ 3, 10,  6,  3,  1,  2,  4,  2,  3,  2,  2,  3,  3,  2,  3,  2,  2,\n",
       "        1,  2,  1,  1,  3,  5,  1,  1,  1,  2,  2,  1,  1,  1,  1,  1,  1,\n",
       "        1,  1,  1,  1,  1,  1,  1,  1,  1,  1,  1,  1,  1,  1,  1,  1],\n",
       "      dtype=int32)"
      ]
     },
     "execution_count": 80,
     "metadata": {},
     "output_type": "execute_result"
    }
   ],
   "source": [
    "b.sum(0)"
   ]
  },
  {
   "cell_type": "code",
   "execution_count": 81,
   "metadata": {},
   "outputs": [],
   "source": [
    "i = (a.sum(0)!= b.sum(0))"
   ]
  },
  {
   "cell_type": "code",
   "execution_count": 82,
   "metadata": {},
   "outputs": [
    {
     "name": "stdout",
     "output_type": "stream",
     "text": [
      "[False  True False False False False  True False False False False False\n",
      " False False False False False False False False False False False False\n",
      " False False False False False False False False False False False False\n",
      " False False False False False False False False False False False False\n",
      " False False]\n"
     ]
    }
   ],
   "source": [
    "print(i)"
   ]
  },
  {
   "cell_type": "code",
   "execution_count": 83,
   "metadata": {},
   "outputs": [],
   "source": [
    "ms = i[:,np.newaxis]*i[np.newaxis]"
   ]
  },
  {
   "cell_type": "code",
   "execution_count": 85,
   "metadata": {},
   "outputs": [
    {
     "data": {
      "text/plain": [
       "array([0, 2, 0, 0, 0, 0, 2, 0, 0, 0, 0, 0, 0, 0, 0, 0, 0, 0, 0, 0, 0, 0,\n",
       "       0, 0, 0, 0, 0, 0, 0, 0, 0, 0, 0, 0, 0, 0, 0, 0, 0, 0, 0, 0, 0, 0,\n",
       "       0, 0, 0, 0, 0, 0])"
      ]
     },
     "execution_count": 85,
     "metadata": {},
     "output_type": "execute_result"
    }
   ],
   "source": [
    "ms.sum(0)"
   ]
  },
  {
   "cell_type": "code",
   "execution_count": 89,
   "metadata": {},
   "outputs": [
    {
     "data": {
      "text/plain": [
       "array([0, 1, 0, 0, 0, 0, 2, 0, 0, 0, 0, 0, 0, 0, 0, 0, 0, 0, 0, 0, 0, 0,\n",
       "       0, 0, 0, 0, 0, 0, 0, 0, 0, 0, 0, 0, 0, 0, 0, 0, 0, 0, 0, 0, 0, 0,\n",
       "       0, 0, 0, 0, 0, 0])"
      ]
     },
     "execution_count": 89,
     "metadata": {},
     "output_type": "execute_result"
    }
   ],
   "source": [
    "np.triu(ms).sum(0)"
   ]
  },
  {
   "cell_type": "code",
   "execution_count": 90,
   "metadata": {},
   "outputs": [
    {
     "data": {
      "text/plain": [
       "array([[0, 1, 0, ..., 0, 0, 0],\n",
       "       [0, 0, 0, ..., 0, 0, 0],\n",
       "       [0, 1, 0, ..., 0, 0, 0],\n",
       "       ...,\n",
       "       [0, 0, 0, ..., 0, 0, 0],\n",
       "       [0, 1, 0, ..., 0, 0, 0],\n",
       "       [0, 0, 0, ..., 0, 0, 0]], dtype=int32)"
      ]
     },
     "execution_count": 90,
     "metadata": {},
     "output_type": "execute_result"
    }
   ],
   "source": [
    "a.dot(np.triu(ms))"
   ]
  },
  {
   "cell_type": "code",
   "execution_count": 86,
   "metadata": {},
   "outputs": [],
   "source": [
    "masked_a = a*np.triu(ms)"
   ]
  },
  {
   "cell_type": "code",
   "execution_count": 88,
   "metadata": {},
   "outputs": [
    {
     "data": {
      "text/plain": [
       "array([0, 0, 0, 0, 0, 0, 0, 0, 0, 0, 0, 0, 0, 0, 0, 0, 0, 0, 0, 0, 0, 0,\n",
       "       0, 0, 0, 0, 0, 0, 0, 0, 0, 0, 0, 0, 0, 0, 0, 0, 0, 0, 0, 0, 0, 0,\n",
       "       0, 0, 0, 0, 0, 0], dtype=int32)"
      ]
     },
     "execution_count": 88,
     "metadata": {},
     "output_type": "execute_result"
    }
   ],
   "source": [
    "masked_a.sum(0)"
   ]
  },
  {
   "cell_type": "code",
   "execution_count": null,
   "metadata": {},
   "outputs": [],
   "source": []
  },
  {
   "cell_type": "code",
   "execution_count": 99,
   "metadata": {},
   "outputs": [
    {
     "data": {
      "text/plain": [
       "(50, 50)"
      ]
     },
     "execution_count": 99,
     "metadata": {},
     "output_type": "execute_result"
    }
   ],
   "source": [
    "ms.shape"
   ]
  },
  {
   "cell_type": "code",
   "execution_count": 100,
   "metadata": {},
   "outputs": [
    {
     "data": {
      "text/plain": [
       "array([[False, False, False, ..., False, False, False],\n",
       "       [False,  True, False, ..., False, False, False],\n",
       "       [False, False, False, ..., False, False, False],\n",
       "       ...,\n",
       "       [False, False, False, ..., False, False, False],\n",
       "       [False, False, False, ..., False, False, False],\n",
       "       [False, False, False, ..., False, False, False]])"
      ]
     },
     "execution_count": 100,
     "metadata": {},
     "output_type": "execute_result"
    }
   ],
   "source": [
    "ms"
   ]
  },
  {
   "cell_type": "code",
   "execution_count": 103,
   "metadata": {},
   "outputs": [],
   "source": [
    "i = (a.sum(0)!= b.sum(0))"
   ]
  },
  {
   "cell_type": "code",
   "execution_count": 104,
   "metadata": {},
   "outputs": [
    {
     "data": {
      "text/plain": [
       "(50,)"
      ]
     },
     "execution_count": 104,
     "metadata": {},
     "output_type": "execute_result"
    }
   ],
   "source": [
    "i.shape"
   ]
  },
  {
   "cell_type": "code",
   "execution_count": 106,
   "metadata": {},
   "outputs": [
    {
     "data": {
      "text/plain": [
       "(50, 1)"
      ]
     },
     "execution_count": 106,
     "metadata": {},
     "output_type": "execute_result"
    }
   ],
   "source": [
    "i[:, np.newaxis].shape"
   ]
  },
  {
   "cell_type": "code",
   "execution_count": 129,
   "metadata": {},
   "outputs": [],
   "source": [
    "from numpy import *"
   ]
  },
  {
   "cell_type": "code",
   "execution_count": 130,
   "metadata": {},
   "outputs": [],
   "source": [
    "def get_incidence(a):\n",
    "    \"\"\"make incidence matrix from adjacency matrix\"\"\"\n",
    "    ix = np.where(np.triu(a))\n",
    "    edg = array(list(zip(*ix)))\n",
    "    incid = np.zeros((len(a), len(edg)), dtype=np.float32)\n",
    "    for _,[i,j] in enumerate(edg): \n",
    "        incid[i,_] = 1\n",
    "        incid[j,_] = -1\n",
    "    return incid\n",
    "\n",
    "def incidence_shuffle(incid):\n",
    "    neg = np.where(incid < 0)\n",
    "    # preserve the rows, to preserve node degree, but shuffle columns, to shuffle links\n",
    "    np.random.shuffle(neg[1])\n",
    "    incid2 = 1.* (incid> 0 )\n",
    "    incid2[neg] -= 1\n",
    "    return incid2\n",
    "\n",
    "def configuration_model_1(a, weighted = True):\n",
    "    incid = get_incidence(a)\n",
    "    incid2 = incidence_shuffle(incid)\n",
    "    lap = incid2.dot(incid2.T)\n",
    "    deg = lap.diagonal() \n",
    "    a2 = np.diag(deg)-lap\n",
    "    if not weighted:\n",
    "        a2 = (1*(a2>0))\n",
    "    return a2"
   ]
  },
  {
   "cell_type": "code",
   "execution_count": 132,
   "metadata": {},
   "outputs": [],
   "source": [
    "d = configuration_model_1(a)"
   ]
  },
  {
   "cell_type": "code",
   "execution_count": 133,
   "metadata": {},
   "outputs": [
    {
     "data": {
      "text/plain": [
       "array([ 3., 10.,  6.,  3.,  1.,  2.,  5.,  2.,  3.,  2.,  2.,  3.,  3.,\n",
       "        2.,  3.,  2.,  2.,  1.,  2.,  1.,  1.,  3.,  5.,  1.,  1.,  1.,\n",
       "        2.,  2.,  1.,  1.,  1.,  1.,  1.,  1.,  1.,  1.,  1.,  1.,  1.,\n",
       "        1.,  1.,  1.,  1.,  1.,  1.,  1.,  1.,  1.,  1.,  1.])"
      ]
     },
     "execution_count": 133,
     "metadata": {},
     "output_type": "execute_result"
    }
   ],
   "source": [
    "d.sum(0)"
   ]
  },
  {
   "cell_type": "code",
   "execution_count": 134,
   "metadata": {},
   "outputs": [
    {
     "data": {
      "text/plain": [
       "array([ 3, 10,  6,  3,  1,  2,  4,  2,  3,  2,  2,  3,  3,  2,  3,  2,  2,\n",
       "        1,  2,  1,  1,  3,  5,  1,  1,  1,  2,  2,  1,  1,  1,  1,  1,  1,\n",
       "        1,  1,  1,  1,  1,  1,  1,  1,  1,  1,  1,  1,  1,  1,  1,  1],\n",
       "      dtype=int32)"
      ]
     },
     "execution_count": 134,
     "metadata": {},
     "output_type": "execute_result"
    }
   ],
   "source": [
    "b.sum(0)"
   ]
  },
  {
   "cell_type": "code",
   "execution_count": 137,
   "metadata": {},
   "outputs": [
    {
     "data": {
      "text/plain": [
       "array([ 3, 12,  6,  3,  1,  2,  5,  2,  3,  2,  2,  3,  3,  2,  3,  2,  2,\n",
       "        1,  2,  1,  1,  3,  5,  1,  1,  1,  2,  2,  1,  1,  1,  1,  1,  1,\n",
       "        1,  1,  1,  1,  1,  1,  1,  1,  1,  1,  1,  1,  1,  1,  1,  1],\n",
       "      dtype=int32)"
      ]
     },
     "execution_count": 137,
     "metadata": {},
     "output_type": "execute_result"
    }
   ],
   "source": [
    "a.sum(0)"
   ]
  },
  {
   "cell_type": "code",
   "execution_count": 138,
   "metadata": {},
   "outputs": [
    {
     "data": {
      "text/plain": [
       "array([False,  True, False, False, False, False,  True, False, False,\n",
       "       False, False, False, False, False, False, False, False, False,\n",
       "       False, False, False, False, False, False, False, False, False,\n",
       "       False, False, False, False, False, False, False, False, False,\n",
       "       False, False, False, False, False, False, False, False, False,\n",
       "       False, False, False, False, False])"
      ]
     },
     "execution_count": 138,
     "metadata": {},
     "output_type": "execute_result"
    }
   ],
   "source": [
    "a.sum(0) != b.sum(0)"
   ]
  },
  {
   "cell_type": "code",
   "execution_count": 145,
   "metadata": {},
   "outputs": [],
   "source": [
    "i = (a.sum(0) != d.sum(0))"
   ]
  },
  {
   "cell_type": "code",
   "execution_count": 147,
   "metadata": {},
   "outputs": [
    {
     "data": {
      "text/plain": [
       "1"
      ]
     },
     "execution_count": 147,
     "metadata": {},
     "output_type": "execute_result"
    }
   ],
   "source": [
    "i.sum()"
   ]
  },
  {
   "cell_type": "code",
   "execution_count": null,
   "metadata": {},
   "outputs": [],
   "source": []
  },
  {
   "cell_type": "code",
   "execution_count": 140,
   "metadata": {},
   "outputs": [
    {
     "data": {
      "text/plain": [
       "96.0"
      ]
     },
     "execution_count": 140,
     "metadata": {},
     "output_type": "execute_result"
    }
   ],
   "source": [
    "d.sum()"
   ]
  },
  {
   "cell_type": "code",
   "execution_count": 141,
   "metadata": {},
   "outputs": [
    {
     "data": {
      "text/plain": [
       "98"
      ]
     },
     "execution_count": 141,
     "metadata": {},
     "output_type": "execute_result"
    }
   ],
   "source": [
    "a.sum()"
   ]
  },
  {
   "cell_type": "code",
   "execution_count": 142,
   "metadata": {},
   "outputs": [
    {
     "data": {
      "text/plain": [
       "95"
      ]
     },
     "execution_count": 142,
     "metadata": {},
     "output_type": "execute_result"
    }
   ],
   "source": [
    "b.sum()"
   ]
  },
  {
   "cell_type": "code",
   "execution_count": 143,
   "metadata": {},
   "outputs": [
    {
     "data": {
      "text/plain": [
       "0"
      ]
     },
     "execution_count": 143,
     "metadata": {},
     "output_type": "execute_result"
    }
   ],
   "source": [
    "a[1][1]"
   ]
  },
  {
   "cell_type": "code",
   "execution_count": 135,
   "metadata": {},
   "outputs": [
    {
     "data": {
      "text/plain": [
       "0.0"
      ]
     },
     "execution_count": 135,
     "metadata": {},
     "output_type": "execute_result"
    }
   ],
   "source": [
    "d[1][6]"
   ]
  },
  {
   "cell_type": "code",
   "execution_count": 144,
   "metadata": {},
   "outputs": [
    {
     "name": "stdout",
     "output_type": "stream",
     "text": [
      "False\n"
     ]
    },
    {
     "ename": "IndexError",
     "evalue": "invalid index to scalar variable.",
     "output_type": "error",
     "traceback": [
      "\u001b[1;31m---------------------------------------------------------------------------\u001b[0m",
      "\u001b[1;31mIndexError\u001b[0m                                Traceback (most recent call last)",
      "\u001b[1;32m<ipython-input-144-bbc30a54007c>\u001b[0m in \u001b[0;36m<module>\u001b[1;34m\u001b[0m\n\u001b[1;32m----> 1\u001b[1;33m \u001b[0mtrim_mat\u001b[0m\u001b[1;33m(\u001b[0m\u001b[0ma\u001b[0m\u001b[1;33m,\u001b[0m \u001b[0md\u001b[0m\u001b[1;33m)\u001b[0m\u001b[1;33m\u001b[0m\u001b[1;33m\u001b[0m\u001b[0m\n\u001b[0m",
      "\u001b[1;32m<ipython-input-11-b09da91c8e92>\u001b[0m in \u001b[0;36mtrim_mat\u001b[1;34m(a, b)\u001b[0m\n\u001b[0;32m      2\u001b[0m     \u001b[0mi\u001b[0m \u001b[1;33m=\u001b[0m \u001b[0mnp\u001b[0m\u001b[1;33m.\u001b[0m\u001b[0marray\u001b[0m\u001b[1;33m(\u001b[0m\u001b[0ma\u001b[0m\u001b[1;33m.\u001b[0m\u001b[0msum\u001b[0m\u001b[1;33m(\u001b[0m\u001b[1;36m0\u001b[0m\u001b[1;33m)\u001b[0m\u001b[1;33m!=\u001b[0m \u001b[0mb\u001b[0m\u001b[1;33m.\u001b[0m\u001b[0msum\u001b[0m\u001b[1;33m(\u001b[0m\u001b[1;36m0\u001b[0m\u001b[1;33m)\u001b[0m\u001b[1;33m)\u001b[0m\u001b[1;33m[\u001b[0m\u001b[1;36m0\u001b[0m\u001b[1;33m]\u001b[0m\u001b[1;33m\u001b[0m\u001b[1;33m\u001b[0m\u001b[0m\n\u001b[0;32m      3\u001b[0m     \u001b[0mprint\u001b[0m\u001b[1;33m(\u001b[0m\u001b[0mi\u001b[0m\u001b[1;33m)\u001b[0m\u001b[1;33m\u001b[0m\u001b[1;33m\u001b[0m\u001b[0m\n\u001b[1;32m----> 4\u001b[1;33m     \u001b[0mms\u001b[0m \u001b[1;33m=\u001b[0m \u001b[0mi\u001b[0m\u001b[1;33m[\u001b[0m\u001b[1;33m:\u001b[0m\u001b[1;33m,\u001b[0m\u001b[0mnp\u001b[0m\u001b[1;33m.\u001b[0m\u001b[0mnewaxis\u001b[0m\u001b[1;33m]\u001b[0m\u001b[1;33m*\u001b[0m\u001b[0mi\u001b[0m\u001b[1;33m[\u001b[0m\u001b[0mnp\u001b[0m\u001b[1;33m.\u001b[0m\u001b[0mnewaxis\u001b[0m\u001b[1;33m]\u001b[0m\u001b[1;33m\u001b[0m\u001b[1;33m\u001b[0m\u001b[0m\n\u001b[0m\u001b[0;32m      5\u001b[0m     \u001b[0mmasked_a\u001b[0m \u001b[1;33m=\u001b[0m \u001b[0ma\u001b[0m\u001b[1;33m*\u001b[0m\u001b[0mnp\u001b[0m\u001b[1;33m.\u001b[0m\u001b[0mtriu\u001b[0m\u001b[1;33m(\u001b[0m\u001b[0mms\u001b[0m\u001b[1;33m)\u001b[0m\u001b[1;33m\u001b[0m\u001b[1;33m\u001b[0m\u001b[0m\n\u001b[0;32m      6\u001b[0m     \u001b[0mix\u001b[0m \u001b[1;33m=\u001b[0m \u001b[0mnp\u001b[0m\u001b[1;33m.\u001b[0m\u001b[0mwhere\u001b[0m\u001b[1;33m(\u001b[0m\u001b[0mmasked_a\u001b[0m\u001b[1;33m)\u001b[0m\u001b[1;33m\u001b[0m\u001b[1;33m\u001b[0m\u001b[0m\n",
      "\u001b[1;31mIndexError\u001b[0m: invalid index to scalar variable."
     ]
    }
   ],
   "source": [
    "trim_mat(a, d)"
   ]
  },
  {
   "cell_type": "code",
   "execution_count": null,
   "metadata": {},
   "outputs": [],
   "source": []
  },
  {
   "cell_type": "code",
   "execution_count": 118,
   "metadata": {},
   "outputs": [
    {
     "data": {
      "text/plain": [
       "(array([1, 1, 6], dtype=int64), array([1, 6, 6], dtype=int64))"
      ]
     },
     "execution_count": 118,
     "metadata": {},
     "output_type": "execute_result"
    }
   ],
   "source": [
    "np.where(np.triu(ms))"
   ]
  },
  {
   "cell_type": "code",
   "execution_count": 122,
   "metadata": {},
   "outputs": [
    {
     "data": {
      "text/plain": [
       "array([1, 0, 1, 0, 1, 1, 0, 0, 1, 0, 0, 0, 0, 0, 0, 1, 0, 0, 0, 0, 1, 1,\n",
       "       0, 0, 0, 0, 0, 0, 0, 0, 0, 0, 0, 0, 0, 0, 0, 0, 1, 0, 1, 1, 0, 0,\n",
       "       0, 0, 0, 0, 1, 0], dtype=int32)"
      ]
     },
     "execution_count": 122,
     "metadata": {},
     "output_type": "execute_result"
    }
   ],
   "source": [
    "a[1]"
   ]
  },
  {
   "cell_type": "code",
   "execution_count": 123,
   "metadata": {},
   "outputs": [
    {
     "data": {
      "text/plain": [
       "array([0, 0, 1, 0, 0, 0, 0, 0, 0, 1, 0, 0, 1, 0, 0, 0, 0, 0, 0, 0, 0, 0,\n",
       "       0, 0, 1, 0, 0, 0, 0, 0, 0, 0, 0, 0, 0, 0, 0, 0, 0, 0, 0, 0, 1, 0,\n",
       "       0, 0, 0, 0, 0, 0], dtype=int32)"
      ]
     },
     "execution_count": 123,
     "metadata": {},
     "output_type": "execute_result"
    }
   ],
   "source": [
    "a[6]"
   ]
  },
  {
   "cell_type": "code",
   "execution_count": 125,
   "metadata": {},
   "outputs": [
    {
     "data": {
      "text/plain": [
       "array([ 3, 12,  6,  3,  1,  2,  5,  2,  3,  2,  2,  3,  3,  2,  3,  2,  2,\n",
       "        1,  2,  1,  1,  3,  5,  1,  1,  1,  2,  2,  1,  1,  1,  1,  1,  1,\n",
       "        1,  1,  1,  1,  1,  1,  1,  1,  1,  1,  1,  1,  1,  1,  1,  1],\n",
       "      dtype=int32)"
      ]
     },
     "execution_count": 125,
     "metadata": {},
     "output_type": "execute_result"
    }
   ],
   "source": [
    "a.sum(0)"
   ]
  },
  {
   "cell_type": "code",
   "execution_count": 126,
   "metadata": {},
   "outputs": [
    {
     "data": {
      "text/plain": [
       "array([False,  True, False, False, False, False,  True, False, False,\n",
       "       False, False, False, False, False, False, False, False, False,\n",
       "       False, False, False, False, False, False, False, False, False,\n",
       "       False, False, False, False, False, False, False, False, False,\n",
       "       False, False, False, False, False, False, False, False, False,\n",
       "       False, False, False, False, False])"
      ]
     },
     "execution_count": 126,
     "metadata": {},
     "output_type": "execute_result"
    }
   ],
   "source": [
    "i"
   ]
  },
  {
   "cell_type": "code",
   "execution_count": null,
   "metadata": {},
   "outputs": [],
   "source": []
  },
  {
   "cell_type": "code",
   "execution_count": 119,
   "metadata": {},
   "outputs": [
    {
     "data": {
      "text/plain": [
       "0"
      ]
     },
     "execution_count": 119,
     "metadata": {},
     "output_type": "execute_result"
    }
   ],
   "source": [
    "a[1][6]"
   ]
  },
  {
   "cell_type": "code",
   "execution_count": 177,
   "metadata": {},
   "outputs": [],
   "source": [
    "a = np.array(graphdatabase.graphadjs[2])"
   ]
  },
  {
   "cell_type": "code",
   "execution_count": 187,
   "metadata": {},
   "outputs": [],
   "source": [
    "b = np.array(graphdatabase.graphadjs[2502])"
   ]
  },
  {
   "cell_type": "code",
   "execution_count": 179,
   "metadata": {},
   "outputs": [
    {
     "data": {
      "text/plain": [
       "array([ 1, 11,  5,  8, 10,  2,  3,  5,  1,  1,  2,  1,  7,  1,  1,  1,  1,\n",
       "        1,  2,  1,  2,  1,  2,  1,  1,  1,  1,  2,  1,  1,  1,  1,  1,  1,\n",
       "        1,  1,  1,  1,  1,  1,  1,  1,  1,  1,  1,  1,  1,  1,  1,  1],\n",
       "      dtype=int32)"
      ]
     },
     "execution_count": 179,
     "metadata": {},
     "output_type": "execute_result"
    }
   ],
   "source": [
    "a.sum(0)"
   ]
  },
  {
   "cell_type": "code",
   "execution_count": 180,
   "metadata": {},
   "outputs": [
    {
     "data": {
      "text/plain": [
       "array([1, 9, 5, 6, 7, 2, 3, 4, 1, 1, 1, 1, 5, 1, 1, 1, 1, 1, 2, 1, 2, 1,\n",
       "       2, 1, 1, 1, 1, 2, 1, 1, 1, 1, 1, 1, 1, 1, 1, 1, 1, 1, 1, 1, 1, 1,\n",
       "       1, 1, 1, 1, 1, 1], dtype=int32)"
      ]
     },
     "execution_count": 180,
     "metadata": {},
     "output_type": "execute_result"
    }
   ],
   "source": [
    "b.sum(0)"
   ]
  },
  {
   "cell_type": "code",
   "execution_count": 181,
   "metadata": {},
   "outputs": [],
   "source": [
    "b = configuration_model_1(a)"
   ]
  },
  {
   "cell_type": "code",
   "execution_count": 182,
   "metadata": {},
   "outputs": [
    {
     "data": {
      "text/plain": [
       "array([ 1., 11.,  5.,  8., 10.,  2.,  3.,  5.,  1.,  1.,  2.,  1.,  7.,\n",
       "        1.,  1.,  1.,  1.,  1.,  2.,  1.,  2.,  1.,  2.,  1.,  1.,  1.,\n",
       "        1.,  2.,  1.,  1.,  1.,  1.,  1.,  1.,  1.,  1.,  1.,  1.,  1.,\n",
       "        1.,  1.,  1.,  1.,  1.,  1.,  1.,  1.,  1.,  1.,  1.])"
      ]
     },
     "execution_count": 182,
     "metadata": {},
     "output_type": "execute_result"
    }
   ],
   "source": [
    "b.sum(0)"
   ]
  },
  {
   "cell_type": "code",
   "execution_count": 185,
   "metadata": {},
   "outputs": [
    {
     "name": "stderr",
     "output_type": "stream",
     "text": [
      "c:\\users\\hr21924\\appdata\\local\\continuum\\anaconda3\\lib\\site-packages\\networkx\\drawing\\nx_pylab.py:611: MatplotlibDeprecationWarning: isinstance(..., numbers.Number)\n",
      "  if cb.is_numlike(alpha):\n"
     ]
    },
    {
     "data": {
      "image/png": "[encoded data removed]",
      "text/plain": [
       "<Figure size 432x288 with 1 Axes>"
      ]
     },
     "metadata": {},
     "output_type": "display_data"
    }
   ],
   "source": [
    "nx.draw_kamada_kawai(nx.Graph(a))"
   ]
  },
  {
   "cell_type": "code",
   "execution_count": 188,
   "metadata": {},
   "outputs": [
    {
     "data": {
      "image/png": "[encoded data removed]",
      "text/plain": [
       "<Figure size 432x288 with 1 Axes>"
      ]
     },
     "metadata": {},
     "output_type": "display_data"
    }
   ],
   "source": [
    "nx.draw_kamada_kawai(nx.Graph(b))"
   ]
  },
  {
   "cell_type": "code",
   "execution_count": null,
   "metadata": {},
   "outputs": [],
   "source": []
  },
  {
   "cell_type": "code",
   "execution_count": null,
   "metadata": {},
   "outputs": [],
   "source": []
  },
  {
   "cell_type": "code",
   "execution_count": 172,
   "metadata": {},
   "outputs": [
    {
     "data": {
      "text/plain": [
       "array([16,  4,  2,  7,  2,  2,  5,  3,  1,  1,  3,  3,  1,  1,  1,  3,  3,\n",
       "        1,  2,  1,  3,  1,  1,  2,  1,  1,  1,  1,  2,  1,  1,  1,  2,  1,\n",
       "        1,  1,  1,  1,  1,  1,  1,  1,  1,  1,  1,  1,  1,  2,  1,  1],\n",
       "      dtype=int32)"
      ]
     },
     "execution_count": 172,
     "metadata": {},
     "output_type": "execute_result"
    }
   ],
   "source": [
    "a.sum(0)"
   ]
  },
  {
   "cell_type": "code",
   "execution_count": 169,
   "metadata": {},
   "outputs": [
    {
     "name": "stdout",
     "output_type": "stream",
     "text": [
      "[False False False False False False False False False False False False\n",
      " False False False False False False False False False False False False\n",
      " False False False False False False False False False False False False\n",
      " False False False False False False False False False False False False\n",
      " False False]\n",
      "[0 0 0 0 0 0 0 0 0 0 0 0 0 0 0 0 0 0 0 0 0 0 0 0 0 0 0 0 0 0 0 0 0 0 0 0 0\n",
      " 0 0 0 0 0 0 0 0 0 0 0 0 0]\n",
      "(array([], dtype=int64), array([], dtype=int64))\n",
      "0\n",
      "[]\n",
      "[16.  4.  2.  7.  2.  2.  5.  3.  1.  1.  3.  3.  1.  1.  1.  3.  3.  1.\n",
      "  2.  1.  3.  1.  1.  2.  1.  1.  1.  1.  2.  1.  1.  1.  2.  1.  1.  1.\n",
      "  1.  1.  1.  1.  1.  1.  1.  1.  1.  1.  1.  2.  1.  1.]\n"
     ]
    }
   ],
   "source": [
    "i = (a.sum(0)!= b.sum(0))\n",
    "print(i)\n",
    "ms = i[:,np.newaxis]*(i[np.newaxis])\n",
    "masked_a = a*(np.triu(ms))\n",
    "print(masked_a.sum(0))\n",
    "ix = np.where(masked_a)\n",
    "print(ix)\n",
    "d = int(a.sum()-b.sum())//2\n",
    "print(d)\n",
    "r = np.argsort(np.random.rand(len(ix[0])))[:d]\n",
    "print(r)\n",
    "c = np.triu(a) + 0.\n",
    "for i in r:\n",
    "    c[ix[0][i],ix[1][i]]=0\n",
    "c += c.T \n",
    "print(c.sum(axis = 0))"
   ]
  },
  {
   "cell_type": "code",
   "execution_count": null,
   "metadata": {},
   "outputs": [],
   "source": []
  },
  {
   "cell_type": "code",
   "execution_count": 112,
   "metadata": {},
   "outputs": [
    {
     "data": {
      "text/plain": [
       "array([0, 0, 0, 0, 0, 0, 0, 0, 0, 0, 0, 0, 0, 0, 0, 0, 0, 0, 0, 0, 0, 0,\n",
       "       0, 0, 0, 0, 0, 0, 0, 0, 0, 0, 0, 0, 0, 0, 0, 0, 0, 0, 0, 0, 0, 0,\n",
       "       0, 0, 0, 0, 0, 0], dtype=int32)"
      ]
     },
     "execution_count": 112,
     "metadata": {},
     "output_type": "execute_result"
    }
   ],
   "source": [
    "masked_a.sum(0)"
   ]
  },
  {
   "cell_type": "code",
   "execution_count": 149,
   "metadata": {},
   "outputs": [
    {
     "name": "stdout",
     "output_type": "stream",
     "text": [
      "(50, 50)\n"
     ]
    }
   ],
   "source": [
    "ms = i[:,np.newaxis]*(i[np.newaxis])\n",
    "print(ms.shape)\n",
    "masked_a = a*(np.triu(ms))"
   ]
  },
  {
   "cell_type": "code",
   "execution_count": 150,
   "metadata": {},
   "outputs": [],
   "source": [
    "ix = np.where(masked_a)"
   ]
  },
  {
   "cell_type": "code",
   "execution_count": 151,
   "metadata": {},
   "outputs": [
    {
     "data": {
      "text/plain": [
       "(array([], dtype=int64), array([], dtype=int64))"
      ]
     },
     "execution_count": 151,
     "metadata": {},
     "output_type": "execute_result"
    }
   ],
   "source": [
    "ix"
   ]
  },
  {
   "cell_type": "code",
   "execution_count": 115,
   "metadata": {},
   "outputs": [
    {
     "name": "stdout",
     "output_type": "stream",
     "text": [
      "[False  True False False False False  True False False False False False\n",
      " False False False False False False False False False False False False\n",
      " False False False False False False False False False False False False\n",
      " False False False False False False False False False False False False\n",
      " False False]\n",
      "(50, 50)\n",
      "(50, 50)\n",
      "[0 0 0 0 0 0 0 0 0 0 0 0 0 0 0 0 0 0 0 0 0 0 0 0 0 0 0 0 0 0 0 0 0 0 0 0 0\n",
      " 0 0 0 0 0 0 0 0 0 0 0 0 0]\n",
      "(array([], dtype=int64), array([], dtype=int64))\n",
      "1\n",
      "[]\n",
      "[ 3. 12.  6.  3.  1.  2.  5.  2.  3.  2.  2.  3.  3.  2.  3.  2.  2.  1.\n",
      "  2.  1.  1.  3.  5.  1.  1.  1.  2.  2.  1.  1.  1.  1.  1.  1.  1.  1.\n",
      "  1.  1.  1.  1.  1.  1.  1.  1.  1.  1.  1.  1.  1.  1.]\n"
     ]
    }
   ],
   "source": [
    "i = (a.sum(0)!= b.sum(0))\n",
    "print(i)\n",
    "ms = i[:,np.newaxis]*(i[np.newaxis])\n",
    "print(ms.shape)\n",
    "masked_a = a*(np.triu(ms))\n",
    "print(masked_a.shape)\n",
    "print(masked_a.sum(0))\n",
    "ix = np.where(masked_a)\n",
    "print(ix)\n",
    "d = int(a.sum()-b.sum())//2\n",
    "print(d)\n",
    "r = np.argsort(np.random.rand(len(ix[0])))[:d]\n",
    "print(r)\n",
    "c = np.triu(a) + 0.\n",
    "for i in r:\n",
    "    c[ix[0][i],ix[1][i]]=0\n",
    "c += c.T \n",
    "print(c.sum(axis = 0))"
   ]
  },
  {
   "cell_type": "code",
   "execution_count": 97,
   "metadata": {},
   "outputs": [
    {
     "data": {
      "text/plain": [
       "98.0"
      ]
     },
     "execution_count": 97,
     "metadata": {},
     "output_type": "execute_result"
    }
   ],
   "source": [
    "c.sum()"
   ]
  },
  {
   "cell_type": "code",
   "execution_count": 93,
   "metadata": {},
   "outputs": [
    {
     "data": {
      "text/plain": [
       "98"
      ]
     },
     "execution_count": 93,
     "metadata": {},
     "output_type": "execute_result"
    }
   ],
   "source": [
    "a.sum()"
   ]
  },
  {
   "cell_type": "code",
   "execution_count": null,
   "metadata": {},
   "outputs": [],
   "source": []
  },
  {
   "cell_type": "code",
   "execution_count": 94,
   "metadata": {},
   "outputs": [
    {
     "name": "stdout",
     "output_type": "stream",
     "text": [
      "1\n",
      "0\n",
      "1\n",
      "1\n",
      "1\n",
      "0\n",
      "1\n",
      "0\n",
      "1\n",
      "0\n",
      "1\n",
      "1\n",
      "1\n",
      "0\n",
      "1\n",
      "0\n",
      "1\n",
      "0\n",
      "1\n",
      "1\n",
      "0\n",
      "1\n",
      "0\n",
      "1\n",
      "0\n",
      "1\n",
      "1\n",
      "0\n"
     ]
    },
    {
     "data": {
      "text/plain": [
       "[None,\n",
       " None,\n",
       " None,\n",
       " None,\n",
       " None,\n",
       " None,\n",
       " None,\n",
       " None,\n",
       " None,\n",
       " None,\n",
       " None,\n",
       " None,\n",
       " None,\n",
       " None,\n",
       " None,\n",
       " None,\n",
       " None,\n",
       " None,\n",
       " None,\n",
       " None,\n",
       " None,\n",
       " None,\n",
       " None,\n",
       " None,\n",
       " None,\n",
       " None,\n",
       " None,\n",
       " None]"
      ]
     },
     "execution_count": 94,
     "metadata": {},
     "output_type": "execute_result"
    }
   ],
   "source": [
    "[print(a[i][j]) for i, j in zip(ix[0], ix[1])]"
   ]
  },
  {
   "cell_type": "code",
   "execution_count": 63,
   "metadata": {},
   "outputs": [
    {
     "data": {
      "text/plain": [
       "(50, 50)"
      ]
     },
     "execution_count": 63,
     "metadata": {},
     "output_type": "execute_result"
    }
   ],
   "source": [
    "a.shape"
   ]
  },
  {
   "cell_type": "code",
   "execution_count": 67,
   "metadata": {},
   "outputs": [
    {
     "data": {
      "text/plain": [
       "array([0, 1, 0, 0, 0, 0, 0, 0, 0, 0, 0, 0, 0, 0, 0, 0, 0, 0, 0, 0, 0, 0,\n",
       "       0, 0, 0, 0, 0, 1, 1, 0, 0, 0, 0, 0, 0, 0, 0, 0, 0, 0, 0, 0, 0, 0,\n",
       "       0, 0, 0, 0, 0, 0], dtype=int32)"
      ]
     },
     "execution_count": 67,
     "metadata": {},
     "output_type": "execute_result"
    }
   ],
   "source": [
    "np.array(a)[0]"
   ]
  },
  {
   "cell_type": "code",
   "execution_count": 95,
   "metadata": {},
   "outputs": [
    {
     "name": "stdout",
     "output_type": "stream",
     "text": [
      "0 1\n",
      "1\n",
      "0 6\n",
      "0\n",
      "2 1\n",
      "1\n",
      "2 6\n",
      "1\n",
      "4 1\n",
      "1\n",
      "4 6\n",
      "0\n",
      "5 1\n",
      "1\n",
      "5 6\n",
      "0\n",
      "8 1\n",
      "1\n",
      "8 6\n",
      "0\n",
      "9 6\n",
      "1\n",
      "12 6\n",
      "1\n",
      "15 1\n",
      "1\n",
      "15 6\n",
      "0\n",
      "20 1\n",
      "1\n",
      "20 6\n",
      "0\n",
      "21 1\n",
      "1\n",
      "21 6\n",
      "0\n",
      "24 6\n",
      "1\n",
      "38 1\n",
      "1\n",
      "38 6\n",
      "0\n",
      "40 1\n",
      "1\n",
      "40 6\n",
      "0\n",
      "41 1\n",
      "1\n",
      "41 6\n",
      "0\n",
      "42 6\n",
      "1\n",
      "48 1\n",
      "1\n",
      "48 6\n",
      "0\n"
     ]
    }
   ],
   "source": [
    "for i, j in zip(ix[0], ix[1]):\n",
    "    print(i,j)\n",
    "    print(a[i][j])"
   ]
  },
  {
   "cell_type": "code",
   "execution_count": null,
   "metadata": {},
   "outputs": [],
   "source": []
  },
  {
   "cell_type": "code",
   "execution_count": 48,
   "metadata": {},
   "outputs": [],
   "source": [
    "c = np.triu(a)"
   ]
  },
  {
   "cell_type": "code",
   "execution_count": 49,
   "metadata": {},
   "outputs": [
    {
     "data": {
      "text/plain": [
       "array([0, 1, 1, 1, 1, 1, 1, 1, 1, 1, 1, 1, 1, 1, 1, 1, 1, 1, 1, 1, 1, 1,\n",
       "       1, 1, 1, 1, 1, 1, 1, 1, 1, 1, 1, 1, 1, 1, 1, 1, 1, 1, 1, 1, 1, 1,\n",
       "       1, 1, 1, 1, 1, 1], dtype=int32)"
      ]
     },
     "execution_count": 49,
     "metadata": {},
     "output_type": "execute_result"
    }
   ],
   "source": [
    "c.sum(0)"
   ]
  },
  {
   "cell_type": "code",
   "execution_count": 50,
   "metadata": {},
   "outputs": [],
   "source": [
    "c+= c.T"
   ]
  },
  {
   "cell_type": "code",
   "execution_count": 51,
   "metadata": {},
   "outputs": [
    {
     "data": {
      "text/plain": [
       "array([ 3, 12,  6,  3,  1,  2,  5,  2,  3,  2,  2,  3,  3,  2,  3,  2,  2,\n",
       "        1,  2,  1,  1,  3,  5,  1,  1,  1,  2,  2,  1,  1,  1,  1,  1,  1,\n",
       "        1,  1,  1,  1,  1,  1,  1,  1,  1,  1,  1,  1,  1,  1,  1,  1],\n",
       "      dtype=int32)"
      ]
     },
     "execution_count": 51,
     "metadata": {},
     "output_type": "execute_result"
    }
   ],
   "source": [
    "c.sum(0)"
   ]
  },
  {
   "cell_type": "code",
   "execution_count": null,
   "metadata": {},
   "outputs": [],
   "source": []
  },
  {
   "cell_type": "code",
   "execution_count": null,
   "metadata": {},
   "outputs": [],
   "source": []
  },
  {
   "cell_type": "code",
   "execution_count": 44,
   "metadata": {},
   "outputs": [
    {
     "data": {
      "text/plain": [
       "matrix([[ 3, 12,  6,  3,  1,  2,  5,  2,  3,  2,  2,  3,  3,  2,  3,  2,\n",
       "          2,  1,  2,  1,  1,  3,  5,  1,  1,  1,  2,  2,  1,  1,  1,  1,\n",
       "          1,  1,  1,  1,  1,  1,  1,  1,  1,  1,  1,  1,  1,  1,  1,  1,\n",
       "          1,  1]], dtype=int32)"
      ]
     },
     "execution_count": 44,
     "metadata": {},
     "output_type": "execute_result"
    }
   ],
   "source": [
    "a.sum(0)"
   ]
  },
  {
   "cell_type": "code",
   "execution_count": 45,
   "metadata": {},
   "outputs": [
    {
     "data": {
      "text/plain": [
       "matrix([[ 3, 10,  6,  3,  1,  2,  4,  2,  3,  2,  2,  3,  3,  2,  3,  2,\n",
       "          2,  1,  2,  1,  1,  3,  5,  1,  1,  1,  2,  2,  1,  1,  1,  1,\n",
       "          1,  1,  1,  1,  1,  1,  1,  1,  1,  1,  1,  1,  1,  1,  1,  1,\n",
       "          1,  1]], dtype=int32)"
      ]
     },
     "execution_count": 45,
     "metadata": {},
     "output_type": "execute_result"
    }
   ],
   "source": [
    "b.sum(0)"
   ]
  },
  {
   "cell_type": "code",
   "execution_count": null,
   "metadata": {},
   "outputs": [],
   "source": []
  },
  {
   "cell_type": "code",
   "execution_count": 27,
   "metadata": {},
   "outputs": [],
   "source": [
    "i = np.array(a.sum(0)!= b.sum(0))"
   ]
  },
  {
   "cell_type": "code",
   "execution_count": 28,
   "metadata": {},
   "outputs": [
    {
     "data": {
      "text/plain": [
       "array([[False,  True, False, False, False, False,  True, False, False,\n",
       "        False, False, False, False, False, False, False, False, False,\n",
       "        False, False, False, False, False, False, False, False, False,\n",
       "        False, False, False, False, False, False, False, False, False,\n",
       "        False, False, False, False, False, False, False, False, False,\n",
       "        False, False, False, False, False]])"
      ]
     },
     "execution_count": 28,
     "metadata": {},
     "output_type": "execute_result"
    }
   ],
   "source": [
    "i"
   ]
  },
  {
   "cell_type": "code",
   "execution_count": 29,
   "metadata": {},
   "outputs": [],
   "source": [
    "ms = i[:,np.newaxis]*i[np.newaxis]"
   ]
  },
  {
   "cell_type": "code",
   "execution_count": 35,
   "metadata": {},
   "outputs": [
    {
     "data": {
      "text/plain": [
       "(1, 1, 50)"
      ]
     },
     "execution_count": 35,
     "metadata": {},
     "output_type": "execute_result"
    }
   ],
   "source": [
    "np.triu(ms).shape"
   ]
  },
  {
   "cell_type": "code",
   "execution_count": 31,
   "metadata": {},
   "outputs": [
    {
     "ename": "ValueError",
     "evalue": "shapes (50,50) and (1,50) not aligned: 50 (dim 1) != 1 (dim 0)",
     "output_type": "error",
     "traceback": [
      "\u001b[1;31m---------------------------------------------------------------------------\u001b[0m",
      "\u001b[1;31mValueError\u001b[0m                                Traceback (most recent call last)",
      "\u001b[1;32m<ipython-input-31-4e24c521ce8e>\u001b[0m in \u001b[0;36m<module>\u001b[1;34m\u001b[0m\n\u001b[1;32m----> 1\u001b[1;33m \u001b[0mmasked_a\u001b[0m \u001b[1;33m=\u001b[0m \u001b[0ma\u001b[0m\u001b[1;33m*\u001b[0m\u001b[0mnp\u001b[0m\u001b[1;33m.\u001b[0m\u001b[0mtriu\u001b[0m\u001b[1;33m(\u001b[0m\u001b[0mms\u001b[0m\u001b[1;33m)\u001b[0m\u001b[1;33m\u001b[0m\u001b[1;33m\u001b[0m\u001b[0m\n\u001b[0m",
      "\u001b[1;32mc:\\users\\hr21924\\appdata\\local\\continuum\\anaconda3\\lib\\site-packages\\numpy\\matrixlib\\defmatrix.py\u001b[0m in \u001b[0;36m__mul__\u001b[1;34m(self, other)\u001b[0m\n\u001b[0;32m    218\u001b[0m         \u001b[1;32mif\u001b[0m \u001b[0misinstance\u001b[0m\u001b[1;33m(\u001b[0m\u001b[0mother\u001b[0m\u001b[1;33m,\u001b[0m \u001b[1;33m(\u001b[0m\u001b[0mN\u001b[0m\u001b[1;33m.\u001b[0m\u001b[0mndarray\u001b[0m\u001b[1;33m,\u001b[0m \u001b[0mlist\u001b[0m\u001b[1;33m,\u001b[0m \u001b[0mtuple\u001b[0m\u001b[1;33m)\u001b[0m\u001b[1;33m)\u001b[0m \u001b[1;33m:\u001b[0m\u001b[1;33m\u001b[0m\u001b[1;33m\u001b[0m\u001b[0m\n\u001b[0;32m    219\u001b[0m             \u001b[1;31m# This promotes 1-D vectors to row vectors\u001b[0m\u001b[1;33m\u001b[0m\u001b[1;33m\u001b[0m\u001b[1;33m\u001b[0m\u001b[0m\n\u001b[1;32m--> 220\u001b[1;33m             \u001b[1;32mreturn\u001b[0m \u001b[0mN\u001b[0m\u001b[1;33m.\u001b[0m\u001b[0mdot\u001b[0m\u001b[1;33m(\u001b[0m\u001b[0mself\u001b[0m\u001b[1;33m,\u001b[0m \u001b[0masmatrix\u001b[0m\u001b[1;33m(\u001b[0m\u001b[0mother\u001b[0m\u001b[1;33m)\u001b[0m\u001b[1;33m)\u001b[0m\u001b[1;33m\u001b[0m\u001b[1;33m\u001b[0m\u001b[0m\n\u001b[0m\u001b[0;32m    221\u001b[0m         \u001b[1;32mif\u001b[0m \u001b[0misscalar\u001b[0m\u001b[1;33m(\u001b[0m\u001b[0mother\u001b[0m\u001b[1;33m)\u001b[0m \u001b[1;32mor\u001b[0m \u001b[1;32mnot\u001b[0m \u001b[0mhasattr\u001b[0m\u001b[1;33m(\u001b[0m\u001b[0mother\u001b[0m\u001b[1;33m,\u001b[0m \u001b[1;34m'__rmul__'\u001b[0m\u001b[1;33m)\u001b[0m \u001b[1;33m:\u001b[0m\u001b[1;33m\u001b[0m\u001b[1;33m\u001b[0m\u001b[0m\n\u001b[0;32m    222\u001b[0m             \u001b[1;32mreturn\u001b[0m \u001b[0mN\u001b[0m\u001b[1;33m.\u001b[0m\u001b[0mdot\u001b[0m\u001b[1;33m(\u001b[0m\u001b[0mself\u001b[0m\u001b[1;33m,\u001b[0m \u001b[0mother\u001b[0m\u001b[1;33m)\u001b[0m\u001b[1;33m\u001b[0m\u001b[1;33m\u001b[0m\u001b[0m\n",
      "\u001b[1;32m<__array_function__ internals>\u001b[0m in \u001b[0;36mdot\u001b[1;34m(*args, **kwargs)\u001b[0m\n",
      "\u001b[1;31mValueError\u001b[0m: shapes (50,50) and (1,50) not aligned: 50 (dim 1) != 1 (dim 0)"
     ]
    }
   ],
   "source": [
    "masked_a = a*np.triu(ms)"
   ]
  },
  {
   "cell_type": "code",
   "execution_count": null,
   "metadata": {},
   "outputs": [],
   "source": []
  },
  {
   "cell_type": "code",
   "execution_count": null,
   "metadata": {},
   "outputs": [],
   "source": []
  },
  {
   "cell_type": "code",
   "execution_count": null,
   "metadata": {},
   "outputs": [],
   "source": []
  },
  {
   "cell_type": "code",
   "execution_count": null,
   "metadata": {},
   "outputs": [],
   "source": []
  },
  {
   "cell_type": "code",
   "execution_count": null,
   "metadata": {},
   "outputs": [],
   "source": []
  },
  {
   "cell_type": "code",
   "execution_count": 17,
   "metadata": {},
   "outputs": [],
   "source": [
    "# #Generate the map dataset for BA vs ER\n",
    "\n",
    "# map_dict = {\"BA\" : 1, \"ER\": 0}\n",
    "# n_classes = len(map_dict)\n",
    "\n",
    "# graphdatabase = GraphData(2500, 50)\n",
    "# graphdatabase.generate_BAGraphs()\n",
    "# graphdatabase.generate_ERGraphs()\n",
    "# graphdatabase.generate_adjs()\n",
    "# graphdatabase.normalise()\n",
    "# graphdatabase.tokenise(map_dict)"
   ]
  },
  {
   "cell_type": "code",
   "execution_count": 18,
   "metadata": {},
   "outputs": [
    {
     "data": {
      "text/plain": [
       "5000"
      ]
     },
     "execution_count": 18,
     "metadata": {},
     "output_type": "execute_result"
    }
   ],
   "source": [
    "#Check the length\n",
    "\n",
    "len(graphdatabase.graphlabels)"
   ]
  },
  {
   "cell_type": "code",
   "execution_count": 322,
   "metadata": {},
   "outputs": [],
   "source": [
    "X = np.array(graphdatabase.graphadjs_dad)\n",
    "Y = np.expand_dims(np.array(graphdatabase.tokenisedgraphlabels), axis = 1)\n",
    "# Y = one_hot_encode(np.array(graphdatabase.tokenisedgraphlabels), n_classes)\n",
    "h = np.ones(X.shape[:2]+(1,))"
   ]
  },
  {
   "cell_type": "code",
   "execution_count": 323,
   "metadata": {},
   "outputs": [],
   "source": [
    "class GCN(nn.Module):\n",
    "    def __init__(self, nnodes, graphoutputfeat):\n",
    "        super(GCN, self).__init__()\n",
    "        self.fc = nn.Linear(in_features=nnodes, out_features=graphoutputfeat)\n",
    "    def forward(self, input, adj):\n",
    "        x = F.relu(torch.bmm(adj, input))\n",
    "        x = x.view(-1, x.shape[-2])\n",
    "        x = F.softmax(self.fc(x))\n",
    "        return x"
   ]
  },
  {
   "cell_type": "code",
   "execution_count": 324,
   "metadata": {},
   "outputs": [
    {
     "name": "stdout",
     "output_type": "stream",
     "text": [
      "(5000, 50, 50)\n",
      "(5000, 1)\n",
      "(5000, 50, 1)\n"
     ]
    }
   ],
   "source": [
    "print(X.shape)\n",
    "print(Y.shape)\n",
    "print(h.shape)"
   ]
  },
  {
   "cell_type": "code",
   "execution_count": 325,
   "metadata": {},
   "outputs": [],
   "source": [
    "net = GCN(h.shape[-2], 2).to(device)"
   ]
  },
  {
   "cell_type": "code",
   "execution_count": 400,
   "metadata": {},
   "outputs": [],
   "source": [
    "g_a = graphdatabase.graphadjs[:2500].copy()\n",
    "g_b = graphdatabase.graphadjs[2500:].copy()"
   ]
  },
  {
   "cell_type": "code",
   "execution_count": 23,
   "metadata": {},
   "outputs": [],
   "source": [
    "# loss_fn = nn.MSELoss(reduction='mean')\n",
    "loss_fn = nn.CrossEntropyLoss()\n",
    "\n",
    "optimizer = optim.Adam(net.parameters(), lr=.001)\n",
    "train_step = make_train_step(net, loss_fn, optimizer)"
   ]
  },
  {
   "cell_type": "code",
   "execution_count": 24,
   "metadata": {
    "scrolled": true
   },
   "outputs": [
    {
     "name": "stderr",
     "output_type": "stream",
     "text": [
      "c:\\users\\hr21924\\appdata\\local\\continuum\\anaconda3\\lib\\site-packages\\ipykernel_launcher.py:8: UserWarning: Implicit dimension choice for softmax has been deprecated. Change the call to include dim=X as an argument.\n",
      "  \n",
      "c:\\users\\hr21924\\appdata\\local\\continuum\\anaconda3\\lib\\site-packages\\ipykernel_launcher.py:31: UserWarning: To copy construct from a tensor, it is recommended to use sourceTensor.clone().detach() or sourceTensor.clone().detach().requires_grad_(True), rather than torch.tensor(sourceTensor).\n"
     ]
    },
    {
     "name": "stdout",
     "output_type": "stream",
     "text": [
      "Val Accuracy is: 0.5727500319480896\n",
      "[1] Training loss: 0.676\t Validation loss: 0.675\n",
      "Val Accuracy is: 0.5595000386238098\n",
      "[2] Training loss: 0.675\t Validation loss: 0.675\n",
      "Val Accuracy is: 0.7302500605583191\n",
      "[3] Training loss: 0.674\t Validation loss: 0.675\n",
      "Val Accuracy is: 0.7985000610351562\n",
      "[4] Training loss: 0.674\t Validation loss: 0.675\n",
      "Val Accuracy is: 0.7622500658035278\n",
      "[5] Training loss: 0.673\t Validation loss: 0.675\n",
      "Val Accuracy is: 0.7432500123977661\n",
      "[6] Training loss: 0.673\t Validation loss: 0.674\n",
      "Val Accuracy is: 0.7440000176429749\n",
      "[7] Training loss: 0.673\t Validation loss: 0.674\n",
      "Val Accuracy is: 0.7637500166893005\n",
      "[8] Training loss: 0.672\t Validation loss: 0.674\n",
      "Val Accuracy is: 0.7890000343322754\n",
      "[9] Training loss: 0.672\t Validation loss: 0.673\n",
      "Val Accuracy is: 0.811750054359436\n",
      "[10] Training loss: 0.671\t Validation loss: 0.672\n",
      "Val Accuracy is: 0.8290000557899475\n",
      "[11] Training loss: 0.671\t Validation loss: 0.672\n",
      "Val Accuracy is: 0.7355000376701355\n",
      "[12] Training loss: 0.670\t Validation loss: 0.671\n",
      "Val Accuracy is: 0.6425000429153442\n",
      "[13] Training loss: 0.670\t Validation loss: 0.671\n",
      "Val Accuracy is: 0.5492500066757202\n",
      "[14] Training loss: 0.669\t Validation loss: 0.671\n",
      "Val Accuracy is: 0.5515000224113464\n",
      "[15] Training loss: 0.669\t Validation loss: 0.670\n",
      "Val Accuracy is: 0.5520000457763672\n",
      "[16] Training loss: 0.668\t Validation loss: 0.670\n",
      "Val Accuracy is: 0.5525000095367432\n",
      "[17] Training loss: 0.668\t Validation loss: 0.669\n",
      "Val Accuracy is: 0.5522500276565552\n",
      "[18] Training loss: 0.668\t Validation loss: 0.669\n",
      "Val Accuracy is: 0.5517500042915344\n",
      "[19] Training loss: 0.667\t Validation loss: 0.668\n",
      "Val Accuracy is: 0.5515000224113464\n",
      "[20] Training loss: 0.667\t Validation loss: 0.668\n",
      "Val Accuracy is: 0.5512500405311584\n",
      "[21] Training loss: 0.666\t Validation loss: 0.668\n",
      "Val Accuracy is: 0.6455000042915344\n",
      "[22] Training loss: 0.666\t Validation loss: 0.667\n",
      "Val Accuracy is: 0.6447500586509705\n",
      "[23] Training loss: 0.665\t Validation loss: 0.667\n",
      "Val Accuracy is: 0.643250048160553\n",
      "[24] Training loss: 0.665\t Validation loss: 0.667\n",
      "Val Accuracy is: 0.7462500333786011\n",
      "[25] Training loss: 0.665\t Validation loss: 0.666\n",
      "Val Accuracy is: 0.7455000281333923\n",
      "[26] Training loss: 0.664\t Validation loss: 0.666\n",
      "Val Accuracy is: 0.7450000643730164\n",
      "[27] Training loss: 0.664\t Validation loss: 0.666\n",
      "Val Accuracy is: 0.7452500462532043\n",
      "[28] Training loss: 0.663\t Validation loss: 0.665\n",
      "Val Accuracy is: 0.7452500462532043\n",
      "[29] Training loss: 0.663\t Validation loss: 0.665\n",
      "Val Accuracy is: 0.7467500567436218\n",
      "[30] Training loss: 0.663\t Validation loss: 0.664\n",
      "Val Accuracy is: 0.7467500567436218\n",
      "[31] Training loss: 0.662\t Validation loss: 0.664\n",
      "Val Accuracy is: 0.7472500205039978\n",
      "[32] Training loss: 0.662\t Validation loss: 0.664\n",
      "Val Accuracy is: 0.7485000491142273\n",
      "[33] Training loss: 0.661\t Validation loss: 0.663\n",
      "Val Accuracy is: 0.7490000128746033\n",
      "[34] Training loss: 0.661\t Validation loss: 0.663\n",
      "Val Accuracy is: 0.749250054359436\n",
      "[35] Training loss: 0.660\t Validation loss: 0.662\n",
      "Val Accuracy is: 0.749750018119812\n",
      "[36] Training loss: 0.660\t Validation loss: 0.662\n",
      "Val Accuracy is: 0.7505000233650208\n",
      "[37] Training loss: 0.660\t Validation loss: 0.662\n",
      "Val Accuracy is: 0.7512500286102295\n",
      "[38] Training loss: 0.659\t Validation loss: 0.661\n",
      "Val Accuracy is: 0.7515000104904175\n",
      "[39] Training loss: 0.659\t Validation loss: 0.661\n",
      "Val Accuracy is: 0.7517500519752502\n",
      "[40] Training loss: 0.658\t Validation loss: 0.660\n",
      "Val Accuracy is: 0.7515000104904175\n",
      "[41] Training loss: 0.658\t Validation loss: 0.660\n",
      "Val Accuracy is: 0.7515000104904175\n",
      "[42] Training loss: 0.658\t Validation loss: 0.660\n",
      "Val Accuracy is: 0.7515000104904175\n",
      "[43] Training loss: 0.657\t Validation loss: 0.659\n",
      "Val Accuracy is: 0.7517500519752502\n",
      "[44] Training loss: 0.657\t Validation loss: 0.659\n",
      "Val Accuracy is: 0.7517500519752502\n",
      "[45] Training loss: 0.656\t Validation loss: 0.659\n",
      "Val Accuracy is: 0.7517500519752502\n",
      "[46] Training loss: 0.656\t Validation loss: 0.658\n",
      "Val Accuracy is: 0.7520000338554382\n",
      "[47] Training loss: 0.656\t Validation loss: 0.658\n",
      "Val Accuracy is: 0.752500057220459\n",
      "[48] Training loss: 0.655\t Validation loss: 0.658\n",
      "Val Accuracy is: 0.752500057220459\n",
      "[49] Training loss: 0.655\t Validation loss: 0.657\n",
      "Val Accuracy is: 0.7535000443458557\n",
      "[50] Training loss: 0.654\t Validation loss: 0.657\n",
      "Val Accuracy is: 0.7542500495910645\n",
      "[51] Training loss: 0.654\t Validation loss: 0.656\n",
      "Val Accuracy is: 0.7550000548362732\n",
      "[52] Training loss: 0.654\t Validation loss: 0.656\n",
      "Val Accuracy is: 0.7555000185966492\n",
      "[53] Training loss: 0.653\t Validation loss: 0.656\n",
      "Val Accuracy is: 0.7557500600814819\n",
      "[54] Training loss: 0.653\t Validation loss: 0.655\n",
      "Val Accuracy is: 0.7565000653266907\n",
      "[55] Training loss: 0.652\t Validation loss: 0.655\n",
      "Val Accuracy is: 0.7575000524520874\n",
      "[56] Training loss: 0.652\t Validation loss: 0.655\n",
      "Val Accuracy is: 0.7582500576972961\n",
      "[57] Training loss: 0.652\t Validation loss: 0.654\n",
      "Val Accuracy is: 0.7582500576972961\n",
      "[58] Training loss: 0.651\t Validation loss: 0.654\n",
      "Val Accuracy is: 0.7582500576972961\n",
      "[59] Training loss: 0.651\t Validation loss: 0.653\n",
      "Val Accuracy is: 0.7587500214576721\n",
      "[60] Training loss: 0.651\t Validation loss: 0.653\n",
      "Val Accuracy is: 0.7585000395774841\n",
      "[61] Training loss: 0.650\t Validation loss: 0.653\n",
      "Val Accuracy is: 0.7590000629425049\n",
      "[62] Training loss: 0.650\t Validation loss: 0.652\n",
      "Val Accuracy is: 0.7595000267028809\n",
      "[63] Training loss: 0.649\t Validation loss: 0.652\n",
      "Val Accuracy is: 0.7597500085830688\n",
      "[64] Training loss: 0.649\t Validation loss: 0.652\n",
      "Val Accuracy is: 0.7600000500679016\n",
      "[65] Training loss: 0.649\t Validation loss: 0.651\n",
      "Val Accuracy is: 0.7602500319480896\n",
      "[66] Training loss: 0.648\t Validation loss: 0.651\n",
      "Val Accuracy is: 0.7610000371932983\n",
      "[67] Training loss: 0.648\t Validation loss: 0.651\n",
      "Val Accuracy is: 0.7605000138282776\n",
      "[68] Training loss: 0.648\t Validation loss: 0.650\n",
      "Val Accuracy is: 0.7607500553131104\n",
      "[69] Training loss: 0.647\t Validation loss: 0.650\n",
      "Val Accuracy is: 0.7612500190734863\n",
      "[70] Training loss: 0.647\t Validation loss: 0.650\n",
      "Val Accuracy is: 0.7615000605583191\n",
      "[71] Training loss: 0.646\t Validation loss: 0.649\n",
      "Val Accuracy is: 0.7622500658035278\n",
      "[72] Training loss: 0.646\t Validation loss: 0.649\n",
      "Val Accuracy is: 0.7622500658035278\n",
      "[73] Training loss: 0.646\t Validation loss: 0.649\n",
      "Val Accuracy is: 0.7625000476837158\n",
      "[74] Training loss: 0.645\t Validation loss: 0.648\n",
      "Val Accuracy is: 0.7632500529289246\n",
      "[75] Training loss: 0.645\t Validation loss: 0.648\n",
      "Val Accuracy is: 0.7635000348091125\n",
      "[76] Training loss: 0.645\t Validation loss: 0.647\n",
      "Val Accuracy is: 0.7642500400543213\n",
      "[77] Training loss: 0.644\t Validation loss: 0.647\n",
      "Val Accuracy is: 0.7640000581741333\n",
      "[78] Training loss: 0.644\t Validation loss: 0.647\n",
      "Val Accuracy is: 0.7642500400543213\n",
      "[79] Training loss: 0.643\t Validation loss: 0.646\n",
      "Val Accuracy is: 0.7645000219345093\n",
      "[80] Training loss: 0.643\t Validation loss: 0.646\n",
      "Val Accuracy is: 0.7645000219345093\n",
      "[81] Training loss: 0.643\t Validation loss: 0.646\n",
      "Val Accuracy is: 0.7640000581741333\n",
      "[82] Training loss: 0.642\t Validation loss: 0.645\n",
      "Val Accuracy is: 0.7642500400543213\n",
      "[83] Training loss: 0.642\t Validation loss: 0.645\n",
      "Val Accuracy is: 0.7642500400543213\n",
      "[84] Training loss: 0.642\t Validation loss: 0.645\n",
      "Val Accuracy is: 0.764750063419342\n",
      "[85] Training loss: 0.641\t Validation loss: 0.644\n",
      "Val Accuracy is: 0.76500004529953\n",
      "[86] Training loss: 0.641\t Validation loss: 0.644\n",
      "Val Accuracy is: 0.76500004529953\n",
      "[87] Training loss: 0.641\t Validation loss: 0.644\n",
      "Val Accuracy is: 0.764750063419342\n",
      "[88] Training loss: 0.640\t Validation loss: 0.643\n",
      "Val Accuracy is: 0.7645000219345093\n",
      "[89] Training loss: 0.640\t Validation loss: 0.643\n",
      "Val Accuracy is: 0.764750063419342\n",
      "[90] Training loss: 0.639\t Validation loss: 0.643\n",
      "Val Accuracy is: 0.764750063419342\n",
      "[91] Training loss: 0.639\t Validation loss: 0.642\n",
      "Val Accuracy is: 0.764750063419342\n",
      "[92] Training loss: 0.639\t Validation loss: 0.642\n",
      "Val Accuracy is: 0.7645000219345093\n",
      "[93] Training loss: 0.638\t Validation loss: 0.642\n",
      "Val Accuracy is: 0.7645000219345093\n",
      "[94] Training loss: 0.638\t Validation loss: 0.641\n",
      "Val Accuracy is: 0.7642500400543213\n",
      "[95] Training loss: 0.638\t Validation loss: 0.641\n",
      "Val Accuracy is: 0.7642500400543213\n",
      "[96] Training loss: 0.637\t Validation loss: 0.641\n",
      "Val Accuracy is: 0.7640000581741333\n",
      "[97] Training loss: 0.637\t Validation loss: 0.640\n",
      "Val Accuracy is: 0.7642500400543213\n",
      "[98] Training loss: 0.637\t Validation loss: 0.640\n",
      "Val Accuracy is: 0.76500004529953\n",
      "[99] Training loss: 0.636\t Validation loss: 0.640\n",
      "Val Accuracy is: 0.76500004529953\n",
      "[100] Training loss: 0.636\t Validation loss: 0.639\n",
      "Val Accuracy is: 0.764750063419342\n",
      "[101] Training loss: 0.636\t Validation loss: 0.639\n",
      "Val Accuracy is: 0.7645000219345093\n",
      "[102] Training loss: 0.635\t Validation loss: 0.639\n",
      "Val Accuracy is: 0.7645000219345093\n",
      "[103] Training loss: 0.635\t Validation loss: 0.638\n",
      "Val Accuracy is: 0.7645000219345093\n",
      "[104] Training loss: 0.635\t Validation loss: 0.638\n",
      "Val Accuracy is: 0.7645000219345093\n",
      "[105] Training loss: 0.634\t Validation loss: 0.638\n",
      "Val Accuracy is: 0.7645000219345093\n",
      "[106] Training loss: 0.634\t Validation loss: 0.637\n",
      "Val Accuracy is: 0.765250027179718\n",
      "[107] Training loss: 0.634\t Validation loss: 0.637\n",
      "Val Accuracy is: 0.7657500505447388\n",
      "[108] Training loss: 0.633\t Validation loss: 0.637\n",
      "Val Accuracy is: 0.7657500505447388\n",
      "[109] Training loss: 0.633\t Validation loss: 0.637\n",
      "Val Accuracy is: 0.7660000324249268\n",
      "[110] Training loss: 0.633\t Validation loss: 0.636\n",
      "Val Accuracy is: 0.7660000324249268\n",
      "[111] Training loss: 0.632\t Validation loss: 0.636\n",
      "Val Accuracy is: 0.765500009059906\n",
      "[112] Training loss: 0.632\t Validation loss: 0.636\n",
      "Val Accuracy is: 0.765250027179718\n",
      "[113] Training loss: 0.632\t Validation loss: 0.635\n",
      "Val Accuracy is: 0.765250027179718\n",
      "[114] Training loss: 0.631\t Validation loss: 0.635\n",
      "Val Accuracy is: 0.765250027179718\n",
      "[115] Training loss: 0.631\t Validation loss: 0.635\n",
      "Val Accuracy is: 0.765250027179718\n",
      "[116] Training loss: 0.631\t Validation loss: 0.634\n",
      "Val Accuracy is: 0.76500004529953\n",
      "[117] Training loss: 0.630\t Validation loss: 0.634\n",
      "Val Accuracy is: 0.765250027179718\n",
      "[118] Training loss: 0.630\t Validation loss: 0.634\n",
      "Val Accuracy is: 0.7657500505447388\n",
      "[119] Training loss: 0.630\t Validation loss: 0.633\n",
      "Val Accuracy is: 0.765250027179718\n",
      "[120] Training loss: 0.629\t Validation loss: 0.633\n",
      "Val Accuracy is: 0.765250027179718\n",
      "[121] Training loss: 0.629\t Validation loss: 0.633\n",
      "Val Accuracy is: 0.765500009059906\n",
      "[122] Training loss: 0.629\t Validation loss: 0.632\n",
      "Val Accuracy is: 0.765500009059906\n",
      "[123] Training loss: 0.628\t Validation loss: 0.632\n",
      "Val Accuracy is: 0.765500009059906\n",
      "[124] Training loss: 0.628\t Validation loss: 0.632\n",
      "Val Accuracy is: 0.765500009059906\n",
      "[125] Training loss: 0.628\t Validation loss: 0.631\n",
      "Val Accuracy is: 0.765500009059906\n",
      "[126] Training loss: 0.627\t Validation loss: 0.631\n",
      "Val Accuracy is: 0.765250027179718\n",
      "[127] Training loss: 0.627\t Validation loss: 0.631\n",
      "Val Accuracy is: 0.765250027179718\n",
      "[128] Training loss: 0.627\t Validation loss: 0.631\n",
      "Val Accuracy is: 0.765250027179718\n",
      "[129] Training loss: 0.626\t Validation loss: 0.630\n",
      "Val Accuracy is: 0.765500009059906\n",
      "[130] Training loss: 0.626\t Validation loss: 0.630\n",
      "Val Accuracy is: 0.765250027179718\n",
      "[131] Training loss: 0.626\t Validation loss: 0.630\n",
      "Val Accuracy is: 0.765250027179718\n",
      "[132] Training loss: 0.625\t Validation loss: 0.629\n",
      "Val Accuracy is: 0.765250027179718\n",
      "[133] Training loss: 0.625\t Validation loss: 0.629\n",
      "Val Accuracy is: 0.76500004529953\n",
      "[134] Training loss: 0.625\t Validation loss: 0.629\n",
      "Val Accuracy is: 0.765500009059906\n",
      "[135] Training loss: 0.624\t Validation loss: 0.628\n",
      "Val Accuracy is: 0.765500009059906\n",
      "[136] Training loss: 0.624\t Validation loss: 0.628\n",
      "Val Accuracy is: 0.765250027179718\n",
      "[137] Training loss: 0.624\t Validation loss: 0.628\n",
      "Val Accuracy is: 0.764750063419342\n",
      "[138] Training loss: 0.623\t Validation loss: 0.627\n",
      "Val Accuracy is: 0.764750063419342\n",
      "[139] Training loss: 0.623\t Validation loss: 0.627\n",
      "Val Accuracy is: 0.76500004529953\n",
      "[140] Training loss: 0.623\t Validation loss: 0.627\n",
      "Val Accuracy is: 0.765250027179718\n",
      "[141] Training loss: 0.622\t Validation loss: 0.627\n",
      "Val Accuracy is: 0.765250027179718\n",
      "[142] Training loss: 0.622\t Validation loss: 0.626\n",
      "Val Accuracy is: 0.765500009059906\n",
      "[143] Training loss: 0.622\t Validation loss: 0.626\n",
      "Val Accuracy is: 0.765500009059906\n",
      "[144] Training loss: 0.622\t Validation loss: 0.626\n",
      "Val Accuracy is: 0.7657500505447388\n",
      "[145] Training loss: 0.621\t Validation loss: 0.625\n",
      "Val Accuracy is: 0.7657500505447388\n",
      "[146] Training loss: 0.621\t Validation loss: 0.625\n",
      "Val Accuracy is: 0.7660000324249268\n",
      "[147] Training loss: 0.621\t Validation loss: 0.625\n",
      "Val Accuracy is: 0.7660000324249268\n",
      "[148] Training loss: 0.620\t Validation loss: 0.624\n",
      "Val Accuracy is: 0.7660000324249268\n",
      "[149] Training loss: 0.620\t Validation loss: 0.624\n",
      "Val Accuracy is: 0.7660000324249268\n",
      "[150] Training loss: 0.620\t Validation loss: 0.624\n",
      "Val Accuracy is: 0.7660000324249268\n",
      "[151] Training loss: 0.619\t Validation loss: 0.624\n",
      "Val Accuracy is: 0.7662500143051147\n",
      "[152] Training loss: 0.619\t Validation loss: 0.623\n",
      "Val Accuracy is: 0.7665000557899475\n",
      "[153] Training loss: 0.619\t Validation loss: 0.623\n",
      "Val Accuracy is: 0.7665000557899475\n",
      "[154] Training loss: 0.618\t Validation loss: 0.623\n",
      "Val Accuracy is: 0.7665000557899475\n",
      "[155] Training loss: 0.618\t Validation loss: 0.622\n",
      "Val Accuracy is: 0.7667500376701355\n",
      "[156] Training loss: 0.618\t Validation loss: 0.622\n",
      "Val Accuracy is: 0.7662500143051147\n",
      "[157] Training loss: 0.618\t Validation loss: 0.622\n",
      "Val Accuracy is: 0.7662500143051147\n",
      "[158] Training loss: 0.617\t Validation loss: 0.622\n",
      "Val Accuracy is: 0.7662500143051147\n",
      "[159] Training loss: 0.617\t Validation loss: 0.621\n",
      "Val Accuracy is: 0.7660000324249268\n",
      "[160] Training loss: 0.617\t Validation loss: 0.621\n",
      "Val Accuracy is: 0.7660000324249268\n",
      "[161] Training loss: 0.616\t Validation loss: 0.621\n",
      "Val Accuracy is: 0.7660000324249268\n",
      "[162] Training loss: 0.616\t Validation loss: 0.620\n",
      "Val Accuracy is: 0.7662500143051147\n",
      "[163] Training loss: 0.616\t Validation loss: 0.620\n",
      "Val Accuracy is: 0.7662500143051147\n",
      "[164] Training loss: 0.615\t Validation loss: 0.620\n",
      "Val Accuracy is: 0.7665000557899475\n",
      "[165] Training loss: 0.615\t Validation loss: 0.619\n",
      "Val Accuracy is: 0.7665000557899475\n",
      "[166] Training loss: 0.615\t Validation loss: 0.619\n",
      "Val Accuracy is: 0.7665000557899475\n",
      "[167] Training loss: 0.614\t Validation loss: 0.619\n",
      "Val Accuracy is: 0.7665000557899475\n",
      "[168] Training loss: 0.614\t Validation loss: 0.619\n",
      "Val Accuracy is: 0.7665000557899475\n",
      "[169] Training loss: 0.614\t Validation loss: 0.618\n",
      "Val Accuracy is: 0.7667500376701355\n",
      "[170] Training loss: 0.614\t Validation loss: 0.618\n",
      "Val Accuracy is: 0.7667500376701355\n",
      "[171] Training loss: 0.613\t Validation loss: 0.618\n",
      "Val Accuracy is: 0.7667500376701355\n",
      "[172] Training loss: 0.613\t Validation loss: 0.617\n",
      "Val Accuracy is: 0.7667500376701355\n",
      "[173] Training loss: 0.613\t Validation loss: 0.617\n",
      "Val Accuracy is: 0.7670000195503235\n",
      "[174] Training loss: 0.612\t Validation loss: 0.617\n",
      "Val Accuracy is: 0.7670000195503235\n",
      "[175] Training loss: 0.612\t Validation loss: 0.617\n",
      "Val Accuracy is: 0.7670000195503235\n",
      "[176] Training loss: 0.612\t Validation loss: 0.616\n",
      "Val Accuracy is: 0.7670000195503235\n",
      "[177] Training loss: 0.612\t Validation loss: 0.616\n",
      "Val Accuracy is: 0.7670000195503235\n",
      "[178] Training loss: 0.611\t Validation loss: 0.616\n",
      "Val Accuracy is: 0.7670000195503235\n",
      "[179] Training loss: 0.611\t Validation loss: 0.615\n",
      "Val Accuracy is: 0.7670000195503235\n",
      "[180] Training loss: 0.611\t Validation loss: 0.615\n",
      "Val Accuracy is: 0.7670000195503235\n",
      "[181] Training loss: 0.610\t Validation loss: 0.615\n",
      "Val Accuracy is: 0.7670000195503235\n",
      "[182] Training loss: 0.610\t Validation loss: 0.615\n",
      "Val Accuracy is: 0.7670000195503235\n",
      "[183] Training loss: 0.610\t Validation loss: 0.614\n",
      "Val Accuracy is: 0.7670000195503235\n",
      "[184] Training loss: 0.609\t Validation loss: 0.614\n",
      "Val Accuracy is: 0.7670000195503235\n",
      "[185] Training loss: 0.609\t Validation loss: 0.614\n",
      "Val Accuracy is: 0.7672500610351562\n",
      "[186] Training loss: 0.609\t Validation loss: 0.614\n",
      "Val Accuracy is: 0.7672500610351562\n",
      "[187] Training loss: 0.609\t Validation loss: 0.613\n",
      "Val Accuracy is: 0.7675000429153442\n",
      "[188] Training loss: 0.608\t Validation loss: 0.613\n",
      "Val Accuracy is: 0.7672500610351562\n",
      "[189] Training loss: 0.608\t Validation loss: 0.613\n",
      "Val Accuracy is: 0.7672500610351562\n",
      "[190] Training loss: 0.608\t Validation loss: 0.612\n"
     ]
    },
    {
     "name": "stdout",
     "output_type": "stream",
     "text": [
      "Val Accuracy is: 0.7672500610351562\n",
      "[191] Training loss: 0.607\t Validation loss: 0.612\n",
      "Val Accuracy is: 0.7677500247955322\n",
      "[192] Training loss: 0.607\t Validation loss: 0.612\n",
      "Val Accuracy is: 0.7677500247955322\n",
      "[193] Training loss: 0.607\t Validation loss: 0.612\n",
      "Val Accuracy is: 0.7675000429153442\n",
      "[194] Training loss: 0.607\t Validation loss: 0.611\n",
      "Val Accuracy is: 0.7677500247955322\n",
      "[195] Training loss: 0.606\t Validation loss: 0.611\n",
      "Val Accuracy is: 0.7680000066757202\n",
      "[196] Training loss: 0.606\t Validation loss: 0.611\n",
      "Val Accuracy is: 0.768250048160553\n",
      "[197] Training loss: 0.606\t Validation loss: 0.610\n",
      "Val Accuracy is: 0.768250048160553\n",
      "[198] Training loss: 0.605\t Validation loss: 0.610\n",
      "Val Accuracy is: 0.768250048160553\n",
      "[199] Training loss: 0.605\t Validation loss: 0.610\n",
      "Val Accuracy is: 0.7680000066757202\n",
      "[200] Training loss: 0.605\t Validation loss: 0.610\n",
      "Val Accuracy is: 0.768250048160553\n",
      "[201] Training loss: 0.605\t Validation loss: 0.609\n",
      "Val Accuracy is: 0.768250048160553\n",
      "[202] Training loss: 0.604\t Validation loss: 0.609\n",
      "Val Accuracy is: 0.768250048160553\n",
      "[203] Training loss: 0.604\t Validation loss: 0.609\n",
      "Val Accuracy is: 0.7680000066757202\n",
      "[204] Training loss: 0.604\t Validation loss: 0.609\n",
      "Val Accuracy is: 0.768250048160553\n",
      "[205] Training loss: 0.603\t Validation loss: 0.608\n",
      "Val Accuracy is: 0.768250048160553\n",
      "[206] Training loss: 0.603\t Validation loss: 0.608\n",
      "Val Accuracy is: 0.7680000066757202\n",
      "[207] Training loss: 0.603\t Validation loss: 0.608\n",
      "Val Accuracy is: 0.7680000066757202\n",
      "[208] Training loss: 0.603\t Validation loss: 0.607\n",
      "Val Accuracy is: 0.768250048160553\n",
      "[209] Training loss: 0.602\t Validation loss: 0.607\n",
      "Val Accuracy is: 0.768250048160553\n",
      "[210] Training loss: 0.602\t Validation loss: 0.607\n",
      "Val Accuracy is: 0.8680000305175781\n",
      "[211] Training loss: 0.602\t Validation loss: 0.607\n",
      "Val Accuracy is: 0.8677500486373901\n",
      "[212] Training loss: 0.602\t Validation loss: 0.606\n",
      "Val Accuracy is: 0.8677500486373901\n",
      "[213] Training loss: 0.601\t Validation loss: 0.606\n",
      "Val Accuracy is: 0.8677500486373901\n",
      "[214] Training loss: 0.601\t Validation loss: 0.606\n",
      "Val Accuracy is: 0.8677500486373901\n",
      "[215] Training loss: 0.601\t Validation loss: 0.606\n",
      "Val Accuracy is: 0.8680000305175781\n",
      "[216] Training loss: 0.600\t Validation loss: 0.605\n",
      "Val Accuracy is: 0.8680000305175781\n",
      "[217] Training loss: 0.600\t Validation loss: 0.605\n",
      "Val Accuracy is: 0.8680000305175781\n",
      "[218] Training loss: 0.600\t Validation loss: 0.605\n",
      "Val Accuracy is: 0.8682500123977661\n",
      "[219] Training loss: 0.600\t Validation loss: 0.604\n",
      "Val Accuracy is: 0.8682500123977661\n",
      "[220] Training loss: 0.599\t Validation loss: 0.604\n",
      "Val Accuracy is: 0.8682500123977661\n",
      "[221] Training loss: 0.599\t Validation loss: 0.604\n",
      "Val Accuracy is: 0.8685000538825989\n",
      "[222] Training loss: 0.599\t Validation loss: 0.604\n",
      "Val Accuracy is: 0.8685000538825989\n",
      "[223] Training loss: 0.599\t Validation loss: 0.603\n",
      "Val Accuracy is: 0.8685000538825989\n",
      "[224] Training loss: 0.598\t Validation loss: 0.603\n",
      "Val Accuracy is: 0.8685000538825989\n",
      "[225] Training loss: 0.598\t Validation loss: 0.603\n",
      "Val Accuracy is: 0.8680000305175781\n",
      "[226] Training loss: 0.598\t Validation loss: 0.603\n",
      "Val Accuracy is: 0.8680000305175781\n",
      "[227] Training loss: 0.597\t Validation loss: 0.602\n",
      "Val Accuracy is: 0.8680000305175781\n",
      "[228] Training loss: 0.597\t Validation loss: 0.602\n",
      "Val Accuracy is: 0.8680000305175781\n",
      "[229] Training loss: 0.597\t Validation loss: 0.602\n",
      "Val Accuracy is: 0.8682500123977661\n",
      "[230] Training loss: 0.597\t Validation loss: 0.602\n",
      "Val Accuracy is: 0.8682500123977661\n",
      "[231] Training loss: 0.596\t Validation loss: 0.601\n",
      "Val Accuracy is: 0.8682500123977661\n",
      "[232] Training loss: 0.596\t Validation loss: 0.601\n",
      "Val Accuracy is: 0.8682500123977661\n",
      "[233] Training loss: 0.596\t Validation loss: 0.601\n",
      "Val Accuracy is: 0.8682500123977661\n",
      "[234] Training loss: 0.596\t Validation loss: 0.601\n",
      "Val Accuracy is: 0.8682500123977661\n",
      "[235] Training loss: 0.595\t Validation loss: 0.600\n",
      "Val Accuracy is: 0.8682500123977661\n",
      "[236] Training loss: 0.595\t Validation loss: 0.600\n",
      "Val Accuracy is: 0.8682500123977661\n",
      "[237] Training loss: 0.595\t Validation loss: 0.600\n",
      "Val Accuracy is: 0.8680000305175781\n",
      "[238] Training loss: 0.595\t Validation loss: 0.599\n",
      "Val Accuracy is: 0.8680000305175781\n",
      "[239] Training loss: 0.594\t Validation loss: 0.599\n",
      "Val Accuracy is: 0.8680000305175781\n",
      "[240] Training loss: 0.594\t Validation loss: 0.599\n",
      "Val Accuracy is: 0.8682500123977661\n",
      "[241] Training loss: 0.594\t Validation loss: 0.599\n",
      "Val Accuracy is: 0.8682500123977661\n",
      "[242] Training loss: 0.593\t Validation loss: 0.598\n",
      "Val Accuracy is: 0.8682500123977661\n",
      "[243] Training loss: 0.593\t Validation loss: 0.598\n",
      "Val Accuracy is: 0.8685000538825989\n",
      "[244] Training loss: 0.593\t Validation loss: 0.598\n",
      "Val Accuracy is: 0.8685000538825989\n",
      "[245] Training loss: 0.593\t Validation loss: 0.598\n",
      "Val Accuracy is: 0.8685000538825989\n",
      "[246] Training loss: 0.592\t Validation loss: 0.597\n",
      "Val Accuracy is: 0.8687500357627869\n",
      "[247] Training loss: 0.592\t Validation loss: 0.597\n",
      "Val Accuracy is: 0.8687500357627869\n",
      "[248] Training loss: 0.592\t Validation loss: 0.597\n",
      "Val Accuracy is: 0.8687500357627869\n",
      "[249] Training loss: 0.592\t Validation loss: 0.597\n",
      "Val Accuracy is: 0.8687500357627869\n",
      "[250] Training loss: 0.591\t Validation loss: 0.596\n",
      "Val Accuracy is: 0.8690000176429749\n",
      "[251] Training loss: 0.591\t Validation loss: 0.596\n",
      "Val Accuracy is: 0.8690000176429749\n",
      "[252] Training loss: 0.591\t Validation loss: 0.596\n",
      "Val Accuracy is: 0.8690000176429749\n",
      "[253] Training loss: 0.591\t Validation loss: 0.596\n",
      "Val Accuracy is: 0.8690000176429749\n",
      "[254] Training loss: 0.590\t Validation loss: 0.595\n",
      "Val Accuracy is: 0.8695000410079956\n",
      "[255] Training loss: 0.590\t Validation loss: 0.595\n",
      "Val Accuracy is: 0.8695000410079956\n",
      "[256] Training loss: 0.590\t Validation loss: 0.595\n",
      "Val Accuracy is: 0.8695000410079956\n",
      "[257] Training loss: 0.590\t Validation loss: 0.595\n",
      "Val Accuracy is: 0.8692500591278076\n",
      "[258] Training loss: 0.589\t Validation loss: 0.594\n",
      "Val Accuracy is: 0.8692500591278076\n",
      "[259] Training loss: 0.589\t Validation loss: 0.594\n",
      "Val Accuracy is: 0.8695000410079956\n",
      "[260] Training loss: 0.589\t Validation loss: 0.594\n",
      "Val Accuracy is: 0.8695000410079956\n",
      "[261] Training loss: 0.589\t Validation loss: 0.594\n",
      "Val Accuracy is: 0.8695000410079956\n",
      "[262] Training loss: 0.588\t Validation loss: 0.593\n",
      "Val Accuracy is: 0.8695000410079956\n",
      "[263] Training loss: 0.588\t Validation loss: 0.593\n",
      "Val Accuracy is: 0.8695000410079956\n",
      "[264] Training loss: 0.588\t Validation loss: 0.593\n",
      "Val Accuracy is: 0.8690000176429749\n",
      "[265] Training loss: 0.588\t Validation loss: 0.593\n",
      "Val Accuracy is: 0.8690000176429749\n",
      "[266] Training loss: 0.587\t Validation loss: 0.592\n",
      "Val Accuracy is: 0.8690000176429749\n",
      "[267] Training loss: 0.587\t Validation loss: 0.592\n",
      "Val Accuracy is: 0.8687500357627869\n",
      "[268] Training loss: 0.587\t Validation loss: 0.592\n",
      "Val Accuracy is: 0.8687500357627869\n",
      "[269] Training loss: 0.587\t Validation loss: 0.592\n",
      "Val Accuracy is: 0.8687500357627869\n",
      "[270] Training loss: 0.586\t Validation loss: 0.591\n",
      "Val Accuracy is: 0.8687500357627869\n",
      "[271] Training loss: 0.586\t Validation loss: 0.591\n",
      "Val Accuracy is: 0.8687500357627869\n",
      "[272] Training loss: 0.586\t Validation loss: 0.591\n",
      "Val Accuracy is: 0.8687500357627869\n",
      "[273] Training loss: 0.586\t Validation loss: 0.591\n",
      "Val Accuracy is: 0.8687500357627869\n",
      "[274] Training loss: 0.585\t Validation loss: 0.590\n",
      "Val Accuracy is: 0.8687500357627869\n",
      "[275] Training loss: 0.585\t Validation loss: 0.590\n",
      "Val Accuracy is: 0.8690000176429749\n",
      "[276] Training loss: 0.585\t Validation loss: 0.590\n",
      "Val Accuracy is: 0.8687500357627869\n",
      "[277] Training loss: 0.585\t Validation loss: 0.590\n",
      "Val Accuracy is: 0.8687500357627869\n",
      "[278] Training loss: 0.584\t Validation loss: 0.589\n",
      "Val Accuracy is: 0.8687500357627869\n",
      "[279] Training loss: 0.584\t Validation loss: 0.589\n",
      "Val Accuracy is: 0.8687500357627869\n",
      "[280] Training loss: 0.584\t Validation loss: 0.589\n",
      "Val Accuracy is: 0.8687500357627869\n",
      "[281] Training loss: 0.584\t Validation loss: 0.589\n",
      "Val Accuracy is: 0.8687500357627869\n",
      "[282] Training loss: 0.583\t Validation loss: 0.588\n",
      "Val Accuracy is: 0.8687500357627869\n",
      "[283] Training loss: 0.583\t Validation loss: 0.588\n",
      "Val Accuracy is: 0.8687500357627869\n",
      "[284] Training loss: 0.583\t Validation loss: 0.588\n",
      "Val Accuracy is: 0.8687500357627869\n",
      "[285] Training loss: 0.583\t Validation loss: 0.588\n",
      "Val Accuracy is: 0.8687500357627869\n",
      "[286] Training loss: 0.582\t Validation loss: 0.587\n",
      "Val Accuracy is: 0.8685000538825989\n",
      "[287] Training loss: 0.582\t Validation loss: 0.587\n",
      "Val Accuracy is: 0.8685000538825989\n",
      "[288] Training loss: 0.582\t Validation loss: 0.587\n",
      "Val Accuracy is: 0.8687500357627869\n",
      "[289] Training loss: 0.582\t Validation loss: 0.587\n",
      "Val Accuracy is: 0.8687500357627869\n",
      "[290] Training loss: 0.581\t Validation loss: 0.587\n",
      "Val Accuracy is: 0.8690000176429749\n",
      "[291] Training loss: 0.581\t Validation loss: 0.586\n",
      "Val Accuracy is: 0.8690000176429749\n",
      "[292] Training loss: 0.581\t Validation loss: 0.586\n",
      "Val Accuracy is: 0.8690000176429749\n",
      "[293] Training loss: 0.581\t Validation loss: 0.586\n",
      "Val Accuracy is: 0.8687500357627869\n",
      "[294] Training loss: 0.580\t Validation loss: 0.586\n",
      "Val Accuracy is: 0.8687500357627869\n",
      "[295] Training loss: 0.580\t Validation loss: 0.585\n",
      "Val Accuracy is: 0.8687500357627869\n",
      "[296] Training loss: 0.580\t Validation loss: 0.585\n",
      "Val Accuracy is: 0.8687500357627869\n",
      "[297] Training loss: 0.580\t Validation loss: 0.585\n",
      "Val Accuracy is: 0.8690000176429749\n",
      "[298] Training loss: 0.579\t Validation loss: 0.585\n",
      "Val Accuracy is: 0.8687500357627869\n",
      "[299] Training loss: 0.579\t Validation loss: 0.584\n",
      "Val Accuracy is: 0.8685000538825989\n",
      "[300] Training loss: 0.579\t Validation loss: 0.584\n",
      "Val Accuracy is: 0.8685000538825989\n",
      "[301] Training loss: 0.579\t Validation loss: 0.584\n",
      "Val Accuracy is: 0.8685000538825989\n",
      "[302] Training loss: 0.579\t Validation loss: 0.584\n",
      "Val Accuracy is: 0.8685000538825989\n",
      "[303] Training loss: 0.578\t Validation loss: 0.583\n",
      "Val Accuracy is: 0.8685000538825989\n",
      "[304] Training loss: 0.578\t Validation loss: 0.583\n",
      "Val Accuracy is: 0.8685000538825989\n",
      "[305] Training loss: 0.578\t Validation loss: 0.583\n",
      "Val Accuracy is: 0.8685000538825989\n",
      "[306] Training loss: 0.578\t Validation loss: 0.583\n",
      "Val Accuracy is: 0.8685000538825989\n",
      "[307] Training loss: 0.577\t Validation loss: 0.583\n",
      "Val Accuracy is: 0.8682500123977661\n",
      "[308] Training loss: 0.577\t Validation loss: 0.582\n",
      "Val Accuracy is: 0.8682500123977661\n",
      "[309] Training loss: 0.577\t Validation loss: 0.582\n",
      "Val Accuracy is: 0.8685000538825989\n",
      "[310] Training loss: 0.577\t Validation loss: 0.582\n",
      "Val Accuracy is: 0.8685000538825989\n",
      "[311] Training loss: 0.576\t Validation loss: 0.582\n",
      "Val Accuracy is: 0.8685000538825989\n",
      "[312] Training loss: 0.576\t Validation loss: 0.581\n",
      "Val Accuracy is: 0.8685000538825989\n",
      "[313] Training loss: 0.576\t Validation loss: 0.581\n",
      "Val Accuracy is: 0.8685000538825989\n",
      "[314] Training loss: 0.576\t Validation loss: 0.581\n",
      "Val Accuracy is: 0.8685000538825989\n",
      "[315] Training loss: 0.575\t Validation loss: 0.581\n",
      "Val Accuracy is: 0.8685000538825989\n",
      "[316] Training loss: 0.575\t Validation loss: 0.580\n",
      "Val Accuracy is: 0.8682500123977661\n",
      "[317] Training loss: 0.575\t Validation loss: 0.580\n",
      "Val Accuracy is: 0.8682500123977661\n",
      "[318] Training loss: 0.575\t Validation loss: 0.580\n",
      "Val Accuracy is: 0.8682500123977661\n",
      "[319] Training loss: 0.575\t Validation loss: 0.580\n",
      "Val Accuracy is: 0.8682500123977661\n",
      "[320] Training loss: 0.574\t Validation loss: 0.580\n",
      "Val Accuracy is: 0.8682500123977661\n",
      "[321] Training loss: 0.574\t Validation loss: 0.579\n",
      "Val Accuracy is: 0.8682500123977661\n",
      "[322] Training loss: 0.574\t Validation loss: 0.579\n",
      "Val Accuracy is: 0.8682500123977661\n",
      "[323] Training loss: 0.574\t Validation loss: 0.579\n",
      "Val Accuracy is: 0.8680000305175781\n",
      "[324] Training loss: 0.573\t Validation loss: 0.579\n",
      "Val Accuracy is: 0.8677500486373901\n",
      "[325] Training loss: 0.573\t Validation loss: 0.578\n",
      "Val Accuracy is: 0.8675000667572021\n",
      "[326] Training loss: 0.573\t Validation loss: 0.578\n",
      "Val Accuracy is: 0.8675000667572021\n",
      "[327] Training loss: 0.573\t Validation loss: 0.578\n",
      "Val Accuracy is: 0.8675000667572021\n",
      "[328] Training loss: 0.572\t Validation loss: 0.578\n",
      "Val Accuracy is: 0.8675000667572021\n",
      "[329] Training loss: 0.572\t Validation loss: 0.577\n",
      "Val Accuracy is: 0.8675000667572021\n",
      "[330] Training loss: 0.572\t Validation loss: 0.577\n",
      "Val Accuracy is: 0.8670000433921814\n",
      "[331] Training loss: 0.572\t Validation loss: 0.577\n",
      "Val Accuracy is: 0.8670000433921814\n",
      "[332] Training loss: 0.572\t Validation loss: 0.577\n",
      "Val Accuracy is: 0.8670000433921814\n",
      "[333] Training loss: 0.571\t Validation loss: 0.577\n",
      "Val Accuracy is: 0.8670000433921814\n",
      "[334] Training loss: 0.571\t Validation loss: 0.576\n",
      "Val Accuracy is: 0.8670000433921814\n",
      "[335] Training loss: 0.571\t Validation loss: 0.576\n",
      "Val Accuracy is: 0.8670000433921814\n",
      "[336] Training loss: 0.571\t Validation loss: 0.576\n",
      "Val Accuracy is: 0.8670000433921814\n",
      "[337] Training loss: 0.570\t Validation loss: 0.576\n",
      "Val Accuracy is: 0.8672500252723694\n",
      "[338] Training loss: 0.570\t Validation loss: 0.575\n",
      "Val Accuracy is: 0.8672500252723694\n",
      "[339] Training loss: 0.570\t Validation loss: 0.575\n",
      "Val Accuracy is: 0.8675000667572021\n",
      "[340] Training loss: 0.570\t Validation loss: 0.575\n",
      "Val Accuracy is: 0.8672500252723694\n",
      "[341] Training loss: 0.570\t Validation loss: 0.575\n",
      "Val Accuracy is: 0.8672500252723694\n",
      "[342] Training loss: 0.569\t Validation loss: 0.575\n",
      "Val Accuracy is: 0.8672500252723694\n",
      "[343] Training loss: 0.569\t Validation loss: 0.574\n",
      "Val Accuracy is: 0.8675000667572021\n",
      "[344] Training loss: 0.569\t Validation loss: 0.574\n",
      "Val Accuracy is: 0.8675000667572021\n",
      "[345] Training loss: 0.569\t Validation loss: 0.574\n",
      "Val Accuracy is: 0.8675000667572021\n",
      "[346] Training loss: 0.568\t Validation loss: 0.574\n",
      "Val Accuracy is: 0.8675000667572021\n",
      "[347] Training loss: 0.568\t Validation loss: 0.573\n",
      "Val Accuracy is: 0.8675000667572021\n",
      "[348] Training loss: 0.568\t Validation loss: 0.573\n",
      "Val Accuracy is: 0.8672500252723694\n",
      "[349] Training loss: 0.568\t Validation loss: 0.573\n",
      "Val Accuracy is: 0.8672500252723694\n",
      "[350] Training loss: 0.568\t Validation loss: 0.573\n",
      "Val Accuracy is: 0.8672500252723694\n",
      "[351] Training loss: 0.567\t Validation loss: 0.573\n",
      "Val Accuracy is: 0.8672500252723694\n",
      "[352] Training loss: 0.567\t Validation loss: 0.572\n",
      "Val Accuracy is: 0.8672500252723694\n",
      "[353] Training loss: 0.567\t Validation loss: 0.572\n",
      "Val Accuracy is: 0.8672500252723694\n",
      "[354] Training loss: 0.567\t Validation loss: 0.572\n",
      "Val Accuracy is: 0.8675000667572021\n",
      "[355] Training loss: 0.566\t Validation loss: 0.572\n",
      "Val Accuracy is: 0.8675000667572021\n",
      "[356] Training loss: 0.566\t Validation loss: 0.572\n",
      "Val Accuracy is: 0.8675000667572021\n",
      "[357] Training loss: 0.566\t Validation loss: 0.571\n",
      "Val Accuracy is: 0.8675000667572021\n",
      "[358] Training loss: 0.566\t Validation loss: 0.571\n",
      "Val Accuracy is: 0.8675000667572021\n",
      "[359] Training loss: 0.566\t Validation loss: 0.571\n",
      "Val Accuracy is: 0.8675000667572021\n",
      "[360] Training loss: 0.565\t Validation loss: 0.571\n",
      "Val Accuracy is: 0.8675000667572021\n",
      "[361] Training loss: 0.565\t Validation loss: 0.570\n",
      "Val Accuracy is: 0.8675000667572021\n",
      "[362] Training loss: 0.565\t Validation loss: 0.570\n",
      "Val Accuracy is: 0.8675000667572021\n",
      "[363] Training loss: 0.565\t Validation loss: 0.570\n",
      "Val Accuracy is: 0.8675000667572021\n",
      "[364] Training loss: 0.564\t Validation loss: 0.570\n",
      "Val Accuracy is: 0.8675000667572021\n",
      "[365] Training loss: 0.564\t Validation loss: 0.570\n",
      "Val Accuracy is: 0.8675000667572021\n",
      "[366] Training loss: 0.564\t Validation loss: 0.569\n",
      "Val Accuracy is: 0.8675000667572021\n",
      "[367] Training loss: 0.564\t Validation loss: 0.569\n",
      "Val Accuracy is: 0.8675000667572021\n",
      "[368] Training loss: 0.564\t Validation loss: 0.569\n",
      "Val Accuracy is: 0.8677500486373901\n",
      "[369] Training loss: 0.563\t Validation loss: 0.569\n",
      "Val Accuracy is: 0.9692500233650208\n",
      "[370] Training loss: 0.563\t Validation loss: 0.569\n",
      "Val Accuracy is: 0.9692500233650208\n",
      "[371] Training loss: 0.563\t Validation loss: 0.568\n",
      "Val Accuracy is: 0.9690000414848328\n",
      "[372] Training loss: 0.563\t Validation loss: 0.568\n",
      "Val Accuracy is: 0.9690000414848328\n",
      "[373] Training loss: 0.563\t Validation loss: 0.568\n",
      "Val Accuracy is: 0.9690000414848328\n",
      "[374] Training loss: 0.562\t Validation loss: 0.568\n",
      "Val Accuracy is: 0.9690000414848328\n",
      "[375] Training loss: 0.562\t Validation loss: 0.567\n",
      "Val Accuracy is: 0.9690000414848328\n",
      "[376] Training loss: 0.562\t Validation loss: 0.567\n",
      "Val Accuracy is: 0.9690000414848328\n",
      "[377] Training loss: 0.562\t Validation loss: 0.567\n",
      "Val Accuracy is: 0.9687500596046448\n",
      "[378] Training loss: 0.561\t Validation loss: 0.567\n"
     ]
    },
    {
     "name": "stdout",
     "output_type": "stream",
     "text": [
      "Val Accuracy is: 0.9687500596046448\n",
      "[379] Training loss: 0.561\t Validation loss: 0.567\n",
      "Val Accuracy is: 0.9687500596046448\n",
      "[380] Training loss: 0.561\t Validation loss: 0.566\n",
      "Val Accuracy is: 0.9687500596046448\n",
      "[381] Training loss: 0.561\t Validation loss: 0.566\n",
      "Val Accuracy is: 0.9687500596046448\n",
      "[382] Training loss: 0.561\t Validation loss: 0.566\n",
      "Val Accuracy is: 0.9687500596046448\n",
      "[383] Training loss: 0.560\t Validation loss: 0.566\n",
      "Val Accuracy is: 0.9687500596046448\n",
      "[384] Training loss: 0.560\t Validation loss: 0.566\n",
      "Val Accuracy is: 0.9687500596046448\n",
      "[385] Training loss: 0.560\t Validation loss: 0.565\n",
      "Val Accuracy is: 0.9687500596046448\n",
      "[386] Training loss: 0.560\t Validation loss: 0.565\n",
      "Val Accuracy is: 0.9687500596046448\n",
      "[387] Training loss: 0.560\t Validation loss: 0.565\n",
      "Val Accuracy is: 0.9687500596046448\n",
      "[388] Training loss: 0.559\t Validation loss: 0.565\n",
      "Val Accuracy is: 0.968500018119812\n",
      "[389] Training loss: 0.559\t Validation loss: 0.565\n",
      "Val Accuracy is: 0.968250036239624\n",
      "[390] Training loss: 0.559\t Validation loss: 0.564\n",
      "Val Accuracy is: 0.968250036239624\n",
      "[391] Training loss: 0.559\t Validation loss: 0.564\n",
      "Val Accuracy is: 0.968250036239624\n",
      "[392] Training loss: 0.559\t Validation loss: 0.564\n",
      "Val Accuracy is: 0.968250036239624\n",
      "[393] Training loss: 0.558\t Validation loss: 0.564\n",
      "Val Accuracy is: 0.968500018119812\n",
      "[394] Training loss: 0.558\t Validation loss: 0.564\n",
      "Val Accuracy is: 0.968500018119812\n",
      "[395] Training loss: 0.558\t Validation loss: 0.563\n",
      "Val Accuracy is: 0.968500018119812\n",
      "[396] Training loss: 0.558\t Validation loss: 0.563\n",
      "Val Accuracy is: 0.968500018119812\n",
      "[397] Training loss: 0.558\t Validation loss: 0.563\n",
      "Val Accuracy is: 0.968500018119812\n",
      "[398] Training loss: 0.557\t Validation loss: 0.563\n",
      "Val Accuracy is: 0.968500018119812\n",
      "[399] Training loss: 0.557\t Validation loss: 0.562\n",
      "Val Accuracy is: 0.968500018119812\n",
      "[400] Training loss: 0.557\t Validation loss: 0.562\n",
      "Val Accuracy is: 0.968500018119812\n",
      "[401] Training loss: 0.557\t Validation loss: 0.562\n",
      "Val Accuracy is: 0.968500018119812\n",
      "[402] Training loss: 0.556\t Validation loss: 0.562\n",
      "Val Accuracy is: 0.968500018119812\n",
      "[403] Training loss: 0.556\t Validation loss: 0.562\n",
      "Val Accuracy is: 0.968500018119812\n",
      "[404] Training loss: 0.556\t Validation loss: 0.561\n",
      "Val Accuracy is: 0.968500018119812\n",
      "[405] Training loss: 0.556\t Validation loss: 0.561\n",
      "Val Accuracy is: 0.968500018119812\n",
      "[406] Training loss: 0.556\t Validation loss: 0.561\n",
      "Val Accuracy is: 0.968500018119812\n",
      "[407] Training loss: 0.555\t Validation loss: 0.561\n",
      "Val Accuracy is: 0.968500018119812\n",
      "[408] Training loss: 0.555\t Validation loss: 0.561\n",
      "Val Accuracy is: 0.968500018119812\n",
      "[409] Training loss: 0.555\t Validation loss: 0.560\n",
      "Val Accuracy is: 0.968500018119812\n",
      "[410] Training loss: 0.555\t Validation loss: 0.560\n",
      "Val Accuracy is: 0.968500018119812\n",
      "[411] Training loss: 0.555\t Validation loss: 0.560\n",
      "Val Accuracy is: 0.968500018119812\n",
      "[412] Training loss: 0.554\t Validation loss: 0.560\n",
      "Val Accuracy is: 0.968500018119812\n",
      "[413] Training loss: 0.554\t Validation loss: 0.560\n",
      "Val Accuracy is: 0.968500018119812\n",
      "[414] Training loss: 0.554\t Validation loss: 0.559\n",
      "Val Accuracy is: 0.968500018119812\n",
      "[415] Training loss: 0.554\t Validation loss: 0.559\n",
      "Val Accuracy is: 0.968500018119812\n",
      "[416] Training loss: 0.554\t Validation loss: 0.559\n",
      "Val Accuracy is: 0.968500018119812\n",
      "[417] Training loss: 0.553\t Validation loss: 0.559\n",
      "Val Accuracy is: 0.968500018119812\n",
      "[418] Training loss: 0.553\t Validation loss: 0.559\n",
      "Val Accuracy is: 0.968500018119812\n",
      "[419] Training loss: 0.553\t Validation loss: 0.558\n",
      "Val Accuracy is: 0.968500018119812\n",
      "[420] Training loss: 0.553\t Validation loss: 0.558\n",
      "Val Accuracy is: 0.968500018119812\n",
      "[421] Training loss: 0.553\t Validation loss: 0.558\n",
      "Val Accuracy is: 0.968500018119812\n",
      "[422] Training loss: 0.552\t Validation loss: 0.558\n",
      "Val Accuracy is: 0.968250036239624\n",
      "[423] Training loss: 0.552\t Validation loss: 0.558\n",
      "Val Accuracy is: 0.968250036239624\n",
      "[424] Training loss: 0.552\t Validation loss: 0.557\n",
      "Val Accuracy is: 0.968250036239624\n",
      "[425] Training loss: 0.552\t Validation loss: 0.557\n",
      "Val Accuracy is: 0.968250036239624\n",
      "[426] Training loss: 0.552\t Validation loss: 0.557\n",
      "Val Accuracy is: 0.968000054359436\n",
      "[427] Training loss: 0.551\t Validation loss: 0.557\n",
      "Val Accuracy is: 0.968000054359436\n",
      "[428] Training loss: 0.551\t Validation loss: 0.557\n",
      "Val Accuracy is: 0.968000054359436\n",
      "[429] Training loss: 0.551\t Validation loss: 0.557\n",
      "Val Accuracy is: 0.968000054359436\n",
      "[430] Training loss: 0.551\t Validation loss: 0.556\n",
      "Val Accuracy is: 0.968000054359436\n",
      "[431] Training loss: 0.551\t Validation loss: 0.556\n",
      "Val Accuracy is: 0.968000054359436\n",
      "[432] Training loss: 0.550\t Validation loss: 0.556\n",
      "Val Accuracy is: 0.968000054359436\n",
      "[433] Training loss: 0.550\t Validation loss: 0.556\n",
      "Val Accuracy is: 0.968000054359436\n",
      "[434] Training loss: 0.550\t Validation loss: 0.556\n",
      "Val Accuracy is: 0.968000054359436\n",
      "[435] Training loss: 0.550\t Validation loss: 0.555\n",
      "Val Accuracy is: 0.968250036239624\n",
      "[436] Training loss: 0.550\t Validation loss: 0.555\n",
      "Val Accuracy is: 0.968250036239624\n",
      "[437] Training loss: 0.549\t Validation loss: 0.555\n",
      "Val Accuracy is: 0.968250036239624\n",
      "[438] Training loss: 0.549\t Validation loss: 0.555\n",
      "Val Accuracy is: 0.968000054359436\n",
      "[439] Training loss: 0.549\t Validation loss: 0.555\n",
      "Val Accuracy is: 0.968000054359436\n",
      "[440] Training loss: 0.549\t Validation loss: 0.554\n",
      "Val Accuracy is: 0.968000054359436\n",
      "[441] Training loss: 0.549\t Validation loss: 0.554\n",
      "Val Accuracy is: 0.968000054359436\n",
      "[442] Training loss: 0.549\t Validation loss: 0.554\n",
      "Val Accuracy is: 0.968000054359436\n",
      "[443] Training loss: 0.548\t Validation loss: 0.554\n",
      "Val Accuracy is: 0.968000054359436\n",
      "[444] Training loss: 0.548\t Validation loss: 0.554\n",
      "Val Accuracy is: 0.968000054359436\n",
      "[445] Training loss: 0.548\t Validation loss: 0.553\n",
      "Val Accuracy is: 0.968000054359436\n",
      "[446] Training loss: 0.548\t Validation loss: 0.553\n",
      "Val Accuracy is: 0.968000054359436\n",
      "[447] Training loss: 0.548\t Validation loss: 0.553\n",
      "Val Accuracy is: 0.968000054359436\n",
      "[448] Training loss: 0.547\t Validation loss: 0.553\n",
      "Val Accuracy is: 0.968250036239624\n",
      "[449] Training loss: 0.547\t Validation loss: 0.553\n",
      "Val Accuracy is: 0.968250036239624\n",
      "[450] Training loss: 0.547\t Validation loss: 0.552\n",
      "Val Accuracy is: 0.968250036239624\n",
      "[451] Training loss: 0.547\t Validation loss: 0.552\n",
      "Val Accuracy is: 0.968250036239624\n",
      "[452] Training loss: 0.547\t Validation loss: 0.552\n",
      "Val Accuracy is: 0.968250036239624\n",
      "[453] Training loss: 0.546\t Validation loss: 0.552\n",
      "Val Accuracy is: 0.968250036239624\n",
      "[454] Training loss: 0.546\t Validation loss: 0.552\n",
      "Val Accuracy is: 0.968250036239624\n",
      "[455] Training loss: 0.546\t Validation loss: 0.552\n",
      "Val Accuracy is: 0.968500018119812\n",
      "[456] Training loss: 0.546\t Validation loss: 0.551\n",
      "Val Accuracy is: 0.9687500596046448\n",
      "[457] Training loss: 0.546\t Validation loss: 0.551\n",
      "Val Accuracy is: 0.9687500596046448\n",
      "[458] Training loss: 0.545\t Validation loss: 0.551\n",
      "Val Accuracy is: 0.9687500596046448\n",
      "[459] Training loss: 0.545\t Validation loss: 0.551\n",
      "Val Accuracy is: 0.9687500596046448\n",
      "[460] Training loss: 0.545\t Validation loss: 0.551\n",
      "Val Accuracy is: 0.9687500596046448\n",
      "[461] Training loss: 0.545\t Validation loss: 0.550\n",
      "Val Accuracy is: 0.9687500596046448\n",
      "[462] Training loss: 0.545\t Validation loss: 0.550\n",
      "Val Accuracy is: 0.9687500596046448\n",
      "[463] Training loss: 0.545\t Validation loss: 0.550\n",
      "Val Accuracy is: 0.9687500596046448\n",
      "[464] Training loss: 0.544\t Validation loss: 0.550\n",
      "Val Accuracy is: 0.9687500596046448\n",
      "[465] Training loss: 0.544\t Validation loss: 0.550\n",
      "Val Accuracy is: 0.9687500596046448\n",
      "[466] Training loss: 0.544\t Validation loss: 0.549\n",
      "Val Accuracy is: 0.9687500596046448\n",
      "[467] Training loss: 0.544\t Validation loss: 0.549\n",
      "Val Accuracy is: 0.9687500596046448\n",
      "[468] Training loss: 0.544\t Validation loss: 0.549\n",
      "Val Accuracy is: 0.9687500596046448\n",
      "[469] Training loss: 0.543\t Validation loss: 0.549\n",
      "Val Accuracy is: 0.9687500596046448\n",
      "[470] Training loss: 0.543\t Validation loss: 0.549\n",
      "Val Accuracy is: 0.9687500596046448\n",
      "[471] Training loss: 0.543\t Validation loss: 0.549\n",
      "Val Accuracy is: 0.9690000414848328\n",
      "[472] Training loss: 0.543\t Validation loss: 0.548\n",
      "Val Accuracy is: 0.9687500596046448\n",
      "[473] Training loss: 0.543\t Validation loss: 0.548\n",
      "Val Accuracy is: 0.9687500596046448\n",
      "[474] Training loss: 0.542\t Validation loss: 0.548\n",
      "Val Accuracy is: 0.9687500596046448\n",
      "[475] Training loss: 0.542\t Validation loss: 0.548\n",
      "Val Accuracy is: 0.9687500596046448\n",
      "[476] Training loss: 0.542\t Validation loss: 0.548\n",
      "Val Accuracy is: 0.9687500596046448\n",
      "[477] Training loss: 0.542\t Validation loss: 0.547\n",
      "Val Accuracy is: 0.9687500596046448\n",
      "[478] Training loss: 0.542\t Validation loss: 0.547\n",
      "Val Accuracy is: 0.9687500596046448\n",
      "[479] Training loss: 0.542\t Validation loss: 0.547\n",
      "Val Accuracy is: 0.9687500596046448\n",
      "[480] Training loss: 0.541\t Validation loss: 0.547\n",
      "Val Accuracy is: 0.9687500596046448\n",
      "[481] Training loss: 0.541\t Validation loss: 0.547\n",
      "Val Accuracy is: 0.9687500596046448\n",
      "[482] Training loss: 0.541\t Validation loss: 0.547\n",
      "Val Accuracy is: 0.9687500596046448\n",
      "[483] Training loss: 0.541\t Validation loss: 0.546\n",
      "Val Accuracy is: 0.9687500596046448\n",
      "[484] Training loss: 0.541\t Validation loss: 0.546\n",
      "Val Accuracy is: 0.9687500596046448\n",
      "[485] Training loss: 0.540\t Validation loss: 0.546\n",
      "Val Accuracy is: 0.9687500596046448\n",
      "[486] Training loss: 0.540\t Validation loss: 0.546\n",
      "Val Accuracy is: 0.9687500596046448\n",
      "[487] Training loss: 0.540\t Validation loss: 0.546\n",
      "Val Accuracy is: 0.968500018119812\n",
      "[488] Training loss: 0.540\t Validation loss: 0.545\n",
      "Val Accuracy is: 0.968500018119812\n",
      "[489] Training loss: 0.540\t Validation loss: 0.545\n",
      "Val Accuracy is: 0.9687500596046448\n",
      "[490] Training loss: 0.540\t Validation loss: 0.545\n",
      "Val Accuracy is: 0.9687500596046448\n",
      "[491] Training loss: 0.539\t Validation loss: 0.545\n",
      "Val Accuracy is: 0.9687500596046448\n",
      "[492] Training loss: 0.539\t Validation loss: 0.545\n",
      "Val Accuracy is: 0.9687500596046448\n",
      "[493] Training loss: 0.539\t Validation loss: 0.545\n",
      "Val Accuracy is: 0.9687500596046448\n",
      "[494] Training loss: 0.539\t Validation loss: 0.544\n",
      "Val Accuracy is: 0.9687500596046448\n",
      "[495] Training loss: 0.539\t Validation loss: 0.544\n",
      "Val Accuracy is: 0.9690000414848328\n",
      "[496] Training loss: 0.538\t Validation loss: 0.544\n",
      "Val Accuracy is: 0.9690000414848328\n",
      "[497] Training loss: 0.538\t Validation loss: 0.544\n",
      "Val Accuracy is: 0.9690000414848328\n",
      "[498] Training loss: 0.538\t Validation loss: 0.544\n",
      "Val Accuracy is: 0.9690000414848328\n",
      "[499] Training loss: 0.538\t Validation loss: 0.543\n",
      "Val Accuracy is: 0.9690000414848328\n",
      "[500] Training loss: 0.538\t Validation loss: 0.543\n",
      "Val Accuracy is: 0.9690000414848328\n",
      "[501] Training loss: 0.538\t Validation loss: 0.543\n",
      "Val Accuracy is: 0.9690000414848328\n",
      "[502] Training loss: 0.537\t Validation loss: 0.543\n",
      "Val Accuracy is: 0.9690000414848328\n",
      "[503] Training loss: 0.537\t Validation loss: 0.543\n",
      "Val Accuracy is: 0.9690000414848328\n",
      "[504] Training loss: 0.537\t Validation loss: 0.543\n",
      "Val Accuracy is: 0.9690000414848328\n",
      "[505] Training loss: 0.537\t Validation loss: 0.542\n",
      "Val Accuracy is: 0.9690000414848328\n",
      "[506] Training loss: 0.537\t Validation loss: 0.542\n",
      "Val Accuracy is: 0.9690000414848328\n",
      "[507] Training loss: 0.536\t Validation loss: 0.542\n",
      "Val Accuracy is: 0.9690000414848328\n",
      "[508] Training loss: 0.536\t Validation loss: 0.542\n",
      "Val Accuracy is: 0.9690000414848328\n",
      "[509] Training loss: 0.536\t Validation loss: 0.542\n",
      "Val Accuracy is: 0.9690000414848328\n",
      "[510] Training loss: 0.536\t Validation loss: 0.541\n",
      "Val Accuracy is: 0.9690000414848328\n",
      "[511] Training loss: 0.536\t Validation loss: 0.541\n",
      "Val Accuracy is: 0.9690000414848328\n",
      "[512] Training loss: 0.536\t Validation loss: 0.541\n",
      "Val Accuracy is: 0.9690000414848328\n",
      "[513] Training loss: 0.535\t Validation loss: 0.541\n",
      "Val Accuracy is: 0.9690000414848328\n",
      "[514] Training loss: 0.535\t Validation loss: 0.541\n",
      "Val Accuracy is: 0.9690000414848328\n",
      "[515] Training loss: 0.535\t Validation loss: 0.541\n",
      "Val Accuracy is: 0.9690000414848328\n",
      "[516] Training loss: 0.535\t Validation loss: 0.540\n",
      "Val Accuracy is: 0.9692500233650208\n",
      "[517] Training loss: 0.535\t Validation loss: 0.540\n",
      "Val Accuracy is: 0.9692500233650208\n",
      "[518] Training loss: 0.535\t Validation loss: 0.540\n",
      "Val Accuracy is: 0.9692500233650208\n",
      "[519] Training loss: 0.534\t Validation loss: 0.540\n",
      "Val Accuracy is: 0.9692500233650208\n",
      "[520] Training loss: 0.534\t Validation loss: 0.540\n",
      "Val Accuracy is: 0.9692500233650208\n",
      "[521] Training loss: 0.534\t Validation loss: 0.540\n",
      "Val Accuracy is: 0.9692500233650208\n",
      "[522] Training loss: 0.534\t Validation loss: 0.539\n",
      "Val Accuracy is: 0.9692500233650208\n",
      "[523] Training loss: 0.534\t Validation loss: 0.539\n",
      "Val Accuracy is: 0.9692500233650208\n",
      "[524] Training loss: 0.533\t Validation loss: 0.539\n",
      "Val Accuracy is: 0.9692500233650208\n",
      "[525] Training loss: 0.533\t Validation loss: 0.539\n",
      "Val Accuracy is: 0.9692500233650208\n",
      "[526] Training loss: 0.533\t Validation loss: 0.539\n",
      "Val Accuracy is: 0.9692500233650208\n",
      "[527] Training loss: 0.533\t Validation loss: 0.539\n",
      "Val Accuracy is: 0.9692500233650208\n",
      "[528] Training loss: 0.533\t Validation loss: 0.538\n",
      "Val Accuracy is: 0.9692500233650208\n",
      "[529] Training loss: 0.533\t Validation loss: 0.538\n",
      "Val Accuracy is: 0.9692500233650208\n",
      "[530] Training loss: 0.532\t Validation loss: 0.538\n",
      "Val Accuracy is: 0.9692500233650208\n",
      "[531] Training loss: 0.532\t Validation loss: 0.538\n",
      "Val Accuracy is: 0.9690000414848328\n",
      "[532] Training loss: 0.532\t Validation loss: 0.538\n",
      "Val Accuracy is: 0.9690000414848328\n",
      "[533] Training loss: 0.532\t Validation loss: 0.538\n",
      "Val Accuracy is: 0.9690000414848328\n",
      "[534] Training loss: 0.532\t Validation loss: 0.537\n",
      "Val Accuracy is: 0.9690000414848328\n",
      "[535] Training loss: 0.532\t Validation loss: 0.537\n",
      "Val Accuracy is: 0.9690000414848328\n",
      "[536] Training loss: 0.531\t Validation loss: 0.537\n",
      "Val Accuracy is: 0.9690000414848328\n",
      "[537] Training loss: 0.531\t Validation loss: 0.537\n",
      "Val Accuracy is: 0.9690000414848328\n",
      "[538] Training loss: 0.531\t Validation loss: 0.537\n",
      "Val Accuracy is: 0.9690000414848328\n",
      "[539] Training loss: 0.531\t Validation loss: 0.536\n",
      "Val Accuracy is: 0.9690000414848328\n",
      "[540] Training loss: 0.531\t Validation loss: 0.536\n",
      "Val Accuracy is: 0.9690000414848328\n",
      "[541] Training loss: 0.531\t Validation loss: 0.536\n",
      "Val Accuracy is: 0.9690000414848328\n",
      "[542] Training loss: 0.530\t Validation loss: 0.536\n",
      "Val Accuracy is: 0.9687500596046448\n",
      "[543] Training loss: 0.530\t Validation loss: 0.536\n",
      "Val Accuracy is: 0.9690000414848328\n",
      "[544] Training loss: 0.530\t Validation loss: 0.536\n",
      "Val Accuracy is: 0.9690000414848328\n",
      "[545] Training loss: 0.530\t Validation loss: 0.535\n",
      "Val Accuracy is: 0.9690000414848328\n",
      "[546] Training loss: 0.530\t Validation loss: 0.535\n",
      "Val Accuracy is: 0.9690000414848328\n",
      "[547] Training loss: 0.530\t Validation loss: 0.535\n",
      "Val Accuracy is: 0.9690000414848328\n",
      "[548] Training loss: 0.529\t Validation loss: 0.535\n",
      "Val Accuracy is: 0.9690000414848328\n",
      "[549] Training loss: 0.529\t Validation loss: 0.535\n",
      "Val Accuracy is: 0.9690000414848328\n",
      "[550] Training loss: 0.529\t Validation loss: 0.535\n",
      "Val Accuracy is: 0.9690000414848328\n",
      "[551] Training loss: 0.529\t Validation loss: 0.534\n",
      "Val Accuracy is: 0.9690000414848328\n",
      "[552] Training loss: 0.529\t Validation loss: 0.534\n",
      "Val Accuracy is: 0.9690000414848328\n",
      "[553] Training loss: 0.529\t Validation loss: 0.534\n",
      "Val Accuracy is: 0.9687500596046448\n",
      "[554] Training loss: 0.528\t Validation loss: 0.534\n",
      "Val Accuracy is: 0.9687500596046448\n",
      "[555] Training loss: 0.528\t Validation loss: 0.534\n",
      "Val Accuracy is: 0.9687500596046448\n",
      "[556] Training loss: 0.528\t Validation loss: 0.534\n",
      "Val Accuracy is: 0.9687500596046448\n",
      "[557] Training loss: 0.528\t Validation loss: 0.533\n",
      "Val Accuracy is: 0.9687500596046448\n",
      "[558] Training loss: 0.528\t Validation loss: 0.533\n",
      "Val Accuracy is: 0.9687500596046448\n",
      "[559] Training loss: 0.528\t Validation loss: 0.533\n",
      "Val Accuracy is: 0.9687500596046448\n",
      "[560] Training loss: 0.527\t Validation loss: 0.533\n",
      "Val Accuracy is: 0.9687500596046448\n",
      "[561] Training loss: 0.527\t Validation loss: 0.533\n",
      "Val Accuracy is: 0.9687500596046448\n",
      "[562] Training loss: 0.527\t Validation loss: 0.533\n",
      "Val Accuracy is: 0.9687500596046448\n",
      "[563] Training loss: 0.527\t Validation loss: 0.532\n",
      "Val Accuracy is: 0.9690000414848328\n",
      "[564] Training loss: 0.527\t Validation loss: 0.532\n",
      "Val Accuracy is: 0.9690000414848328\n",
      "[565] Training loss: 0.527\t Validation loss: 0.532\n",
      "Val Accuracy is: 0.9692500233650208\n",
      "[566] Training loss: 0.526\t Validation loss: 0.532\n",
      "Val Accuracy is: 0.9695000648498535\n"
     ]
    },
    {
     "name": "stdout",
     "output_type": "stream",
     "text": [
      "[567] Training loss: 0.526\t Validation loss: 0.532\n",
      "Val Accuracy is: 0.9695000648498535\n",
      "[568] Training loss: 0.526\t Validation loss: 0.532\n",
      "Val Accuracy is: 0.9695000648498535\n",
      "[569] Training loss: 0.526\t Validation loss: 0.531\n",
      "Val Accuracy is: 0.9695000648498535\n",
      "[570] Training loss: 0.526\t Validation loss: 0.531\n",
      "Val Accuracy is: 0.9692500233650208\n",
      "[571] Training loss: 0.526\t Validation loss: 0.531\n",
      "Val Accuracy is: 0.9692500233650208\n",
      "[572] Training loss: 0.525\t Validation loss: 0.531\n",
      "Val Accuracy is: 0.9692500233650208\n",
      "[573] Training loss: 0.525\t Validation loss: 0.531\n",
      "Val Accuracy is: 0.9692500233650208\n",
      "[574] Training loss: 0.525\t Validation loss: 0.531\n",
      "Val Accuracy is: 0.9692500233650208\n",
      "[575] Training loss: 0.525\t Validation loss: 0.531\n",
      "Val Accuracy is: 0.9692500233650208\n",
      "[576] Training loss: 0.525\t Validation loss: 0.530\n",
      "Val Accuracy is: 0.9690000414848328\n",
      "[577] Training loss: 0.525\t Validation loss: 0.530\n",
      "Val Accuracy is: 0.9690000414848328\n",
      "[578] Training loss: 0.524\t Validation loss: 0.530\n",
      "Val Accuracy is: 0.9690000414848328\n",
      "[579] Training loss: 0.524\t Validation loss: 0.530\n",
      "Val Accuracy is: 0.9690000414848328\n",
      "[580] Training loss: 0.524\t Validation loss: 0.530\n",
      "Val Accuracy is: 0.9690000414848328\n",
      "[581] Training loss: 0.524\t Validation loss: 0.530\n",
      "Val Accuracy is: 0.9690000414848328\n",
      "[582] Training loss: 0.524\t Validation loss: 0.529\n",
      "Val Accuracy is: 0.9690000414848328\n",
      "[583] Training loss: 0.524\t Validation loss: 0.529\n",
      "Val Accuracy is: 0.9690000414848328\n",
      "[584] Training loss: 0.523\t Validation loss: 0.529\n",
      "Val Accuracy is: 0.9690000414848328\n",
      "[585] Training loss: 0.523\t Validation loss: 0.529\n",
      "Val Accuracy is: 0.9690000414848328\n",
      "[586] Training loss: 0.523\t Validation loss: 0.529\n",
      "Val Accuracy is: 0.9690000414848328\n",
      "[587] Training loss: 0.523\t Validation loss: 0.529\n",
      "Val Accuracy is: 0.9690000414848328\n",
      "[588] Training loss: 0.523\t Validation loss: 0.528\n",
      "Val Accuracy is: 0.9690000414848328\n",
      "[589] Training loss: 0.523\t Validation loss: 0.528\n",
      "Val Accuracy is: 0.9690000414848328\n",
      "[590] Training loss: 0.522\t Validation loss: 0.528\n",
      "Val Accuracy is: 0.9690000414848328\n",
      "[591] Training loss: 0.522\t Validation loss: 0.528\n",
      "Val Accuracy is: 0.9690000414848328\n",
      "[592] Training loss: 0.522\t Validation loss: 0.528\n",
      "Val Accuracy is: 0.9690000414848328\n",
      "[593] Training loss: 0.522\t Validation loss: 0.528\n",
      "Val Accuracy is: 0.9692500233650208\n",
      "[594] Training loss: 0.522\t Validation loss: 0.527\n",
      "Val Accuracy is: 0.9692500233650208\n",
      "[595] Training loss: 0.522\t Validation loss: 0.527\n",
      "Val Accuracy is: 0.9690000414848328\n",
      "[596] Training loss: 0.521\t Validation loss: 0.527\n",
      "Val Accuracy is: 0.9690000414848328\n",
      "[597] Training loss: 0.521\t Validation loss: 0.527\n",
      "Val Accuracy is: 0.9690000414848328\n",
      "[598] Training loss: 0.521\t Validation loss: 0.527\n",
      "Val Accuracy is: 0.9690000414848328\n",
      "[599] Training loss: 0.521\t Validation loss: 0.527\n",
      "Val Accuracy is: 0.9690000414848328\n",
      "[600] Training loss: 0.521\t Validation loss: 0.527\n",
      "Val Accuracy is: 0.9690000414848328\n",
      "[601] Training loss: 0.521\t Validation loss: 0.526\n",
      "Val Accuracy is: 0.9690000414848328\n",
      "[602] Training loss: 0.521\t Validation loss: 0.526\n",
      "Val Accuracy is: 0.9690000414848328\n",
      "[603] Training loss: 0.520\t Validation loss: 0.526\n",
      "Val Accuracy is: 0.9690000414848328\n",
      "[604] Training loss: 0.520\t Validation loss: 0.526\n",
      "Val Accuracy is: 0.9690000414848328\n",
      "[605] Training loss: 0.520\t Validation loss: 0.526\n",
      "Val Accuracy is: 0.9690000414848328\n",
      "[606] Training loss: 0.520\t Validation loss: 0.526\n",
      "Val Accuracy is: 0.9690000414848328\n",
      "[607] Training loss: 0.520\t Validation loss: 0.525\n",
      "Val Accuracy is: 0.9690000414848328\n",
      "[608] Training loss: 0.520\t Validation loss: 0.525\n",
      "Val Accuracy is: 0.9690000414848328\n",
      "[609] Training loss: 0.519\t Validation loss: 0.525\n",
      "Val Accuracy is: 0.9690000414848328\n",
      "[610] Training loss: 0.519\t Validation loss: 0.525\n",
      "Val Accuracy is: 0.9690000414848328\n",
      "[611] Training loss: 0.519\t Validation loss: 0.525\n",
      "Val Accuracy is: 0.9690000414848328\n",
      "[612] Training loss: 0.519\t Validation loss: 0.525\n",
      "Val Accuracy is: 0.9690000414848328\n",
      "[613] Training loss: 0.519\t Validation loss: 0.524\n",
      "Val Accuracy is: 0.9690000414848328\n",
      "[614] Training loss: 0.519\t Validation loss: 0.524\n",
      "Val Accuracy is: 0.9687500596046448\n",
      "[615] Training loss: 0.518\t Validation loss: 0.524\n",
      "Val Accuracy is: 0.9687500596046448\n",
      "[616] Training loss: 0.518\t Validation loss: 0.524\n",
      "Val Accuracy is: 0.9687500596046448\n",
      "[617] Training loss: 0.518\t Validation loss: 0.524\n",
      "Val Accuracy is: 0.9687500596046448\n",
      "[618] Training loss: 0.518\t Validation loss: 0.524\n",
      "Val Accuracy is: 0.9687500596046448\n",
      "[619] Training loss: 0.518\t Validation loss: 0.524\n",
      "Val Accuracy is: 0.9687500596046448\n",
      "[620] Training loss: 0.518\t Validation loss: 0.523\n",
      "Val Accuracy is: 0.9687500596046448\n",
      "[621] Training loss: 0.518\t Validation loss: 0.523\n",
      "Val Accuracy is: 0.9687500596046448\n",
      "[622] Training loss: 0.517\t Validation loss: 0.523\n",
      "Val Accuracy is: 0.9687500596046448\n",
      "[623] Training loss: 0.517\t Validation loss: 0.523\n",
      "Val Accuracy is: 0.9687500596046448\n",
      "[624] Training loss: 0.517\t Validation loss: 0.523\n",
      "Val Accuracy is: 0.9690000414848328\n",
      "[625] Training loss: 0.517\t Validation loss: 0.523\n",
      "Val Accuracy is: 0.9690000414848328\n",
      "[626] Training loss: 0.517\t Validation loss: 0.522\n",
      "Val Accuracy is: 0.9690000414848328\n",
      "[627] Training loss: 0.517\t Validation loss: 0.522\n",
      "Val Accuracy is: 0.9690000414848328\n",
      "[628] Training loss: 0.516\t Validation loss: 0.522\n",
      "Val Accuracy is: 0.9690000414848328\n",
      "[629] Training loss: 0.516\t Validation loss: 0.522\n",
      "Val Accuracy is: 0.9690000414848328\n",
      "[630] Training loss: 0.516\t Validation loss: 0.522\n",
      "Val Accuracy is: 0.9690000414848328\n",
      "[631] Training loss: 0.516\t Validation loss: 0.522\n",
      "Val Accuracy is: 0.9690000414848328\n",
      "[632] Training loss: 0.516\t Validation loss: 0.522\n",
      "Val Accuracy is: 0.9690000414848328\n",
      "[633] Training loss: 0.516\t Validation loss: 0.521\n",
      "Val Accuracy is: 0.9690000414848328\n",
      "[634] Training loss: 0.516\t Validation loss: 0.521\n",
      "Val Accuracy is: 0.9690000414848328\n",
      "[635] Training loss: 0.515\t Validation loss: 0.521\n",
      "Val Accuracy is: 0.9690000414848328\n",
      "[636] Training loss: 0.515\t Validation loss: 0.521\n",
      "Val Accuracy is: 0.9690000414848328\n",
      "[637] Training loss: 0.515\t Validation loss: 0.521\n",
      "Val Accuracy is: 0.9692500233650208\n",
      "[638] Training loss: 0.515\t Validation loss: 0.521\n",
      "Val Accuracy is: 0.9692500233650208\n",
      "[639] Training loss: 0.515\t Validation loss: 0.520\n",
      "Val Accuracy is: 0.9692500233650208\n",
      "[640] Training loss: 0.515\t Validation loss: 0.520\n",
      "Val Accuracy is: 0.9692500233650208\n",
      "[641] Training loss: 0.515\t Validation loss: 0.520\n",
      "Val Accuracy is: 0.9692500233650208\n",
      "[642] Training loss: 0.514\t Validation loss: 0.520\n",
      "Val Accuracy is: 0.9692500233650208\n",
      "[643] Training loss: 0.514\t Validation loss: 0.520\n",
      "Val Accuracy is: 0.9692500233650208\n",
      "[644] Training loss: 0.514\t Validation loss: 0.520\n",
      "Val Accuracy is: 0.9692500233650208\n",
      "[645] Training loss: 0.514\t Validation loss: 0.520\n",
      "Val Accuracy is: 0.9692500233650208\n",
      "[646] Training loss: 0.514\t Validation loss: 0.519\n",
      "Val Accuracy is: 0.9692500233650208\n",
      "[647] Training loss: 0.514\t Validation loss: 0.519\n",
      "Val Accuracy is: 0.9692500233650208\n",
      "[648] Training loss: 0.513\t Validation loss: 0.519\n",
      "Val Accuracy is: 0.9692500233650208\n",
      "[649] Training loss: 0.513\t Validation loss: 0.519\n",
      "Val Accuracy is: 0.9692500233650208\n",
      "[650] Training loss: 0.513\t Validation loss: 0.519\n",
      "Val Accuracy is: 0.9692500233650208\n",
      "[651] Training loss: 0.513\t Validation loss: 0.519\n",
      "Val Accuracy is: 0.9692500233650208\n",
      "[652] Training loss: 0.513\t Validation loss: 0.519\n",
      "Val Accuracy is: 0.9692500233650208\n",
      "[653] Training loss: 0.513\t Validation loss: 0.518\n",
      "Val Accuracy is: 0.9692500233650208\n",
      "[654] Training loss: 0.513\t Validation loss: 0.518\n",
      "Val Accuracy is: 0.9692500233650208\n",
      "[655] Training loss: 0.512\t Validation loss: 0.518\n",
      "Val Accuracy is: 0.9695000648498535\n",
      "[656] Training loss: 0.512\t Validation loss: 0.518\n",
      "Val Accuracy is: 0.9695000648498535\n",
      "[657] Training loss: 0.512\t Validation loss: 0.518\n",
      "Val Accuracy is: 0.9695000648498535\n",
      "[658] Training loss: 0.512\t Validation loss: 0.518\n",
      "Val Accuracy is: 0.9695000648498535\n",
      "[659] Training loss: 0.512\t Validation loss: 0.518\n",
      "Val Accuracy is: 0.9692500233650208\n",
      "[660] Training loss: 0.512\t Validation loss: 0.517\n",
      "Val Accuracy is: 0.9692500233650208\n",
      "[661] Training loss: 0.512\t Validation loss: 0.517\n",
      "Val Accuracy is: 0.9695000648498535\n",
      "[662] Training loss: 0.511\t Validation loss: 0.517\n",
      "Val Accuracy is: 0.9695000648498535\n",
      "[663] Training loss: 0.511\t Validation loss: 0.517\n",
      "Val Accuracy is: 0.9695000648498535\n",
      "[664] Training loss: 0.511\t Validation loss: 0.517\n",
      "Val Accuracy is: 0.9695000648498535\n",
      "[665] Training loss: 0.511\t Validation loss: 0.517\n",
      "Val Accuracy is: 0.9695000648498535\n",
      "[666] Training loss: 0.511\t Validation loss: 0.516\n",
      "Val Accuracy is: 0.9695000648498535\n",
      "[667] Training loss: 0.511\t Validation loss: 0.516\n",
      "Val Accuracy is: 0.9695000648498535\n",
      "[668] Training loss: 0.510\t Validation loss: 0.516\n",
      "Val Accuracy is: 0.9695000648498535\n",
      "[669] Training loss: 0.510\t Validation loss: 0.516\n",
      "Val Accuracy is: 0.9695000648498535\n",
      "[670] Training loss: 0.510\t Validation loss: 0.516\n",
      "Val Accuracy is: 0.9695000648498535\n",
      "[671] Training loss: 0.510\t Validation loss: 0.516\n",
      "Val Accuracy is: 0.9695000648498535\n",
      "[672] Training loss: 0.510\t Validation loss: 0.516\n",
      "Val Accuracy is: 0.9695000648498535\n",
      "[673] Training loss: 0.510\t Validation loss: 0.515\n",
      "Val Accuracy is: 0.9695000648498535\n",
      "[674] Training loss: 0.510\t Validation loss: 0.515\n",
      "Val Accuracy is: 0.9695000648498535\n",
      "[675] Training loss: 0.509\t Validation loss: 0.515\n",
      "Val Accuracy is: 0.9695000648498535\n",
      "[676] Training loss: 0.509\t Validation loss: 0.515\n",
      "Val Accuracy is: 0.9695000648498535\n",
      "[677] Training loss: 0.509\t Validation loss: 0.515\n",
      "Val Accuracy is: 0.9695000648498535\n",
      "[678] Training loss: 0.509\t Validation loss: 0.515\n",
      "Val Accuracy is: 0.9695000648498535\n",
      "[679] Training loss: 0.509\t Validation loss: 0.515\n",
      "Val Accuracy is: 0.9695000648498535\n",
      "[680] Training loss: 0.509\t Validation loss: 0.514\n",
      "Val Accuracy is: 0.9695000648498535\n",
      "[681] Training loss: 0.509\t Validation loss: 0.514\n",
      "Val Accuracy is: 0.9695000648498535\n",
      "[682] Training loss: 0.508\t Validation loss: 0.514\n",
      "Val Accuracy is: 0.9695000648498535\n",
      "[683] Training loss: 0.508\t Validation loss: 0.514\n",
      "Val Accuracy is: 0.9695000648498535\n",
      "[684] Training loss: 0.508\t Validation loss: 0.514\n",
      "Val Accuracy is: 0.9695000648498535\n",
      "[685] Training loss: 0.508\t Validation loss: 0.514\n",
      "Val Accuracy is: 0.9695000648498535\n",
      "[686] Training loss: 0.508\t Validation loss: 0.514\n",
      "Val Accuracy is: 0.9695000648498535\n",
      "[687] Training loss: 0.508\t Validation loss: 0.513\n",
      "Val Accuracy is: 0.9695000648498535\n",
      "[688] Training loss: 0.508\t Validation loss: 0.513\n",
      "Val Accuracy is: 0.9695000648498535\n",
      "[689] Training loss: 0.507\t Validation loss: 0.513\n",
      "Val Accuracy is: 0.9697500467300415\n",
      "[690] Training loss: 0.507\t Validation loss: 0.513\n",
      "Val Accuracy is: 0.9697500467300415\n",
      "[691] Training loss: 0.507\t Validation loss: 0.513\n",
      "Val Accuracy is: 0.9697500467300415\n",
      "[692] Training loss: 0.507\t Validation loss: 0.513\n",
      "Val Accuracy is: 0.9697500467300415\n",
      "[693] Training loss: 0.507\t Validation loss: 0.513\n",
      "Val Accuracy is: 0.9697500467300415\n",
      "[694] Training loss: 0.507\t Validation loss: 0.512\n",
      "Val Accuracy is: 0.9697500467300415\n",
      "[695] Training loss: 0.507\t Validation loss: 0.512\n",
      "Val Accuracy is: 0.9700000286102295\n",
      "[696] Training loss: 0.506\t Validation loss: 0.512\n",
      "Val Accuracy is: 0.9700000286102295\n",
      "[697] Training loss: 0.506\t Validation loss: 0.512\n",
      "Val Accuracy is: 0.9700000286102295\n",
      "[698] Training loss: 0.506\t Validation loss: 0.512\n",
      "Val Accuracy is: 0.9700000286102295\n",
      "[699] Training loss: 0.506\t Validation loss: 0.512\n",
      "Val Accuracy is: 0.9700000286102295\n",
      "[700] Training loss: 0.506\t Validation loss: 0.512\n",
      "Val Accuracy is: 0.9700000286102295\n",
      "[701] Training loss: 0.506\t Validation loss: 0.511\n",
      "Val Accuracy is: 0.9700000286102295\n",
      "[702] Training loss: 0.506\t Validation loss: 0.511\n",
      "Val Accuracy is: 0.9700000286102295\n",
      "[703] Training loss: 0.505\t Validation loss: 0.511\n",
      "Val Accuracy is: 0.9700000286102295\n",
      "[704] Training loss: 0.505\t Validation loss: 0.511\n",
      "Val Accuracy is: 0.9700000286102295\n",
      "[705] Training loss: 0.505\t Validation loss: 0.511\n",
      "Val Accuracy is: 0.9700000286102295\n",
      "[706] Training loss: 0.505\t Validation loss: 0.511\n",
      "Val Accuracy is: 0.9700000286102295\n",
      "[707] Training loss: 0.505\t Validation loss: 0.511\n",
      "Val Accuracy is: 0.9700000286102295\n",
      "[708] Training loss: 0.505\t Validation loss: 0.511\n",
      "Val Accuracy is: 0.9700000286102295\n",
      "[709] Training loss: 0.505\t Validation loss: 0.510\n",
      "Val Accuracy is: 0.9700000286102295\n",
      "[710] Training loss: 0.504\t Validation loss: 0.510\n",
      "Val Accuracy is: 0.9700000286102295\n",
      "[711] Training loss: 0.504\t Validation loss: 0.510\n",
      "Val Accuracy is: 0.9700000286102295\n",
      "[712] Training loss: 0.504\t Validation loss: 0.510\n",
      "Val Accuracy is: 0.9700000286102295\n",
      "[713] Training loss: 0.504\t Validation loss: 0.510\n",
      "Val Accuracy is: 0.9700000286102295\n",
      "[714] Training loss: 0.504\t Validation loss: 0.510\n",
      "Val Accuracy is: 0.9700000286102295\n",
      "[715] Training loss: 0.504\t Validation loss: 0.510\n",
      "Val Accuracy is: 0.9697500467300415\n",
      "[716] Training loss: 0.504\t Validation loss: 0.509\n",
      "Val Accuracy is: 0.9697500467300415\n",
      "[717] Training loss: 0.504\t Validation loss: 0.509\n",
      "Val Accuracy is: 0.9697500467300415\n",
      "[718] Training loss: 0.503\t Validation loss: 0.509\n",
      "Val Accuracy is: 0.9697500467300415\n",
      "[719] Training loss: 0.503\t Validation loss: 0.509\n",
      "Val Accuracy is: 0.9697500467300415\n",
      "[720] Training loss: 0.503\t Validation loss: 0.509\n",
      "Val Accuracy is: 0.9697500467300415\n",
      "[721] Training loss: 0.503\t Validation loss: 0.509\n",
      "Val Accuracy is: 0.9697500467300415\n",
      "[722] Training loss: 0.503\t Validation loss: 0.509\n",
      "Val Accuracy is: 0.9697500467300415\n",
      "[723] Training loss: 0.503\t Validation loss: 0.508\n",
      "Val Accuracy is: 0.9697500467300415\n",
      "[724] Training loss: 0.503\t Validation loss: 0.508\n",
      "Val Accuracy is: 0.9697500467300415\n",
      "[725] Training loss: 0.502\t Validation loss: 0.508\n",
      "Val Accuracy is: 0.9697500467300415\n",
      "[726] Training loss: 0.502\t Validation loss: 0.508\n",
      "Val Accuracy is: 0.9697500467300415\n",
      "[727] Training loss: 0.502\t Validation loss: 0.508\n",
      "Val Accuracy is: 0.9697500467300415\n",
      "[728] Training loss: 0.502\t Validation loss: 0.508\n",
      "Val Accuracy is: 0.9697500467300415\n",
      "[729] Training loss: 0.502\t Validation loss: 0.508\n",
      "Val Accuracy is: 0.9697500467300415\n",
      "[730] Training loss: 0.502\t Validation loss: 0.507\n",
      "Val Accuracy is: 0.9697500467300415\n",
      "[731] Training loss: 0.502\t Validation loss: 0.507\n",
      "Val Accuracy is: 0.9697500467300415\n",
      "[732] Training loss: 0.501\t Validation loss: 0.507\n",
      "Val Accuracy is: 0.9700000286102295\n",
      "[733] Training loss: 0.501\t Validation loss: 0.507\n",
      "Val Accuracy is: 0.9700000286102295\n",
      "[734] Training loss: 0.501\t Validation loss: 0.507\n",
      "Val Accuracy is: 0.9700000286102295\n",
      "[735] Training loss: 0.501\t Validation loss: 0.507\n",
      "Val Accuracy is: 0.9700000286102295\n",
      "[736] Training loss: 0.501\t Validation loss: 0.507\n",
      "Val Accuracy is: 0.9700000286102295\n",
      "[737] Training loss: 0.501\t Validation loss: 0.507\n",
      "Val Accuracy is: 0.9700000286102295\n",
      "[738] Training loss: 0.501\t Validation loss: 0.506\n",
      "Val Accuracy is: 0.9700000286102295\n",
      "[739] Training loss: 0.501\t Validation loss: 0.506\n",
      "Val Accuracy is: 0.9700000286102295\n",
      "[740] Training loss: 0.500\t Validation loss: 0.506\n",
      "Val Accuracy is: 0.9700000286102295\n",
      "[741] Training loss: 0.500\t Validation loss: 0.506\n",
      "Val Accuracy is: 0.9700000286102295\n",
      "[742] Training loss: 0.500\t Validation loss: 0.506\n",
      "Val Accuracy is: 0.9700000286102295\n",
      "[743] Training loss: 0.500\t Validation loss: 0.506\n",
      "Val Accuracy is: 0.9700000286102295\n",
      "[744] Training loss: 0.500\t Validation loss: 0.506\n",
      "Val Accuracy is: 0.9697500467300415\n",
      "[745] Training loss: 0.500\t Validation loss: 0.505\n",
      "Val Accuracy is: 0.9697500467300415\n",
      "[746] Training loss: 0.500\t Validation loss: 0.505\n",
      "Val Accuracy is: 0.9697500467300415\n",
      "[747] Training loss: 0.499\t Validation loss: 0.505\n",
      "Val Accuracy is: 0.9697500467300415\n",
      "[748] Training loss: 0.499\t Validation loss: 0.505\n",
      "Val Accuracy is: 0.9697500467300415\n",
      "[749] Training loss: 0.499\t Validation loss: 0.505\n",
      "Val Accuracy is: 0.9697500467300415\n",
      "[750] Training loss: 0.499\t Validation loss: 0.505\n",
      "Val Accuracy is: 0.9697500467300415\n",
      "[751] Training loss: 0.499\t Validation loss: 0.505\n",
      "Val Accuracy is: 0.9695000648498535\n",
      "[752] Training loss: 0.499\t Validation loss: 0.505\n",
      "Val Accuracy is: 0.9695000648498535\n",
      "[753] Training loss: 0.499\t Validation loss: 0.504\n",
      "Val Accuracy is: 0.9697500467300415\n",
      "[754] Training loss: 0.498\t Validation loss: 0.504\n",
      "Val Accuracy is: 0.9697500467300415\n"
     ]
    },
    {
     "name": "stdout",
     "output_type": "stream",
     "text": [
      "[755] Training loss: 0.498\t Validation loss: 0.504\n",
      "Val Accuracy is: 0.9697500467300415\n",
      "[756] Training loss: 0.498\t Validation loss: 0.504\n",
      "Val Accuracy is: 0.9697500467300415\n",
      "[757] Training loss: 0.498\t Validation loss: 0.504\n",
      "Val Accuracy is: 0.9700000286102295\n",
      "[758] Training loss: 0.498\t Validation loss: 0.504\n",
      "Val Accuracy is: 0.9700000286102295\n",
      "[759] Training loss: 0.498\t Validation loss: 0.504\n",
      "Val Accuracy is: 0.9700000286102295\n",
      "[760] Training loss: 0.498\t Validation loss: 0.503\n",
      "Val Accuracy is: 0.9700000286102295\n",
      "[761] Training loss: 0.498\t Validation loss: 0.503\n",
      "Val Accuracy is: 0.9700000286102295\n",
      "[762] Training loss: 0.497\t Validation loss: 0.503\n",
      "Val Accuracy is: 0.9700000286102295\n",
      "[763] Training loss: 0.497\t Validation loss: 0.503\n",
      "Val Accuracy is: 0.9700000286102295\n",
      "[764] Training loss: 0.497\t Validation loss: 0.503\n",
      "Val Accuracy is: 0.9700000286102295\n",
      "[765] Training loss: 0.497\t Validation loss: 0.503\n",
      "Val Accuracy is: 0.9700000286102295\n",
      "[766] Training loss: 0.497\t Validation loss: 0.503\n",
      "Val Accuracy is: 0.9700000286102295\n",
      "[767] Training loss: 0.497\t Validation loss: 0.503\n",
      "Val Accuracy is: 0.9700000286102295\n",
      "[768] Training loss: 0.497\t Validation loss: 0.502\n",
      "Val Accuracy is: 0.9700000286102295\n",
      "[769] Training loss: 0.497\t Validation loss: 0.502\n",
      "Val Accuracy is: 0.9700000286102295\n",
      "[770] Training loss: 0.496\t Validation loss: 0.502\n",
      "Val Accuracy is: 0.9700000286102295\n",
      "[771] Training loss: 0.496\t Validation loss: 0.502\n",
      "Val Accuracy is: 0.9700000286102295\n",
      "[772] Training loss: 0.496\t Validation loss: 0.502\n",
      "Val Accuracy is: 0.9700000286102295\n",
      "[773] Training loss: 0.496\t Validation loss: 0.502\n",
      "Val Accuracy is: 0.9702500700950623\n",
      "[774] Training loss: 0.496\t Validation loss: 0.502\n",
      "Val Accuracy is: 0.9702500700950623\n",
      "[775] Training loss: 0.496\t Validation loss: 0.502\n",
      "Val Accuracy is: 0.9702500700950623\n",
      "[776] Training loss: 0.496\t Validation loss: 0.501\n",
      "Val Accuracy is: 0.9705000519752502\n",
      "[777] Training loss: 0.495\t Validation loss: 0.501\n",
      "Val Accuracy is: 0.9705000519752502\n",
      "[778] Training loss: 0.495\t Validation loss: 0.501\n",
      "Val Accuracy is: 0.9705000519752502\n",
      "[779] Training loss: 0.495\t Validation loss: 0.501\n",
      "Val Accuracy is: 0.9702500700950623\n",
      "[780] Training loss: 0.495\t Validation loss: 0.501\n",
      "Val Accuracy is: 0.9702500700950623\n",
      "[781] Training loss: 0.495\t Validation loss: 0.501\n",
      "Val Accuracy is: 0.9702500700950623\n",
      "[782] Training loss: 0.495\t Validation loss: 0.501\n",
      "Val Accuracy is: 0.9702500700950623\n",
      "[783] Training loss: 0.495\t Validation loss: 0.500\n",
      "Val Accuracy is: 0.9702500700950623\n",
      "[784] Training loss: 0.495\t Validation loss: 0.500\n",
      "Val Accuracy is: 0.9702500700950623\n",
      "[785] Training loss: 0.494\t Validation loss: 0.500\n",
      "Val Accuracy is: 0.9702500700950623\n",
      "[786] Training loss: 0.494\t Validation loss: 0.500\n",
      "Val Accuracy is: 0.9702500700950623\n",
      "[787] Training loss: 0.494\t Validation loss: 0.500\n",
      "Val Accuracy is: 0.9702500700950623\n",
      "[788] Training loss: 0.494\t Validation loss: 0.500\n",
      "Val Accuracy is: 0.9702500700950623\n",
      "[789] Training loss: 0.494\t Validation loss: 0.500\n",
      "Val Accuracy is: 0.9702500700950623\n",
      "[790] Training loss: 0.494\t Validation loss: 0.500\n",
      "Val Accuracy is: 0.9702500700950623\n",
      "[791] Training loss: 0.494\t Validation loss: 0.499\n",
      "Val Accuracy is: 0.9705000519752502\n",
      "[792] Training loss: 0.494\t Validation loss: 0.499\n",
      "Val Accuracy is: 0.9705000519752502\n",
      "[793] Training loss: 0.493\t Validation loss: 0.499\n",
      "Val Accuracy is: 0.9705000519752502\n",
      "[794] Training loss: 0.493\t Validation loss: 0.499\n",
      "Val Accuracy is: 0.9705000519752502\n",
      "[795] Training loss: 0.493\t Validation loss: 0.499\n",
      "Val Accuracy is: 0.9705000519752502\n",
      "[796] Training loss: 0.493\t Validation loss: 0.499\n",
      "Val Accuracy is: 0.9705000519752502\n",
      "[797] Training loss: 0.493\t Validation loss: 0.499\n",
      "Val Accuracy is: 0.9705000519752502\n",
      "[798] Training loss: 0.493\t Validation loss: 0.499\n",
      "Val Accuracy is: 0.9705000519752502\n",
      "[799] Training loss: 0.493\t Validation loss: 0.498\n",
      "Val Accuracy is: 0.9705000519752502\n",
      "[800] Training loss: 0.493\t Validation loss: 0.498\n",
      "Val Accuracy is: 0.9705000519752502\n",
      "[801] Training loss: 0.492\t Validation loss: 0.498\n",
      "Val Accuracy is: 0.9705000519752502\n",
      "[802] Training loss: 0.492\t Validation loss: 0.498\n",
      "Val Accuracy is: 0.9705000519752502\n",
      "[803] Training loss: 0.492\t Validation loss: 0.498\n",
      "Val Accuracy is: 0.9707500338554382\n",
      "[804] Training loss: 0.492\t Validation loss: 0.498\n",
      "Val Accuracy is: 0.9707500338554382\n",
      "[805] Training loss: 0.492\t Validation loss: 0.498\n",
      "Val Accuracy is: 0.9707500338554382\n",
      "[806] Training loss: 0.492\t Validation loss: 0.498\n",
      "Val Accuracy is: 0.9707500338554382\n",
      "[807] Training loss: 0.492\t Validation loss: 0.497\n",
      "Val Accuracy is: 0.9707500338554382\n",
      "[808] Training loss: 0.492\t Validation loss: 0.497\n",
      "Val Accuracy is: 0.9707500338554382\n",
      "[809] Training loss: 0.491\t Validation loss: 0.497\n",
      "Val Accuracy is: 0.9707500338554382\n",
      "[810] Training loss: 0.491\t Validation loss: 0.497\n",
      "Val Accuracy is: 0.9707500338554382\n",
      "[811] Training loss: 0.491\t Validation loss: 0.497\n",
      "Val Accuracy is: 0.9707500338554382\n",
      "[812] Training loss: 0.491\t Validation loss: 0.497\n",
      "Val Accuracy is: 0.9707500338554382\n",
      "[813] Training loss: 0.491\t Validation loss: 0.497\n",
      "Val Accuracy is: 0.9705000519752502\n",
      "[814] Training loss: 0.491\t Validation loss: 0.497\n",
      "Val Accuracy is: 0.9702500700950623\n",
      "[815] Training loss: 0.491\t Validation loss: 0.496\n",
      "Val Accuracy is: 0.9702500700950623\n",
      "[816] Training loss: 0.491\t Validation loss: 0.496\n",
      "Val Accuracy is: 0.9702500700950623\n",
      "[817] Training loss: 0.490\t Validation loss: 0.496\n",
      "Val Accuracy is: 0.9702500700950623\n",
      "[818] Training loss: 0.490\t Validation loss: 0.496\n",
      "Val Accuracy is: 0.9702500700950623\n",
      "[819] Training loss: 0.490\t Validation loss: 0.496\n",
      "Val Accuracy is: 0.9702500700950623\n",
      "[820] Training loss: 0.490\t Validation loss: 0.496\n",
      "Val Accuracy is: 0.9702500700950623\n",
      "[821] Training loss: 0.490\t Validation loss: 0.496\n",
      "Val Accuracy is: 0.9702500700950623\n",
      "[822] Training loss: 0.490\t Validation loss: 0.496\n",
      "Val Accuracy is: 0.9702500700950623\n",
      "[823] Training loss: 0.490\t Validation loss: 0.495\n",
      "Val Accuracy is: 0.9702500700950623\n",
      "[824] Training loss: 0.490\t Validation loss: 0.495\n",
      "Val Accuracy is: 0.9702500700950623\n",
      "[825] Training loss: 0.489\t Validation loss: 0.495\n",
      "Val Accuracy is: 0.9702500700950623\n",
      "[826] Training loss: 0.489\t Validation loss: 0.495\n",
      "Val Accuracy is: 0.9702500700950623\n",
      "[827] Training loss: 0.489\t Validation loss: 0.495\n",
      "Val Accuracy is: 0.9702500700950623\n",
      "[828] Training loss: 0.489\t Validation loss: 0.495\n",
      "Val Accuracy is: 0.9702500700950623\n",
      "[829] Training loss: 0.489\t Validation loss: 0.495\n",
      "Val Accuracy is: 0.9702500700950623\n",
      "[830] Training loss: 0.489\t Validation loss: 0.495\n",
      "Val Accuracy is: 0.9702500700950623\n",
      "[831] Training loss: 0.489\t Validation loss: 0.495\n",
      "Val Accuracy is: 0.9700000286102295\n",
      "[832] Training loss: 0.489\t Validation loss: 0.494\n",
      "Val Accuracy is: 0.9700000286102295\n",
      "[833] Training loss: 0.488\t Validation loss: 0.494\n",
      "Val Accuracy is: 0.9700000286102295\n",
      "[834] Training loss: 0.488\t Validation loss: 0.494\n",
      "Val Accuracy is: 0.9700000286102295\n",
      "[835] Training loss: 0.488\t Validation loss: 0.494\n",
      "Val Accuracy is: 0.9700000286102295\n",
      "[836] Training loss: 0.488\t Validation loss: 0.494\n",
      "Val Accuracy is: 0.9700000286102295\n",
      "[837] Training loss: 0.488\t Validation loss: 0.494\n",
      "Val Accuracy is: 0.9700000286102295\n",
      "[838] Training loss: 0.488\t Validation loss: 0.494\n",
      "Val Accuracy is: 0.9700000286102295\n",
      "[839] Training loss: 0.488\t Validation loss: 0.494\n",
      "Val Accuracy is: 0.9700000286102295\n",
      "[840] Training loss: 0.488\t Validation loss: 0.493\n",
      "Val Accuracy is: 0.9700000286102295\n",
      "[841] Training loss: 0.487\t Validation loss: 0.493\n",
      "Val Accuracy is: 0.9700000286102295\n",
      "[842] Training loss: 0.487\t Validation loss: 0.493\n",
      "Val Accuracy is: 0.9700000286102295\n",
      "[843] Training loss: 0.487\t Validation loss: 0.493\n",
      "Val Accuracy is: 0.9700000286102295\n",
      "[844] Training loss: 0.487\t Validation loss: 0.493\n",
      "Val Accuracy is: 0.9700000286102295\n",
      "[845] Training loss: 0.487\t Validation loss: 0.493\n",
      "Val Accuracy is: 0.9697500467300415\n",
      "[846] Training loss: 0.487\t Validation loss: 0.493\n",
      "Val Accuracy is: 0.9697500467300415\n",
      "[847] Training loss: 0.487\t Validation loss: 0.493\n",
      "Val Accuracy is: 0.9697500467300415\n",
      "[848] Training loss: 0.487\t Validation loss: 0.492\n",
      "Val Accuracy is: 0.9697500467300415\n",
      "[849] Training loss: 0.487\t Validation loss: 0.492\n",
      "Val Accuracy is: 0.9697500467300415\n",
      "[850] Training loss: 0.486\t Validation loss: 0.492\n",
      "Val Accuracy is: 0.9697500467300415\n",
      "[851] Training loss: 0.486\t Validation loss: 0.492\n",
      "Val Accuracy is: 0.9697500467300415\n",
      "[852] Training loss: 0.486\t Validation loss: 0.492\n",
      "Val Accuracy is: 0.9697500467300415\n",
      "[853] Training loss: 0.486\t Validation loss: 0.492\n",
      "Val Accuracy is: 0.9697500467300415\n",
      "[854] Training loss: 0.486\t Validation loss: 0.492\n",
      "Val Accuracy is: 0.9695000648498535\n",
      "[855] Training loss: 0.486\t Validation loss: 0.492\n",
      "Val Accuracy is: 0.9692500233650208\n",
      "[856] Training loss: 0.486\t Validation loss: 0.492\n",
      "Val Accuracy is: 0.9692500233650208\n",
      "[857] Training loss: 0.486\t Validation loss: 0.491\n",
      "Val Accuracy is: 0.9692500233650208\n",
      "[858] Training loss: 0.485\t Validation loss: 0.491\n",
      "Val Accuracy is: 0.9692500233650208\n",
      "[859] Training loss: 0.485\t Validation loss: 0.491\n",
      "Val Accuracy is: 0.9690000414848328\n",
      "[860] Training loss: 0.485\t Validation loss: 0.491\n",
      "Val Accuracy is: 0.9690000414848328\n",
      "[861] Training loss: 0.485\t Validation loss: 0.491\n",
      "Val Accuracy is: 0.9690000414848328\n",
      "[862] Training loss: 0.485\t Validation loss: 0.491\n",
      "Val Accuracy is: 0.9690000414848328\n",
      "[863] Training loss: 0.485\t Validation loss: 0.491\n",
      "Val Accuracy is: 0.9690000414848328\n",
      "[864] Training loss: 0.485\t Validation loss: 0.491\n",
      "Val Accuracy is: 0.9690000414848328\n",
      "[865] Training loss: 0.485\t Validation loss: 0.490\n",
      "Val Accuracy is: 0.9690000414848328\n",
      "[866] Training loss: 0.485\t Validation loss: 0.490\n",
      "Val Accuracy is: 0.9690000414848328\n",
      "[867] Training loss: 0.484\t Validation loss: 0.490\n",
      "Val Accuracy is: 0.9690000414848328\n",
      "[868] Training loss: 0.484\t Validation loss: 0.490\n",
      "Val Accuracy is: 0.9690000414848328\n",
      "[869] Training loss: 0.484\t Validation loss: 0.490\n",
      "Val Accuracy is: 0.9690000414848328\n",
      "[870] Training loss: 0.484\t Validation loss: 0.490\n",
      "Val Accuracy is: 0.9690000414848328\n",
      "[871] Training loss: 0.484\t Validation loss: 0.490\n",
      "Val Accuracy is: 0.9690000414848328\n",
      "[872] Training loss: 0.484\t Validation loss: 0.490\n",
      "Val Accuracy is: 0.9690000414848328\n",
      "[873] Training loss: 0.484\t Validation loss: 0.490\n",
      "Val Accuracy is: 0.9690000414848328\n",
      "[874] Training loss: 0.484\t Validation loss: 0.489\n",
      "Val Accuracy is: 0.9690000414848328\n",
      "[875] Training loss: 0.483\t Validation loss: 0.489\n",
      "Val Accuracy is: 0.9690000414848328\n",
      "[876] Training loss: 0.483\t Validation loss: 0.489\n",
      "Val Accuracy is: 0.9690000414848328\n",
      "[877] Training loss: 0.483\t Validation loss: 0.489\n",
      "Val Accuracy is: 0.9690000414848328\n",
      "[878] Training loss: 0.483\t Validation loss: 0.489\n",
      "Val Accuracy is: 0.9690000414848328\n",
      "[879] Training loss: 0.483\t Validation loss: 0.489\n",
      "Val Accuracy is: 0.9690000414848328\n",
      "[880] Training loss: 0.483\t Validation loss: 0.489\n",
      "Val Accuracy is: 0.9690000414848328\n",
      "[881] Training loss: 0.483\t Validation loss: 0.489\n",
      "Val Accuracy is: 0.9690000414848328\n",
      "[882] Training loss: 0.483\t Validation loss: 0.489\n",
      "Val Accuracy is: 0.9690000414848328\n",
      "[883] Training loss: 0.483\t Validation loss: 0.488\n",
      "Val Accuracy is: 0.9690000414848328\n",
      "[884] Training loss: 0.482\t Validation loss: 0.488\n",
      "Val Accuracy is: 0.9690000414848328\n",
      "[885] Training loss: 0.482\t Validation loss: 0.488\n",
      "Val Accuracy is: 0.9690000414848328\n",
      "[886] Training loss: 0.482\t Validation loss: 0.488\n",
      "Val Accuracy is: 0.9690000414848328\n",
      "[887] Training loss: 0.482\t Validation loss: 0.488\n",
      "Val Accuracy is: 0.9690000414848328\n",
      "[888] Training loss: 0.482\t Validation loss: 0.488\n",
      "Val Accuracy is: 0.9690000414848328\n",
      "[889] Training loss: 0.482\t Validation loss: 0.488\n",
      "Val Accuracy is: 0.9690000414848328\n",
      "[890] Training loss: 0.482\t Validation loss: 0.488\n",
      "Val Accuracy is: 0.9690000414848328\n",
      "[891] Training loss: 0.482\t Validation loss: 0.487\n",
      "Val Accuracy is: 0.9690000414848328\n",
      "[892] Training loss: 0.482\t Validation loss: 0.487\n",
      "Val Accuracy is: 0.9690000414848328\n",
      "[893] Training loss: 0.481\t Validation loss: 0.487\n",
      "Val Accuracy is: 0.9690000414848328\n",
      "[894] Training loss: 0.481\t Validation loss: 0.487\n",
      "Val Accuracy is: 0.9690000414848328\n",
      "[895] Training loss: 0.481\t Validation loss: 0.487\n",
      "Val Accuracy is: 0.9690000414848328\n",
      "[896] Training loss: 0.481\t Validation loss: 0.487\n",
      "Val Accuracy is: 0.9690000414848328\n",
      "[897] Training loss: 0.481\t Validation loss: 0.487\n",
      "Val Accuracy is: 0.9690000414848328\n",
      "[898] Training loss: 0.481\t Validation loss: 0.487\n",
      "Val Accuracy is: 0.9690000414848328\n",
      "[899] Training loss: 0.481\t Validation loss: 0.487\n",
      "Val Accuracy is: 0.9690000414848328\n",
      "[900] Training loss: 0.481\t Validation loss: 0.486\n",
      "Val Accuracy is: 0.9690000414848328\n",
      "[901] Training loss: 0.480\t Validation loss: 0.486\n",
      "Val Accuracy is: 0.9690000414848328\n",
      "[902] Training loss: 0.480\t Validation loss: 0.486\n",
      "Val Accuracy is: 0.9690000414848328\n",
      "[903] Training loss: 0.480\t Validation loss: 0.486\n",
      "Val Accuracy is: 0.9690000414848328\n",
      "[904] Training loss: 0.480\t Validation loss: 0.486\n",
      "Val Accuracy is: 0.9690000414848328\n",
      "[905] Training loss: 0.480\t Validation loss: 0.486\n",
      "Val Accuracy is: 0.9690000414848328\n",
      "[906] Training loss: 0.480\t Validation loss: 0.486\n",
      "Val Accuracy is: 0.9690000414848328\n",
      "[907] Training loss: 0.480\t Validation loss: 0.486\n",
      "Val Accuracy is: 0.9690000414848328\n",
      "[908] Training loss: 0.480\t Validation loss: 0.486\n",
      "Val Accuracy is: 0.9690000414848328\n",
      "[909] Training loss: 0.480\t Validation loss: 0.485\n",
      "Val Accuracy is: 0.9690000414848328\n",
      "[910] Training loss: 0.479\t Validation loss: 0.485\n",
      "Val Accuracy is: 0.9690000414848328\n",
      "[911] Training loss: 0.479\t Validation loss: 0.485\n",
      "Val Accuracy is: 0.9690000414848328\n",
      "[912] Training loss: 0.479\t Validation loss: 0.485\n",
      "Val Accuracy is: 0.9690000414848328\n",
      "[913] Training loss: 0.479\t Validation loss: 0.485\n",
      "Val Accuracy is: 0.9690000414848328\n",
      "[914] Training loss: 0.479\t Validation loss: 0.485\n",
      "Val Accuracy is: 0.9690000414848328\n",
      "[915] Training loss: 0.479\t Validation loss: 0.485\n",
      "Val Accuracy is: 0.9690000414848328\n",
      "[916] Training loss: 0.479\t Validation loss: 0.485\n",
      "Val Accuracy is: 0.9690000414848328\n",
      "[917] Training loss: 0.479\t Validation loss: 0.485\n",
      "Val Accuracy is: 0.9690000414848328\n",
      "[918] Training loss: 0.479\t Validation loss: 0.484\n",
      "Val Accuracy is: 0.9690000414848328\n",
      "[919] Training loss: 0.478\t Validation loss: 0.484\n",
      "Val Accuracy is: 0.9690000414848328\n",
      "[920] Training loss: 0.478\t Validation loss: 0.484\n",
      "Val Accuracy is: 0.9690000414848328\n",
      "[921] Training loss: 0.478\t Validation loss: 0.484\n",
      "Val Accuracy is: 0.9690000414848328\n",
      "[922] Training loss: 0.478\t Validation loss: 0.484\n",
      "Val Accuracy is: 0.9690000414848328\n",
      "[923] Training loss: 0.478\t Validation loss: 0.484\n",
      "Val Accuracy is: 0.9690000414848328\n",
      "[924] Training loss: 0.478\t Validation loss: 0.484\n",
      "Val Accuracy is: 0.9690000414848328\n",
      "[925] Training loss: 0.478\t Validation loss: 0.484\n",
      "Val Accuracy is: 0.9690000414848328\n",
      "[926] Training loss: 0.478\t Validation loss: 0.484\n",
      "Val Accuracy is: 0.9690000414848328\n",
      "[927] Training loss: 0.478\t Validation loss: 0.483\n",
      "Val Accuracy is: 0.9690000414848328\n",
      "[928] Training loss: 0.477\t Validation loss: 0.483\n",
      "Val Accuracy is: 0.9690000414848328\n",
      "[929] Training loss: 0.477\t Validation loss: 0.483\n",
      "Val Accuracy is: 0.9690000414848328\n",
      "[930] Training loss: 0.477\t Validation loss: 0.483\n",
      "Val Accuracy is: 0.9690000414848328\n",
      "[931] Training loss: 0.477\t Validation loss: 0.483\n",
      "Val Accuracy is: 0.9690000414848328\n",
      "[932] Training loss: 0.477\t Validation loss: 0.483\n",
      "Val Accuracy is: 0.9690000414848328\n",
      "[933] Training loss: 0.477\t Validation loss: 0.483\n",
      "Val Accuracy is: 0.9690000414848328\n",
      "[934] Training loss: 0.477\t Validation loss: 0.483\n",
      "Val Accuracy is: 0.9690000414848328\n",
      "[935] Training loss: 0.477\t Validation loss: 0.483\n",
      "Val Accuracy is: 0.9690000414848328\n",
      "[936] Training loss: 0.477\t Validation loss: 0.482\n",
      "Val Accuracy is: 0.9690000414848328\n",
      "[937] Training loss: 0.476\t Validation loss: 0.482\n",
      "Val Accuracy is: 0.9690000414848328\n",
      "[938] Training loss: 0.476\t Validation loss: 0.482\n",
      "Val Accuracy is: 0.9690000414848328\n",
      "[939] Training loss: 0.476\t Validation loss: 0.482\n",
      "Val Accuracy is: 0.9690000414848328\n",
      "[940] Training loss: 0.476\t Validation loss: 0.482\n",
      "Val Accuracy is: 0.9690000414848328\n",
      "[941] Training loss: 0.476\t Validation loss: 0.482\n",
      "Val Accuracy is: 0.9690000414848328\n",
      "[942] Training loss: 0.476\t Validation loss: 0.482\n",
      "Val Accuracy is: 0.9690000414848328\n"
     ]
    },
    {
     "name": "stdout",
     "output_type": "stream",
     "text": [
      "[943] Training loss: 0.476\t Validation loss: 0.482\n",
      "Val Accuracy is: 0.9690000414848328\n",
      "[944] Training loss: 0.476\t Validation loss: 0.482\n",
      "Val Accuracy is: 0.9690000414848328\n",
      "[945] Training loss: 0.476\t Validation loss: 0.482\n",
      "Val Accuracy is: 0.9690000414848328\n",
      "[946] Training loss: 0.476\t Validation loss: 0.481\n",
      "Val Accuracy is: 0.9690000414848328\n",
      "[947] Training loss: 0.475\t Validation loss: 0.481\n",
      "Val Accuracy is: 0.9690000414848328\n",
      "[948] Training loss: 0.475\t Validation loss: 0.481\n",
      "Val Accuracy is: 0.9690000414848328\n",
      "[949] Training loss: 0.475\t Validation loss: 0.481\n",
      "Val Accuracy is: 0.9690000414848328\n",
      "[950] Training loss: 0.475\t Validation loss: 0.481\n",
      "Val Accuracy is: 0.9690000414848328\n",
      "[951] Training loss: 0.475\t Validation loss: 0.481\n",
      "Val Accuracy is: 0.9690000414848328\n",
      "[952] Training loss: 0.475\t Validation loss: 0.481\n",
      "Val Accuracy is: 0.9690000414848328\n",
      "[953] Training loss: 0.475\t Validation loss: 0.481\n",
      "Val Accuracy is: 0.9690000414848328\n",
      "[954] Training loss: 0.475\t Validation loss: 0.481\n",
      "Val Accuracy is: 0.9690000414848328\n",
      "[955] Training loss: 0.475\t Validation loss: 0.480\n",
      "Val Accuracy is: 0.9690000414848328\n",
      "[956] Training loss: 0.474\t Validation loss: 0.480\n",
      "Val Accuracy is: 0.9690000414848328\n",
      "[957] Training loss: 0.474\t Validation loss: 0.480\n",
      "Val Accuracy is: 0.9690000414848328\n",
      "[958] Training loss: 0.474\t Validation loss: 0.480\n",
      "Val Accuracy is: 0.9690000414848328\n",
      "[959] Training loss: 0.474\t Validation loss: 0.480\n",
      "Val Accuracy is: 0.9690000414848328\n",
      "[960] Training loss: 0.474\t Validation loss: 0.480\n",
      "Val Accuracy is: 0.9690000414848328\n",
      "[961] Training loss: 0.474\t Validation loss: 0.480\n",
      "Val Accuracy is: 0.9690000414848328\n",
      "[962] Training loss: 0.474\t Validation loss: 0.480\n",
      "Val Accuracy is: 0.9690000414848328\n",
      "[963] Training loss: 0.474\t Validation loss: 0.480\n",
      "Val Accuracy is: 0.9690000414848328\n",
      "[964] Training loss: 0.474\t Validation loss: 0.479\n",
      "Val Accuracy is: 0.9690000414848328\n",
      "[965] Training loss: 0.473\t Validation loss: 0.479\n",
      "Val Accuracy is: 0.9690000414848328\n",
      "[966] Training loss: 0.473\t Validation loss: 0.479\n",
      "Val Accuracy is: 0.9690000414848328\n",
      "[967] Training loss: 0.473\t Validation loss: 0.479\n",
      "Val Accuracy is: 0.9690000414848328\n",
      "[968] Training loss: 0.473\t Validation loss: 0.479\n",
      "Val Accuracy is: 0.9690000414848328\n",
      "[969] Training loss: 0.473\t Validation loss: 0.479\n",
      "Val Accuracy is: 0.9690000414848328\n",
      "[970] Training loss: 0.473\t Validation loss: 0.479\n",
      "Val Accuracy is: 0.9690000414848328\n",
      "[971] Training loss: 0.473\t Validation loss: 0.479\n",
      "Val Accuracy is: 0.9690000414848328\n",
      "[972] Training loss: 0.473\t Validation loss: 0.479\n",
      "Val Accuracy is: 0.9690000414848328\n",
      "[973] Training loss: 0.473\t Validation loss: 0.479\n",
      "Val Accuracy is: 0.9690000414848328\n",
      "[974] Training loss: 0.473\t Validation loss: 0.478\n",
      "Val Accuracy is: 0.9690000414848328\n",
      "[975] Training loss: 0.472\t Validation loss: 0.478\n",
      "Val Accuracy is: 0.9690000414848328\n",
      "[976] Training loss: 0.472\t Validation loss: 0.478\n",
      "Val Accuracy is: 0.9690000414848328\n",
      "[977] Training loss: 0.472\t Validation loss: 0.478\n",
      "Val Accuracy is: 0.9690000414848328\n",
      "[978] Training loss: 0.472\t Validation loss: 0.478\n",
      "Val Accuracy is: 0.9690000414848328\n",
      "[979] Training loss: 0.472\t Validation loss: 0.478\n",
      "Val Accuracy is: 0.9690000414848328\n",
      "[980] Training loss: 0.472\t Validation loss: 0.478\n",
      "Val Accuracy is: 0.9690000414848328\n",
      "[981] Training loss: 0.472\t Validation loss: 0.478\n",
      "Val Accuracy is: 0.9690000414848328\n",
      "[982] Training loss: 0.472\t Validation loss: 0.478\n",
      "Val Accuracy is: 0.9690000414848328\n",
      "[983] Training loss: 0.472\t Validation loss: 0.478\n",
      "Val Accuracy is: 0.9690000414848328\n",
      "[984] Training loss: 0.472\t Validation loss: 0.477\n",
      "Val Accuracy is: 0.9690000414848328\n",
      "[985] Training loss: 0.471\t Validation loss: 0.477\n",
      "Val Accuracy is: 0.9690000414848328\n",
      "[986] Training loss: 0.471\t Validation loss: 0.477\n",
      "Val Accuracy is: 0.9690000414848328\n",
      "[987] Training loss: 0.471\t Validation loss: 0.477\n",
      "Val Accuracy is: 0.9690000414848328\n",
      "[988] Training loss: 0.471\t Validation loss: 0.477\n",
      "Val Accuracy is: 0.9690000414848328\n",
      "[989] Training loss: 0.471\t Validation loss: 0.477\n",
      "Val Accuracy is: 0.9690000414848328\n",
      "[990] Training loss: 0.471\t Validation loss: 0.477\n",
      "Val Accuracy is: 0.9690000414848328\n",
      "[991] Training loss: 0.471\t Validation loss: 0.477\n",
      "Val Accuracy is: 0.9690000414848328\n",
      "[992] Training loss: 0.471\t Validation loss: 0.477\n",
      "Val Accuracy is: 0.9690000414848328\n",
      "[993] Training loss: 0.471\t Validation loss: 0.476\n",
      "Val Accuracy is: 0.9690000414848328\n",
      "[994] Training loss: 0.470\t Validation loss: 0.476\n",
      "Val Accuracy is: 0.9690000414848328\n",
      "[995] Training loss: 0.470\t Validation loss: 0.476\n",
      "Val Accuracy is: 0.9690000414848328\n",
      "[996] Training loss: 0.470\t Validation loss: 0.476\n",
      "Val Accuracy is: 0.9690000414848328\n",
      "[997] Training loss: 0.470\t Validation loss: 0.476\n",
      "Val Accuracy is: 0.9690000414848328\n",
      "[998] Training loss: 0.470\t Validation loss: 0.476\n",
      "Val Accuracy is: 0.9692500233650208\n",
      "[999] Training loss: 0.470\t Validation loss: 0.476\n",
      "Val Accuracy is: 0.9692500233650208\n",
      "[1000] Training loss: 0.470\t Validation loss: 0.476\n"
     ]
    }
   ],
   "source": [
    "\n",
    "train_loader, val_loader = make_loader([X,h], Y, int(len(graphdatabase.graphlabels)), .2)\n",
    "training_losses, validation_losses = train_model(net, device, train_step, 1000, train_loader, val_loader)\n",
    "validation_loss = min(validation_losses)\n",
    "training_loss = training_losses[np.argmin(validation_loss)]\n",
    "# histories[n_samples] = {\"loss\": training_losses, \"val_loss\" :validation_losses}"
   ]
  },
  {
   "cell_type": "code",
   "execution_count": null,
   "metadata": {},
   "outputs": [],
   "source": []
  },
  {
   "cell_type": "code",
   "execution_count": null,
   "metadata": {},
   "outputs": [],
   "source": []
  }
 ],
 "metadata": {
  "kernelspec": {
   "display_name": "Python 3",
   "language": "python",
   "name": "python3"
  },
  "language_info": {
   "codemirror_mode": {
    "name": "ipython",
    "version": 3
   },
   "file_extension": ".py",
   "mimetype": "text/x-python",
   "name": "python",
   "nbconvert_exporter": "python",
   "pygments_lexer": "ipython3",
   "version": "3.7.3"
  }
 },
 "nbformat": 4,
 "nbformat_minor": 2
}
